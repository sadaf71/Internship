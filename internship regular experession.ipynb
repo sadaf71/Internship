{
 "cells": [
  {
   "cell_type": "code",
   "execution_count": 1,
   "id": "f2a4560b",
   "metadata": {},
   "outputs": [],
   "source": [
    "import re"
   ]
  },
  {
   "cell_type": "markdown",
   "id": "d3f4144a",
   "metadata": {},
   "source": [
    "Question 1- Write a RegEx pattern in python program to check that a string contains only a certain set of characters (in this case a-z, A-Z and 0-9)."
   ]
  },
  {
   "cell_type": "code",
   "execution_count": 4,
   "id": "e06cd816",
   "metadata": {},
   "outputs": [
    {
     "name": "stdout",
     "output_type": "stream",
     "text": [
      "['A', 'D', 'F', 'G', 'F', 'G', 'a', 'b', 'c', 'd', 'f', 'g', '0', '1', '2', '3', '4', '5', '5', '6', '7']\n"
     ]
    }
   ],
   "source": [
    "\n",
    "txt=\"ADFGFG abcdfg 012345567\"\n",
    "x= re.findall(\"[a-zA-Z0-9]\",txt)\n",
    "print(x)"
   ]
  },
  {
   "cell_type": "markdown",
   "id": "f0ca1db0",
   "metadata": {},
   "source": [
    "Question 2- Write a RegEx pattern that matches a string that has an a followed by zero or more b's"
   ]
  },
  {
   "cell_type": "code",
   "execution_count": 14,
   "id": "41b12664",
   "metadata": {},
   "outputs": [
    {
     "name": "stdout",
     "output_type": "stream",
     "text": [
      "found\n",
      "not found\n",
      "found\n"
     ]
    }
   ],
   "source": [
    "def alpha(txt):\n",
    "    x=\"ab*\"\n",
    "    if re.search(x,txt):\n",
    "        return \"found\"\n",
    "    else:\n",
    "        return \"not found\"\n",
    "print(alpha(\"abbbbb\"))\n",
    "print(alpha('fgdsc'))\n",
    "print(alpha('abberr'))"
   ]
  },
  {
   "cell_type": "markdown",
   "id": "18d5e8e5",
   "metadata": {},
   "source": [
    "Question 3-  Write a RegEx pattern that matches a string that has an a followed by one or more b's"
   ]
  },
  {
   "cell_type": "code",
   "execution_count": 15,
   "id": "88ee3fab",
   "metadata": {},
   "outputs": [
    {
     "name": "stdout",
     "output_type": "stream",
     "text": [
      "found\n",
      "not found\n",
      "found\n"
     ]
    }
   ],
   "source": [
    "def alpha(txt):\n",
    "    x=\"ab+\"\n",
    "    if re.search(x,txt):\n",
    "        return \"found\"\n",
    "    else:\n",
    "        return \"not found\"\n",
    "print(alpha(\"abbbbb\"))\n",
    "print(alpha('fgdsc'))\n",
    "print(alpha('abberr'))"
   ]
  },
  {
   "cell_type": "markdown",
   "id": "ab05c532",
   "metadata": {},
   "source": [
    "Question 4- Write a RegEx pattern that matches a string that has an a followed by zero or one 'b'."
   ]
  },
  {
   "cell_type": "code",
   "execution_count": 16,
   "id": "d1a92b42",
   "metadata": {},
   "outputs": [
    {
     "name": "stdout",
     "output_type": "stream",
     "text": [
      "found\n",
      "not found\n",
      "found\n"
     ]
    }
   ],
   "source": [
    "def alpha(txt):\n",
    "    x=\"ab?\"\n",
    "    if re.search(x,txt):\n",
    "        return \"found\"\n",
    "    else:\n",
    "        return \"not found\"\n",
    "print(alpha(\"abbbbb\"))\n",
    "print(alpha('fgdsc'))\n",
    "print(alpha('abberr'))"
   ]
  },
  {
   "cell_type": "markdown",
   "id": "51904b67",
   "metadata": {},
   "source": [
    "Question 5- Write a RegEx pattern in python program that matches a string that has an a followed by three 'b'."
   ]
  },
  {
   "cell_type": "code",
   "execution_count": 17,
   "id": "c74d9e44",
   "metadata": {},
   "outputs": [
    {
     "name": "stdout",
     "output_type": "stream",
     "text": [
      "found\n",
      "not found\n",
      "not found\n"
     ]
    }
   ],
   "source": [
    "def alpha(txt):\n",
    "    x=\"ab{3}\"\n",
    "    if re.search(x,txt):\n",
    "        return \"found\"\n",
    "    else:\n",
    "        return \"not found\"\n",
    "print(alpha(\"abbbbb\"))\n",
    "print(alpha('fgdsc'))\n",
    "print(alpha('abberr'))"
   ]
  },
  {
   "cell_type": "markdown",
   "id": "be018ae7",
   "metadata": {},
   "source": [
    "Question 6- Write a RegEx pattern in python program that matches a string that has an a followed by two to three 'b'."
   ]
  },
  {
   "cell_type": "code",
   "execution_count": 18,
   "id": "62c80043",
   "metadata": {},
   "outputs": [
    {
     "name": "stdout",
     "output_type": "stream",
     "text": [
      "found\n",
      "not found\n",
      "found\n"
     ]
    }
   ],
   "source": [
    "def alpha(txt):\n",
    "    x=\"ab{2,3}\"\n",
    "    if re.search(x,txt):\n",
    "        return \"found\"\n",
    "    else:\n",
    "        return \"not found\"\n",
    "print(alpha(\"abbbbb\"))\n",
    "print(alpha('fgdsc'))\n",
    "print(alpha('abberr'))"
   ]
  },
  {
   "cell_type": "markdown",
   "id": "39897289",
   "metadata": {},
   "source": [
    "Question 7- Write a Python program that matches a string that has an 'a' followed by anything, ending in 'b'."
   ]
  },
  {
   "cell_type": "code",
   "execution_count": 23,
   "id": "c151aab9",
   "metadata": {},
   "outputs": [
    {
     "name": "stdout",
     "output_type": "stream",
     "text": [
      "found\n",
      "not found\n",
      "not found\n"
     ]
    }
   ],
   "source": [
    "def alpha(txt):\n",
    "    x=\"a.*?b$\"\n",
    "    if re.search(x,txt):\n",
    "        return \"found\"\n",
    "    else:\n",
    "        return \"not found\"\n",
    "print(alpha(\"abbbbb\"))\n",
    "print(alpha('afgdsc'))\n",
    "print(alpha('abberr'))"
   ]
  },
  {
   "cell_type": "markdown",
   "id": "cc55661f",
   "metadata": {},
   "source": [
    "Question 8- Write a RegEx pattern in python program that matches a word at the beginning of a string."
   ]
  },
  {
   "cell_type": "code",
   "execution_count": 22,
   "id": "68562e01",
   "metadata": {},
   "outputs": [
    {
     "name": "stdout",
     "output_type": "stream",
     "text": [
      "Found a match!\n",
      "Not matched!\n"
     ]
    }
   ],
   "source": [
    "def text_match(text):\n",
    "        patterns = '^\\w+'\n",
    "        if re.search(patterns,  text):\n",
    "                return 'Found a match!'\n",
    "        else:\n",
    "                return('Not matched!')\n",
    "\n",
    "print(text_match(\"The quick brown fox jumps over the lazy dog.\"))\n",
    "print(text_match(\" The quick brown fox jumps over the lazy dog.\"))"
   ]
  },
  {
   "cell_type": "markdown",
   "id": "b721d2f5",
   "metadata": {},
   "source": [
    "Question 9- Write a RegEx pattern in python program that matches a word at the end of a string."
   ]
  },
  {
   "cell_type": "code",
   "execution_count": 24,
   "id": "488ee2b4",
   "metadata": {},
   "outputs": [
    {
     "name": "stdout",
     "output_type": "stream",
     "text": [
      "Found a match!\n",
      "Not matched!\n",
      "Not matched!\n"
     ]
    }
   ],
   "source": [
    "def text_match(text):\n",
    "        patterns = '\\w+\\S*$'\n",
    "        if re.search(patterns,  text):\n",
    "                return 'Found a match!'\n",
    "        else:\n",
    "                return('Not matched!')\n",
    "\n",
    "print(text_match(\"The quick brown fox jumps over the lazy dog.\"))\n",
    "print(text_match(\"The quick brown fox jumps over the lazy dog. \"))\n",
    "print(text_match(\"The quick brown fox jumps over the lazy dog \"))"
   ]
  },
  {
   "cell_type": "markdown",
   "id": "24661685",
   "metadata": {},
   "source": [
    "Question 10- Write a RegEx pattern in python program to find all words that are 4 digits long in a string.\n",
    "Sample text- '01 0132 231875 1458 301 2725.'\n",
    "Expected output- ['0132', '1458', '2725']"
   ]
  },
  {
   "cell_type": "code",
   "execution_count": 30,
   "id": "88f9d0c8",
   "metadata": {},
   "outputs": [
    {
     "name": "stdout",
     "output_type": "stream",
     "text": [
      "['0132', '1458', '2725']\n"
     ]
    }
   ],
   "source": [
    "import re\n",
    "text = \"01 0132 231875 1458 301 2725.\"\n",
    "print(re.findall(r\"\\b\\w{4}\\b\", text))"
   ]
  },
  {
   "cell_type": "code",
   "execution_count": null,
   "id": "7e384b99",
   "metadata": {},
   "outputs": [],
   "source": []
  }
 ],
 "metadata": {
  "kernelspec": {
   "display_name": "Python 3 (ipykernel)",
   "language": "python",
   "name": "python3"
  },
  "language_info": {
   "codemirror_mode": {
    "name": "ipython",
    "version": 3
   },
   "file_extension": ".py",
   "mimetype": "text/x-python",
   "name": "python",
   "nbconvert_exporter": "python",
   "pygments_lexer": "ipython3",
   "version": "3.9.13"
  }
 },
 "nbformat": 4,
 "nbformat_minor": 5
}
