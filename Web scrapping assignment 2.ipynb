{
 "cells": [
  {
   "cell_type": "code",
   "execution_count": 1,
   "id": "07d9186f",
   "metadata": {},
   "outputs": [
    {
     "name": "stdout",
     "output_type": "stream",
     "text": [
      "Defaulting to user installation because normal site-packages is not writeable\n",
      "Collecting Selenium\n",
      "  Downloading selenium-4.11.2-py3-none-any.whl (7.2 MB)\n",
      "     ---------------------------------------- 7.2/7.2 MB 1.1 MB/s eta 0:00:00\n",
      "Collecting trio-websocket~=0.9\n",
      "  Downloading trio_websocket-0.10.3-py3-none-any.whl (17 kB)\n",
      "Requirement already satisfied: urllib3[socks]<3,>=1.26 in c:\\new folder\\lib\\site-packages (from Selenium) (1.26.11)\n",
      "Requirement already satisfied: certifi>=2021.10.8 in c:\\new folder\\lib\\site-packages (from Selenium) (2022.9.14)\n",
      "Collecting trio~=0.17\n",
      "  Downloading trio-0.22.2-py3-none-any.whl (400 kB)\n",
      "     ------------------------------------ 400.2/400.2 kB 755.8 kB/s eta 0:00:00\n",
      "Requirement already satisfied: attrs>=20.1.0 in c:\\new folder\\lib\\site-packages (from trio~=0.17->Selenium) (21.4.0)\n",
      "Requirement already satisfied: cffi>=1.14 in c:\\new folder\\lib\\site-packages (from trio~=0.17->Selenium) (1.15.1)\n",
      "Requirement already satisfied: idna in c:\\new folder\\lib\\site-packages (from trio~=0.17->Selenium) (3.3)\n",
      "Requirement already satisfied: sniffio in c:\\new folder\\lib\\site-packages (from trio~=0.17->Selenium) (1.2.0)\n",
      "Collecting outcome\n",
      "  Downloading outcome-1.2.0-py2.py3-none-any.whl (9.7 kB)\n",
      "Requirement already satisfied: sortedcontainers in c:\\new folder\\lib\\site-packages (from trio~=0.17->Selenium) (2.4.0)\n",
      "Collecting exceptiongroup>=1.0.0rc9\n",
      "  Downloading exceptiongroup-1.1.3-py3-none-any.whl (14 kB)\n",
      "Collecting wsproto>=0.14\n",
      "  Downloading wsproto-1.2.0-py3-none-any.whl (24 kB)\n",
      "Requirement already satisfied: PySocks!=1.5.7,<2.0,>=1.5.6 in c:\\new folder\\lib\\site-packages (from urllib3[socks]<3,>=1.26->Selenium) (1.7.1)\n",
      "Requirement already satisfied: pycparser in c:\\new folder\\lib\\site-packages (from cffi>=1.14->trio~=0.17->Selenium) (2.21)\n",
      "Collecting h11<1,>=0.9.0\n",
      "  Downloading h11-0.14.0-py3-none-any.whl (58 kB)\n",
      "     -------------------------------------- 58.3/58.3 kB 615.6 kB/s eta 0:00:00\n",
      "Installing collected packages: outcome, h11, exceptiongroup, wsproto, trio, trio-websocket, Selenium\n",
      "Successfully installed Selenium-4.11.2 exceptiongroup-1.1.3 h11-0.14.0 outcome-1.2.0 trio-0.22.2 trio-websocket-0.10.3 wsproto-1.2.0\n"
     ]
    }
   ],
   "source": [
    "!pip install selenium"
   ]
  },
  {
   "cell_type": "code",
   "execution_count": 2,
   "id": "eac67a7b",
   "metadata": {},
   "outputs": [],
   "source": [
    "import pandas as pd\n",
    "import selenium\n",
    "from selenium import webdriver\n",
    "from selenium.webdriver.common.by import By\n",
    "import warnings\n",
    "warnings.filterwarnings('ignore')\n",
    "import time"
   ]
  },
  {
   "cell_type": "markdown",
   "id": "26353e8b",
   "metadata": {},
   "source": [
    "Q1: Write a python program to scrape data for “Data Analyst” Job position in “Bangalore” location. You\n",
    "have to scrape the job-title, job-location, company_name, experience_required. You have to scrape first 10\n",
    "jobs data.\n",
    "This task will be done in following steps:\n",
    "1. First get the webpage https://www.shine.com/\n",
    "2. Enter “Data Analyst” in “Job title, Skills” field and enter “Bangalore” in “enter the location” field.\n",
    "3. Then click the searchbutton.\n",
    "4. Then scrape the data for the first 10 jobs results you get.\n",
    "5. Finally create a dataframe of the scraped data.\n",
    "Note: All of the above steps have to be done in code. No step is to be done manually."
   ]
  },
  {
   "cell_type": "code",
   "execution_count": 61,
   "id": "f8d73d0f",
   "metadata": {},
   "outputs": [],
   "source": [
    "driver=webdriver.Chrome()\n",
    "driver.get('https://www.shine.com/')"
   ]
  },
  {
   "cell_type": "code",
   "execution_count": 62,
   "id": "00091589",
   "metadata": {},
   "outputs": [],
   "source": [
    "title=driver.find_element(By.CLASS_NAME,'searchBarInput')\n",
    "title.send_keys('Data Analyst')"
   ]
  },
  {
   "cell_type": "code",
   "execution_count": 63,
   "id": "994e66ab",
   "metadata": {},
   "outputs": [],
   "source": [
    "designation=driver.find_element(By.CLASS_NAME,'form-control ')\n",
    "designation.send_keys('Data Analyst')"
   ]
  },
  {
   "cell_type": "code",
   "execution_count": 64,
   "id": "ada12bb9",
   "metadata": {},
   "outputs": [],
   "source": [
    "location=driver.find_element(By.XPATH,'/html/body/div[1]/div[4]/div/div[2]/div[2]/div/form/div/div[1]/ul/li[2]/div/input')\n",
    "location.send_keys('Bangalore')"
   ]
  },
  {
   "cell_type": "code",
   "execution_count": 65,
   "id": "dfab51a8",
   "metadata": {},
   "outputs": [
    {
     "data": {
      "text/plain": [
       "<selenium.webdriver.remote.webelement.WebElement (session=\"d0e51060d87802dafd7db09687723cf4\", element=\"1B5979D7509BC0A7D7322B34C47FB33E_element_162\")>"
      ]
     },
     "execution_count": 65,
     "metadata": {},
     "output_type": "execute_result"
    }
   ],
   "source": [
    "search_btn= driver .find_element(By.XPATH,'//button[@class=\" btn btn-secondary undefined\"]')\n",
    "search_btn"
   ]
  },
  {
   "cell_type": "code",
   "execution_count": 66,
   "id": "f5d9ef6c",
   "metadata": {},
   "outputs": [],
   "source": [
    "search_btn=driver.find_element(By.CLASS_NAME,'searchForm_btnWrap__Cb75F')\n",
    "search_btn.click()"
   ]
  },
  {
   "cell_type": "code",
   "execution_count": 69,
   "id": "40306f1b",
   "metadata": {},
   "outputs": [
    {
     "data": {
      "text/plain": [
       "[<selenium.webdriver.remote.webelement.WebElement (session=\"d0e51060d87802dafd7db09687723cf4\", element=\"E30D4AC2C0E62C7C5A48DADA4EDAF6AB_element_294\")>,\n",
       " <selenium.webdriver.remote.webelement.WebElement (session=\"d0e51060d87802dafd7db09687723cf4\", element=\"E30D4AC2C0E62C7C5A48DADA4EDAF6AB_element_383\")>,\n",
       " <selenium.webdriver.remote.webelement.WebElement (session=\"d0e51060d87802dafd7db09687723cf4\", element=\"E30D4AC2C0E62C7C5A48DADA4EDAF6AB_element_384\")>,\n",
       " <selenium.webdriver.remote.webelement.WebElement (session=\"d0e51060d87802dafd7db09687723cf4\", element=\"E30D4AC2C0E62C7C5A48DADA4EDAF6AB_element_385\")>,\n",
       " <selenium.webdriver.remote.webelement.WebElement (session=\"d0e51060d87802dafd7db09687723cf4\", element=\"E30D4AC2C0E62C7C5A48DADA4EDAF6AB_element_386\")>,\n",
       " <selenium.webdriver.remote.webelement.WebElement (session=\"d0e51060d87802dafd7db09687723cf4\", element=\"E30D4AC2C0E62C7C5A48DADA4EDAF6AB_element_387\")>,\n",
       " <selenium.webdriver.remote.webelement.WebElement (session=\"d0e51060d87802dafd7db09687723cf4\", element=\"E30D4AC2C0E62C7C5A48DADA4EDAF6AB_element_388\")>,\n",
       " <selenium.webdriver.remote.webelement.WebElement (session=\"d0e51060d87802dafd7db09687723cf4\", element=\"E30D4AC2C0E62C7C5A48DADA4EDAF6AB_element_389\")>,\n",
       " <selenium.webdriver.remote.webelement.WebElement (session=\"d0e51060d87802dafd7db09687723cf4\", element=\"E30D4AC2C0E62C7C5A48DADA4EDAF6AB_element_390\")>,\n",
       " <selenium.webdriver.remote.webelement.WebElement (session=\"d0e51060d87802dafd7db09687723cf4\", element=\"E30D4AC2C0E62C7C5A48DADA4EDAF6AB_element_391\")>,\n",
       " <selenium.webdriver.remote.webelement.WebElement (session=\"d0e51060d87802dafd7db09687723cf4\", element=\"E30D4AC2C0E62C7C5A48DADA4EDAF6AB_element_392\")>,\n",
       " <selenium.webdriver.remote.webelement.WebElement (session=\"d0e51060d87802dafd7db09687723cf4\", element=\"E30D4AC2C0E62C7C5A48DADA4EDAF6AB_element_393\")>,\n",
       " <selenium.webdriver.remote.webelement.WebElement (session=\"d0e51060d87802dafd7db09687723cf4\", element=\"E30D4AC2C0E62C7C5A48DADA4EDAF6AB_element_394\")>,\n",
       " <selenium.webdriver.remote.webelement.WebElement (session=\"d0e51060d87802dafd7db09687723cf4\", element=\"E30D4AC2C0E62C7C5A48DADA4EDAF6AB_element_395\")>,\n",
       " <selenium.webdriver.remote.webelement.WebElement (session=\"d0e51060d87802dafd7db09687723cf4\", element=\"E30D4AC2C0E62C7C5A48DADA4EDAF6AB_element_396\")>,\n",
       " <selenium.webdriver.remote.webelement.WebElement (session=\"d0e51060d87802dafd7db09687723cf4\", element=\"E30D4AC2C0E62C7C5A48DADA4EDAF6AB_element_397\")>,\n",
       " <selenium.webdriver.remote.webelement.WebElement (session=\"d0e51060d87802dafd7db09687723cf4\", element=\"E30D4AC2C0E62C7C5A48DADA4EDAF6AB_element_398\")>,\n",
       " <selenium.webdriver.remote.webelement.WebElement (session=\"d0e51060d87802dafd7db09687723cf4\", element=\"E30D4AC2C0E62C7C5A48DADA4EDAF6AB_element_399\")>,\n",
       " <selenium.webdriver.remote.webelement.WebElement (session=\"d0e51060d87802dafd7db09687723cf4\", element=\"E30D4AC2C0E62C7C5A48DADA4EDAF6AB_element_400\")>,\n",
       " <selenium.webdriver.remote.webelement.WebElement (session=\"d0e51060d87802dafd7db09687723cf4\", element=\"E30D4AC2C0E62C7C5A48DADA4EDAF6AB_element_401\")>]"
      ]
     },
     "execution_count": 69,
     "metadata": {},
     "output_type": "execute_result"
    }
   ],
   "source": [
    "title_tag=driver.find_elements(By.XPATH,'//h2[@itemprop=\"name\"]')\n",
    "title_tag"
   ]
  },
  {
   "cell_type": "code",
   "execution_count": 70,
   "id": "88813af5",
   "metadata": {},
   "outputs": [
    {
     "data": {
      "text/plain": [
       "['Project Coordinator (Data Analyst)',\n",
       " 'Data Analyst - Java/Python',\n",
       " 'Hiring For Data Analyst',\n",
       " 'Senior Data Analyst',\n",
       " 'Data Analyst',\n",
       " 'Data Analyst Urgent Recruiment',\n",
       " 'Apply Now a Data Analyst',\n",
       " 'Apply Now Data Analyst',\n",
       " 'Needed for Data Analyst',\n",
       " 'Urgently need a Data Analyst']"
      ]
     },
     "execution_count": 70,
     "metadata": {},
     "output_type": "execute_result"
    }
   ],
   "source": [
    "job1_titles=[]\n",
    "for i in title_tag:\n",
    "    if i.text is None:\n",
    "        job1_titles.append('Not')\n",
    "    else:\n",
    "        job1_titles.append(i.text)\n",
    "job1_titles[:10]        "
   ]
  },
  {
   "cell_type": "code",
   "execution_count": 78,
   "id": "33dabe88",
   "metadata": {},
   "outputs": [
    {
     "data": {
      "text/plain": [
       "[<selenium.webdriver.remote.webelement.WebElement (session=\"d0e51060d87802dafd7db09687723cf4\", element=\"E30D4AC2C0E62C7C5A48DADA4EDAF6AB_element_865\")>,\n",
       " <selenium.webdriver.remote.webelement.WebElement (session=\"d0e51060d87802dafd7db09687723cf4\", element=\"E30D4AC2C0E62C7C5A48DADA4EDAF6AB_element_935\")>,\n",
       " <selenium.webdriver.remote.webelement.WebElement (session=\"d0e51060d87802dafd7db09687723cf4\", element=\"E30D4AC2C0E62C7C5A48DADA4EDAF6AB_element_970\")>,\n",
       " <selenium.webdriver.remote.webelement.WebElement (session=\"d0e51060d87802dafd7db09687723cf4\", element=\"E30D4AC2C0E62C7C5A48DADA4EDAF6AB_element_989\")>,\n",
       " <selenium.webdriver.remote.webelement.WebElement (session=\"d0e51060d87802dafd7db09687723cf4\", element=\"E30D4AC2C0E62C7C5A48DADA4EDAF6AB_element_1008\")>,\n",
       " <selenium.webdriver.remote.webelement.WebElement (session=\"d0e51060d87802dafd7db09687723cf4\", element=\"E30D4AC2C0E62C7C5A48DADA4EDAF6AB_element_1012\")>,\n",
       " <selenium.webdriver.remote.webelement.WebElement (session=\"d0e51060d87802dafd7db09687723cf4\", element=\"E30D4AC2C0E62C7C5A48DADA4EDAF6AB_element_1013\")>,\n",
       " <selenium.webdriver.remote.webelement.WebElement (session=\"d0e51060d87802dafd7db09687723cf4\", element=\"E30D4AC2C0E62C7C5A48DADA4EDAF6AB_element_1014\")>,\n",
       " <selenium.webdriver.remote.webelement.WebElement (session=\"d0e51060d87802dafd7db09687723cf4\", element=\"E30D4AC2C0E62C7C5A48DADA4EDAF6AB_element_1015\")>,\n",
       " <selenium.webdriver.remote.webelement.WebElement (session=\"d0e51060d87802dafd7db09687723cf4\", element=\"E30D4AC2C0E62C7C5A48DADA4EDAF6AB_element_1016\")>,\n",
       " <selenium.webdriver.remote.webelement.WebElement (session=\"d0e51060d87802dafd7db09687723cf4\", element=\"E30D4AC2C0E62C7C5A48DADA4EDAF6AB_element_1017\")>,\n",
       " <selenium.webdriver.remote.webelement.WebElement (session=\"d0e51060d87802dafd7db09687723cf4\", element=\"E30D4AC2C0E62C7C5A48DADA4EDAF6AB_element_1018\")>,\n",
       " <selenium.webdriver.remote.webelement.WebElement (session=\"d0e51060d87802dafd7db09687723cf4\", element=\"E30D4AC2C0E62C7C5A48DADA4EDAF6AB_element_1019\")>,\n",
       " <selenium.webdriver.remote.webelement.WebElement (session=\"d0e51060d87802dafd7db09687723cf4\", element=\"E30D4AC2C0E62C7C5A48DADA4EDAF6AB_element_1020\")>,\n",
       " <selenium.webdriver.remote.webelement.WebElement (session=\"d0e51060d87802dafd7db09687723cf4\", element=\"E30D4AC2C0E62C7C5A48DADA4EDAF6AB_element_1021\")>,\n",
       " <selenium.webdriver.remote.webelement.WebElement (session=\"d0e51060d87802dafd7db09687723cf4\", element=\"E30D4AC2C0E62C7C5A48DADA4EDAF6AB_element_1022\")>,\n",
       " <selenium.webdriver.remote.webelement.WebElement (session=\"d0e51060d87802dafd7db09687723cf4\", element=\"E30D4AC2C0E62C7C5A48DADA4EDAF6AB_element_1023\")>,\n",
       " <selenium.webdriver.remote.webelement.WebElement (session=\"d0e51060d87802dafd7db09687723cf4\", element=\"E30D4AC2C0E62C7C5A48DADA4EDAF6AB_element_1024\")>,\n",
       " <selenium.webdriver.remote.webelement.WebElement (session=\"d0e51060d87802dafd7db09687723cf4\", element=\"E30D4AC2C0E62C7C5A48DADA4EDAF6AB_element_1025\")>,\n",
       " <selenium.webdriver.remote.webelement.WebElement (session=\"d0e51060d87802dafd7db09687723cf4\", element=\"E30D4AC2C0E62C7C5A48DADA4EDAF6AB_element_1026\")>]"
      ]
     },
     "execution_count": 78,
     "metadata": {},
     "output_type": "execute_result"
    }
   ],
   "source": [
    "# lets extract all the tags having locations\n",
    "locations_tag=driver.find_elements(By.XPATH,'//div[@class=\" jobCard_jobCard_lists_item__YxRkV jobCard_locationIcon__zrWt2\"]')\n",
    "locations_tag\n"
   ]
  },
  {
   "cell_type": "code",
   "execution_count": 79,
   "id": "fdf8c8d0",
   "metadata": {},
   "outputs": [
    {
     "data": {
      "text/plain": [
       "['Bangalore',\n",
       " 'Bangalore',\n",
       " 'Bangalore\\n+14',\n",
       " 'Bangalore',\n",
       " 'Bangalore\\n+9',\n",
       " 'Bangalore\\n+14',\n",
       " 'Bangalore',\n",
       " 'Bangalore',\n",
       " 'Bangalore',\n",
       " 'Bangalore']"
      ]
     },
     "execution_count": 79,
     "metadata": {},
     "output_type": "execute_result"
    }
   ],
   "source": [
    "locations1_list=[]\n",
    "for i in locations_tag:\n",
    "    locations1_list.append(i.text)\n",
    "locations1_list[:10]    "
   ]
  },
  {
   "cell_type": "code",
   "execution_count": 80,
   "id": "6508c6dc",
   "metadata": {},
   "outputs": [
    {
     "name": "stdout",
     "output_type": "stream",
     "text": [
      "10\n",
      "10\n"
     ]
    },
    {
     "data": {
      "text/plain": [
       "(None, None)"
      ]
     },
     "execution_count": 80,
     "metadata": {},
     "output_type": "execute_result"
    }
   ],
   "source": [
    "print(len(job1_titles[:10])),print(len(locations1_list[:10]))"
   ]
  },
  {
   "cell_type": "code",
   "execution_count": 81,
   "id": "7a0107df",
   "metadata": {},
   "outputs": [],
   "source": [
    "job1=pd.DataFrame({})\n",
    "job1['title']=job1_titles[:10]\n",
    "\n",
    "job1['location']=locations1_list[:10]\n"
   ]
  },
  {
   "cell_type": "code",
   "execution_count": 82,
   "id": "8bdafcc0",
   "metadata": {},
   "outputs": [
    {
     "data": {
      "text/html": [
       "<div>\n",
       "<style scoped>\n",
       "    .dataframe tbody tr th:only-of-type {\n",
       "        vertical-align: middle;\n",
       "    }\n",
       "\n",
       "    .dataframe tbody tr th {\n",
       "        vertical-align: top;\n",
       "    }\n",
       "\n",
       "    .dataframe thead th {\n",
       "        text-align: right;\n",
       "    }\n",
       "</style>\n",
       "<table border=\"1\" class=\"dataframe\">\n",
       "  <thead>\n",
       "    <tr style=\"text-align: right;\">\n",
       "      <th></th>\n",
       "      <th>title</th>\n",
       "      <th>location</th>\n",
       "    </tr>\n",
       "  </thead>\n",
       "  <tbody>\n",
       "    <tr>\n",
       "      <th>0</th>\n",
       "      <td>Project Coordinator (Data Analyst)</td>\n",
       "      <td>Bangalore</td>\n",
       "    </tr>\n",
       "    <tr>\n",
       "      <th>1</th>\n",
       "      <td>Data Analyst - Java/Python</td>\n",
       "      <td>Bangalore</td>\n",
       "    </tr>\n",
       "    <tr>\n",
       "      <th>2</th>\n",
       "      <td>Hiring For Data Analyst</td>\n",
       "      <td>Bangalore\\n+14</td>\n",
       "    </tr>\n",
       "    <tr>\n",
       "      <th>3</th>\n",
       "      <td>Senior Data Analyst</td>\n",
       "      <td>Bangalore</td>\n",
       "    </tr>\n",
       "    <tr>\n",
       "      <th>4</th>\n",
       "      <td>Data Analyst</td>\n",
       "      <td>Bangalore\\n+9</td>\n",
       "    </tr>\n",
       "    <tr>\n",
       "      <th>5</th>\n",
       "      <td>Data Analyst Urgent Recruiment</td>\n",
       "      <td>Bangalore\\n+14</td>\n",
       "    </tr>\n",
       "    <tr>\n",
       "      <th>6</th>\n",
       "      <td>Apply Now a Data Analyst</td>\n",
       "      <td>Bangalore</td>\n",
       "    </tr>\n",
       "    <tr>\n",
       "      <th>7</th>\n",
       "      <td>Apply Now Data Analyst</td>\n",
       "      <td>Bangalore</td>\n",
       "    </tr>\n",
       "    <tr>\n",
       "      <th>8</th>\n",
       "      <td>Needed for Data Analyst</td>\n",
       "      <td>Bangalore</td>\n",
       "    </tr>\n",
       "    <tr>\n",
       "      <th>9</th>\n",
       "      <td>Urgently need a Data Analyst</td>\n",
       "      <td>Bangalore</td>\n",
       "    </tr>\n",
       "  </tbody>\n",
       "</table>\n",
       "</div>"
      ],
      "text/plain": [
       "                                title        location\n",
       "0  Project Coordinator (Data Analyst)       Bangalore\n",
       "1          Data Analyst - Java/Python       Bangalore\n",
       "2             Hiring For Data Analyst  Bangalore\\n+14\n",
       "3                 Senior Data Analyst       Bangalore\n",
       "4                        Data Analyst   Bangalore\\n+9\n",
       "5      Data Analyst Urgent Recruiment  Bangalore\\n+14\n",
       "6            Apply Now a Data Analyst       Bangalore\n",
       "7              Apply Now Data Analyst       Bangalore\n",
       "8             Needed for Data Analyst       Bangalore\n",
       "9        Urgently need a Data Analyst       Bangalore"
      ]
     },
     "execution_count": 82,
     "metadata": {},
     "output_type": "execute_result"
    }
   ],
   "source": [
    "job1"
   ]
  },
  {
   "cell_type": "markdown",
   "id": "5cc6f731",
   "metadata": {},
   "source": [
    "# Q2:Write a python program to scrape data for “Data Scientist” Job position in“Bangalore” location. You\n",
    "have to scrape the job-title, job-location, company_name. You have to scrape first 10 jobs data.\n",
    "This task will be done in following steps:\n",
    "1. First get the webpage https://www.shine.com/\n",
    "2. Enter “Data Scientist” in “Job title, Skills” field and enter “Bangalore” in “enter thelocation” field.\n",
    "3. Then click the search button.\n",
    "4. Then scrape the data for the first 10 jobs results you get.\n",
    "5. Finally create a dataframe of the scraped data.\n",
    "Note: All of the above steps have to be done in code. No step is to be done manually"
   ]
  },
  {
   "cell_type": "code",
   "execution_count": 83,
   "id": "f19671b5",
   "metadata": {},
   "outputs": [],
   "source": [
    "driver=webdriver.Chrome()\n",
    "driver.get('https://www.shine.com/')"
   ]
  },
  {
   "cell_type": "code",
   "execution_count": 84,
   "id": "d2d2fc30",
   "metadata": {},
   "outputs": [],
   "source": [
    "title=driver.find_element(By.CLASS_NAME,'searchBarInput')\n",
    "title.send_keys('Data Scientist')"
   ]
  },
  {
   "cell_type": "code",
   "execution_count": 85,
   "id": "75889dfb",
   "metadata": {},
   "outputs": [],
   "source": [
    "designation=driver.find_element(By.CLASS_NAME,'form-control ')\n",
    "designation.send_keys('Data Scientist')"
   ]
  },
  {
   "cell_type": "code",
   "execution_count": 86,
   "id": "ea99640b",
   "metadata": {},
   "outputs": [],
   "source": [
    "location=driver.find_element(By.XPATH,'/html/body/div[1]/div[4]/div/div[2]/div[2]/div/form/div/div[1]/ul/li[2]/div/input')\n",
    "location.send_keys('Bangalore')"
   ]
  },
  {
   "cell_type": "code",
   "execution_count": 87,
   "id": "0f26ad04",
   "metadata": {},
   "outputs": [
    {
     "data": {
      "text/plain": [
       "<selenium.webdriver.remote.webelement.WebElement (session=\"849e91335389d4dee02ec60d6769b8f0\", element=\"5488E0DFA75E7399FAC93DA9772CD856_element_192\")>"
      ]
     },
     "execution_count": 87,
     "metadata": {},
     "output_type": "execute_result"
    }
   ],
   "source": [
    "search_btn= driver .find_element(By.XPATH,'//button[@class=\" btn btn-secondary undefined\"]')\n",
    "search_btn"
   ]
  },
  {
   "cell_type": "code",
   "execution_count": 88,
   "id": "cb25791f",
   "metadata": {},
   "outputs": [],
   "source": [
    "search_btn=driver.find_element(By.CLASS_NAME,'searchForm_btnWrap__Cb75F')\n",
    "search_btn.click()"
   ]
  },
  {
   "cell_type": "code",
   "execution_count": 89,
   "id": "1b157498",
   "metadata": {},
   "outputs": [
    {
     "data": {
      "text/plain": [
       "[<selenium.webdriver.remote.webelement.WebElement (session=\"849e91335389d4dee02ec60d6769b8f0\", element=\"E77358DA0CDA7884DF9331FE7C574789_element_323\")>,\n",
       " <selenium.webdriver.remote.webelement.WebElement (session=\"849e91335389d4dee02ec60d6769b8f0\", element=\"E77358DA0CDA7884DF9331FE7C574789_element_343\")>,\n",
       " <selenium.webdriver.remote.webelement.WebElement (session=\"849e91335389d4dee02ec60d6769b8f0\", element=\"E77358DA0CDA7884DF9331FE7C574789_element_344\")>,\n",
       " <selenium.webdriver.remote.webelement.WebElement (session=\"849e91335389d4dee02ec60d6769b8f0\", element=\"E77358DA0CDA7884DF9331FE7C574789_element_345\")>,\n",
       " <selenium.webdriver.remote.webelement.WebElement (session=\"849e91335389d4dee02ec60d6769b8f0\", element=\"E77358DA0CDA7884DF9331FE7C574789_element_346\")>,\n",
       " <selenium.webdriver.remote.webelement.WebElement (session=\"849e91335389d4dee02ec60d6769b8f0\", element=\"E77358DA0CDA7884DF9331FE7C574789_element_347\")>,\n",
       " <selenium.webdriver.remote.webelement.WebElement (session=\"849e91335389d4dee02ec60d6769b8f0\", element=\"E77358DA0CDA7884DF9331FE7C574789_element_348\")>,\n",
       " <selenium.webdriver.remote.webelement.WebElement (session=\"849e91335389d4dee02ec60d6769b8f0\", element=\"E77358DA0CDA7884DF9331FE7C574789_element_349\")>,\n",
       " <selenium.webdriver.remote.webelement.WebElement (session=\"849e91335389d4dee02ec60d6769b8f0\", element=\"E77358DA0CDA7884DF9331FE7C574789_element_350\")>,\n",
       " <selenium.webdriver.remote.webelement.WebElement (session=\"849e91335389d4dee02ec60d6769b8f0\", element=\"E77358DA0CDA7884DF9331FE7C574789_element_351\")>,\n",
       " <selenium.webdriver.remote.webelement.WebElement (session=\"849e91335389d4dee02ec60d6769b8f0\", element=\"E77358DA0CDA7884DF9331FE7C574789_element_352\")>,\n",
       " <selenium.webdriver.remote.webelement.WebElement (session=\"849e91335389d4dee02ec60d6769b8f0\", element=\"E77358DA0CDA7884DF9331FE7C574789_element_353\")>,\n",
       " <selenium.webdriver.remote.webelement.WebElement (session=\"849e91335389d4dee02ec60d6769b8f0\", element=\"E77358DA0CDA7884DF9331FE7C574789_element_354\")>,\n",
       " <selenium.webdriver.remote.webelement.WebElement (session=\"849e91335389d4dee02ec60d6769b8f0\", element=\"E77358DA0CDA7884DF9331FE7C574789_element_355\")>,\n",
       " <selenium.webdriver.remote.webelement.WebElement (session=\"849e91335389d4dee02ec60d6769b8f0\", element=\"E77358DA0CDA7884DF9331FE7C574789_element_356\")>,\n",
       " <selenium.webdriver.remote.webelement.WebElement (session=\"849e91335389d4dee02ec60d6769b8f0\", element=\"E77358DA0CDA7884DF9331FE7C574789_element_357\")>,\n",
       " <selenium.webdriver.remote.webelement.WebElement (session=\"849e91335389d4dee02ec60d6769b8f0\", element=\"E77358DA0CDA7884DF9331FE7C574789_element_358\")>,\n",
       " <selenium.webdriver.remote.webelement.WebElement (session=\"849e91335389d4dee02ec60d6769b8f0\", element=\"E77358DA0CDA7884DF9331FE7C574789_element_359\")>,\n",
       " <selenium.webdriver.remote.webelement.WebElement (session=\"849e91335389d4dee02ec60d6769b8f0\", element=\"E77358DA0CDA7884DF9331FE7C574789_element_360\")>,\n",
       " <selenium.webdriver.remote.webelement.WebElement (session=\"849e91335389d4dee02ec60d6769b8f0\", element=\"E77358DA0CDA7884DF9331FE7C574789_element_361\")>]"
      ]
     },
     "execution_count": 89,
     "metadata": {},
     "output_type": "execute_result"
    }
   ],
   "source": [
    "title_tag=driver.find_elements(By.XPATH,'//h2[@itemprop=\"name\"]')\n",
    "title_tag"
   ]
  },
  {
   "cell_type": "code",
   "execution_count": 90,
   "id": "d4ff1a41",
   "metadata": {},
   "outputs": [
    {
     "data": {
      "text/plain": [
       "['Hiring For Data Scientist',\n",
       " 'Hiring For Data Scientist',\n",
       " 'Data Scientist',\n",
       " 'Data Scientist Urgent Recruitment',\n",
       " 'Required for Data Scientist',\n",
       " 'Urgently need Data Scientist',\n",
       " 'Data scientist Bangalore',\n",
       " 'Data Scientist',\n",
       " 'Hiring For Data Scientist',\n",
       " 'Needed for the post Data Scientist']"
      ]
     },
     "execution_count": 90,
     "metadata": {},
     "output_type": "execute_result"
    }
   ],
   "source": [
    "job1_titles=[]\n",
    "for i in title_tag:\n",
    "    if i.text is None:\n",
    "        job1_titles.append('Not')\n",
    "    else:\n",
    "        job1_titles.append(i.text)\n",
    "job1_titles[:10]        "
   ]
  },
  {
   "cell_type": "code",
   "execution_count": 92,
   "id": "aa9aec88",
   "metadata": {},
   "outputs": [
    {
     "data": {
      "text/plain": [
       "[<selenium.webdriver.remote.webelement.WebElement (session=\"849e91335389d4dee02ec60d6769b8f0\", element=\"E77358DA0CDA7884DF9331FE7C574789_element_324\")>,\n",
       " <selenium.webdriver.remote.webelement.WebElement (session=\"849e91335389d4dee02ec60d6769b8f0\", element=\"E77358DA0CDA7884DF9331FE7C574789_element_398\")>,\n",
       " <selenium.webdriver.remote.webelement.WebElement (session=\"849e91335389d4dee02ec60d6769b8f0\", element=\"E77358DA0CDA7884DF9331FE7C574789_element_408\")>,\n",
       " <selenium.webdriver.remote.webelement.WebElement (session=\"849e91335389d4dee02ec60d6769b8f0\", element=\"E77358DA0CDA7884DF9331FE7C574789_element_414\")>,\n",
       " <selenium.webdriver.remote.webelement.WebElement (session=\"849e91335389d4dee02ec60d6769b8f0\", element=\"E77358DA0CDA7884DF9331FE7C574789_element_415\")>,\n",
       " <selenium.webdriver.remote.webelement.WebElement (session=\"849e91335389d4dee02ec60d6769b8f0\", element=\"E77358DA0CDA7884DF9331FE7C574789_element_416\")>,\n",
       " <selenium.webdriver.remote.webelement.WebElement (session=\"849e91335389d4dee02ec60d6769b8f0\", element=\"E77358DA0CDA7884DF9331FE7C574789_element_417\")>,\n",
       " <selenium.webdriver.remote.webelement.WebElement (session=\"849e91335389d4dee02ec60d6769b8f0\", element=\"E77358DA0CDA7884DF9331FE7C574789_element_418\")>,\n",
       " <selenium.webdriver.remote.webelement.WebElement (session=\"849e91335389d4dee02ec60d6769b8f0\", element=\"E77358DA0CDA7884DF9331FE7C574789_element_419\")>,\n",
       " <selenium.webdriver.remote.webelement.WebElement (session=\"849e91335389d4dee02ec60d6769b8f0\", element=\"E77358DA0CDA7884DF9331FE7C574789_element_420\")>,\n",
       " <selenium.webdriver.remote.webelement.WebElement (session=\"849e91335389d4dee02ec60d6769b8f0\", element=\"E77358DA0CDA7884DF9331FE7C574789_element_421\")>,\n",
       " <selenium.webdriver.remote.webelement.WebElement (session=\"849e91335389d4dee02ec60d6769b8f0\", element=\"E77358DA0CDA7884DF9331FE7C574789_element_422\")>,\n",
       " <selenium.webdriver.remote.webelement.WebElement (session=\"849e91335389d4dee02ec60d6769b8f0\", element=\"E77358DA0CDA7884DF9331FE7C574789_element_423\")>,\n",
       " <selenium.webdriver.remote.webelement.WebElement (session=\"849e91335389d4dee02ec60d6769b8f0\", element=\"E77358DA0CDA7884DF9331FE7C574789_element_424\")>,\n",
       " <selenium.webdriver.remote.webelement.WebElement (session=\"849e91335389d4dee02ec60d6769b8f0\", element=\"E77358DA0CDA7884DF9331FE7C574789_element_425\")>,\n",
       " <selenium.webdriver.remote.webelement.WebElement (session=\"849e91335389d4dee02ec60d6769b8f0\", element=\"E77358DA0CDA7884DF9331FE7C574789_element_426\")>,\n",
       " <selenium.webdriver.remote.webelement.WebElement (session=\"849e91335389d4dee02ec60d6769b8f0\", element=\"E77358DA0CDA7884DF9331FE7C574789_element_427\")>,\n",
       " <selenium.webdriver.remote.webelement.WebElement (session=\"849e91335389d4dee02ec60d6769b8f0\", element=\"E77358DA0CDA7884DF9331FE7C574789_element_428\")>,\n",
       " <selenium.webdriver.remote.webelement.WebElement (session=\"849e91335389d4dee02ec60d6769b8f0\", element=\"E77358DA0CDA7884DF9331FE7C574789_element_429\")>,\n",
       " <selenium.webdriver.remote.webelement.WebElement (session=\"849e91335389d4dee02ec60d6769b8f0\", element=\"E77358DA0CDA7884DF9331FE7C574789_element_430\")>]"
      ]
     },
     "execution_count": 92,
     "metadata": {},
     "output_type": "execute_result"
    }
   ],
   "source": [
    "# lets extract all the tags having company names\n",
    "company_tag=driver.find_elements(By.XPATH,'//div[@class=\"jobCard_jobCard_cName__mYnow\"]')\n",
    "company_tag"
   ]
  },
  {
   "cell_type": "code",
   "execution_count": 93,
   "id": "3db0cdde",
   "metadata": {},
   "outputs": [
    {
     "data": {
      "text/plain": [
       "['kavya staffing solutions',\n",
       " 'kavya staffing solutions',\n",
       " 'skyleaf consultants',\n",
       " 'divya interprises',\n",
       " 'deuglo infosystem private limited',\n",
       " 'deuglo infosystem private limited',\n",
       " 'seven geomax consulting private lim...',\n",
       " 'employberry consultants hiring for ...',\n",
       " 'niharika enterprises',\n",
       " 'deuglo infosystem private limited']"
      ]
     },
     "execution_count": 93,
     "metadata": {},
     "output_type": "execute_result"
    }
   ],
   "source": [
    "# Now we will extract the text from the tags by looping over these tags\n",
    "companies1_names=[]\n",
    "\n",
    "for i in company_tag:\n",
    "    companies1_names.append(i.text)\n",
    "companies1_names[:10]    "
   ]
  },
  {
   "cell_type": "code",
   "execution_count": 95,
   "id": "bb72007a",
   "metadata": {},
   "outputs": [
    {
     "data": {
      "text/plain": [
       "[<selenium.webdriver.remote.webelement.WebElement (session=\"849e91335389d4dee02ec60d6769b8f0\", element=\"3CB659489A57AE9E9C617457A095C766_element_675\")>,\n",
       " <selenium.webdriver.remote.webelement.WebElement (session=\"849e91335389d4dee02ec60d6769b8f0\", element=\"3CB659489A57AE9E9C617457A095C766_element_676\")>,\n",
       " <selenium.webdriver.remote.webelement.WebElement (session=\"849e91335389d4dee02ec60d6769b8f0\", element=\"3CB659489A57AE9E9C617457A095C766_element_550\")>,\n",
       " <selenium.webdriver.remote.webelement.WebElement (session=\"849e91335389d4dee02ec60d6769b8f0\", element=\"3CB659489A57AE9E9C617457A095C766_element_552\")>,\n",
       " <selenium.webdriver.remote.webelement.WebElement (session=\"849e91335389d4dee02ec60d6769b8f0\", element=\"3CB659489A57AE9E9C617457A095C766_element_677\")>,\n",
       " <selenium.webdriver.remote.webelement.WebElement (session=\"849e91335389d4dee02ec60d6769b8f0\", element=\"3CB659489A57AE9E9C617457A095C766_element_678\")>,\n",
       " <selenium.webdriver.remote.webelement.WebElement (session=\"849e91335389d4dee02ec60d6769b8f0\", element=\"3CB659489A57AE9E9C617457A095C766_element_679\")>,\n",
       " <selenium.webdriver.remote.webelement.WebElement (session=\"849e91335389d4dee02ec60d6769b8f0\", element=\"3CB659489A57AE9E9C617457A095C766_element_680\")>,\n",
       " <selenium.webdriver.remote.webelement.WebElement (session=\"849e91335389d4dee02ec60d6769b8f0\", element=\"3CB659489A57AE9E9C617457A095C766_element_681\")>,\n",
       " <selenium.webdriver.remote.webelement.WebElement (session=\"849e91335389d4dee02ec60d6769b8f0\", element=\"3CB659489A57AE9E9C617457A095C766_element_682\")>,\n",
       " <selenium.webdriver.remote.webelement.WebElement (session=\"849e91335389d4dee02ec60d6769b8f0\", element=\"3CB659489A57AE9E9C617457A095C766_element_683\")>,\n",
       " <selenium.webdriver.remote.webelement.WebElement (session=\"849e91335389d4dee02ec60d6769b8f0\", element=\"3CB659489A57AE9E9C617457A095C766_element_684\")>,\n",
       " <selenium.webdriver.remote.webelement.WebElement (session=\"849e91335389d4dee02ec60d6769b8f0\", element=\"3CB659489A57AE9E9C617457A095C766_element_685\")>,\n",
       " <selenium.webdriver.remote.webelement.WebElement (session=\"849e91335389d4dee02ec60d6769b8f0\", element=\"3CB659489A57AE9E9C617457A095C766_element_686\")>,\n",
       " <selenium.webdriver.remote.webelement.WebElement (session=\"849e91335389d4dee02ec60d6769b8f0\", element=\"3CB659489A57AE9E9C617457A095C766_element_687\")>,\n",
       " <selenium.webdriver.remote.webelement.WebElement (session=\"849e91335389d4dee02ec60d6769b8f0\", element=\"3CB659489A57AE9E9C617457A095C766_element_688\")>,\n",
       " <selenium.webdriver.remote.webelement.WebElement (session=\"849e91335389d4dee02ec60d6769b8f0\", element=\"3CB659489A57AE9E9C617457A095C766_element_689\")>,\n",
       " <selenium.webdriver.remote.webelement.WebElement (session=\"849e91335389d4dee02ec60d6769b8f0\", element=\"3CB659489A57AE9E9C617457A095C766_element_690\")>,\n",
       " <selenium.webdriver.remote.webelement.WebElement (session=\"849e91335389d4dee02ec60d6769b8f0\", element=\"3CB659489A57AE9E9C617457A095C766_element_691\")>,\n",
       " <selenium.webdriver.remote.webelement.WebElement (session=\"849e91335389d4dee02ec60d6769b8f0\", element=\"3CB659489A57AE9E9C617457A095C766_element_692\")>]"
      ]
     },
     "execution_count": 95,
     "metadata": {},
     "output_type": "execute_result"
    }
   ],
   "source": [
    "# lets extract all the tags having locations\n",
    "locations_tag=driver.find_elements(By.XPATH,'//div[@class=\" jobCard_jobCard_lists_item__YxRkV jobCard_locationIcon__zrWt2\"]')\n",
    "locations_tag"
   ]
  },
  {
   "cell_type": "code",
   "execution_count": 96,
   "id": "6c4cd1f4",
   "metadata": {},
   "outputs": [
    {
     "data": {
      "text/plain": [
       "['Bangalore\\n+17',\n",
       " 'Bangalore\\n+17',\n",
       " 'Bangalore',\n",
       " 'Bangalore\\n+14',\n",
       " 'Bangalore',\n",
       " 'Bangalore\\n+8',\n",
       " 'Bangalore',\n",
       " 'Bangalore',\n",
       " 'Bangalore\\n+15',\n",
       " 'Bangalore\\n+8']"
      ]
     },
     "execution_count": 96,
     "metadata": {},
     "output_type": "execute_result"
    }
   ],
   "source": [
    "locations1_list=[]\n",
    "for i in locations_tag:\n",
    "    locations1_list.append(i.text)\n",
    "locations1_list[:10]    "
   ]
  },
  {
   "cell_type": "code",
   "execution_count": 97,
   "id": "04a1ca00",
   "metadata": {},
   "outputs": [
    {
     "name": "stdout",
     "output_type": "stream",
     "text": [
      "10\n",
      "10\n",
      "10\n"
     ]
    },
    {
     "data": {
      "text/plain": [
       "(None, None, None)"
      ]
     },
     "execution_count": 97,
     "metadata": {},
     "output_type": "execute_result"
    }
   ],
   "source": [
    "print(len(job1_titles[:10])),print(len(companies1_names[:10])),print(len(locations1_list[:10]))"
   ]
  },
  {
   "cell_type": "code",
   "execution_count": 98,
   "id": "17403e9a",
   "metadata": {},
   "outputs": [],
   "source": [
    "job1=pd.DataFrame({})\n",
    "job1['title']=job1_titles[:10]\n",
    "job1['company_name']=companies1_names[:10]\n",
    "job1['location']=locations1_list[:10]\n"
   ]
  },
  {
   "cell_type": "code",
   "execution_count": 99,
   "id": "ea899401",
   "metadata": {},
   "outputs": [
    {
     "data": {
      "text/html": [
       "<div>\n",
       "<style scoped>\n",
       "    .dataframe tbody tr th:only-of-type {\n",
       "        vertical-align: middle;\n",
       "    }\n",
       "\n",
       "    .dataframe tbody tr th {\n",
       "        vertical-align: top;\n",
       "    }\n",
       "\n",
       "    .dataframe thead th {\n",
       "        text-align: right;\n",
       "    }\n",
       "</style>\n",
       "<table border=\"1\" class=\"dataframe\">\n",
       "  <thead>\n",
       "    <tr style=\"text-align: right;\">\n",
       "      <th></th>\n",
       "      <th>title</th>\n",
       "      <th>company_name</th>\n",
       "      <th>location</th>\n",
       "    </tr>\n",
       "  </thead>\n",
       "  <tbody>\n",
       "    <tr>\n",
       "      <th>0</th>\n",
       "      <td>Hiring For Data Scientist</td>\n",
       "      <td>kavya staffing solutions</td>\n",
       "      <td>Bangalore\\n+17</td>\n",
       "    </tr>\n",
       "    <tr>\n",
       "      <th>1</th>\n",
       "      <td>Hiring For Data Scientist</td>\n",
       "      <td>kavya staffing solutions</td>\n",
       "      <td>Bangalore\\n+17</td>\n",
       "    </tr>\n",
       "    <tr>\n",
       "      <th>2</th>\n",
       "      <td>Data Scientist</td>\n",
       "      <td>skyleaf consultants</td>\n",
       "      <td>Bangalore</td>\n",
       "    </tr>\n",
       "    <tr>\n",
       "      <th>3</th>\n",
       "      <td>Data Scientist Urgent Recruitment</td>\n",
       "      <td>divya interprises</td>\n",
       "      <td>Bangalore\\n+14</td>\n",
       "    </tr>\n",
       "    <tr>\n",
       "      <th>4</th>\n",
       "      <td>Required for Data Scientist</td>\n",
       "      <td>deuglo infosystem private limited</td>\n",
       "      <td>Bangalore</td>\n",
       "    </tr>\n",
       "    <tr>\n",
       "      <th>5</th>\n",
       "      <td>Urgently need Data Scientist</td>\n",
       "      <td>deuglo infosystem private limited</td>\n",
       "      <td>Bangalore\\n+8</td>\n",
       "    </tr>\n",
       "    <tr>\n",
       "      <th>6</th>\n",
       "      <td>Data scientist Bangalore</td>\n",
       "      <td>seven geomax consulting private lim...</td>\n",
       "      <td>Bangalore</td>\n",
       "    </tr>\n",
       "    <tr>\n",
       "      <th>7</th>\n",
       "      <td>Data Scientist</td>\n",
       "      <td>employberry consultants hiring for ...</td>\n",
       "      <td>Bangalore</td>\n",
       "    </tr>\n",
       "    <tr>\n",
       "      <th>8</th>\n",
       "      <td>Hiring For Data Scientist</td>\n",
       "      <td>niharika enterprises</td>\n",
       "      <td>Bangalore\\n+15</td>\n",
       "    </tr>\n",
       "    <tr>\n",
       "      <th>9</th>\n",
       "      <td>Needed for the post Data Scientist</td>\n",
       "      <td>deuglo infosystem private limited</td>\n",
       "      <td>Bangalore\\n+8</td>\n",
       "    </tr>\n",
       "  </tbody>\n",
       "</table>\n",
       "</div>"
      ],
      "text/plain": [
       "                                title                            company_name  \\\n",
       "0           Hiring For Data Scientist                kavya staffing solutions   \n",
       "1           Hiring For Data Scientist                kavya staffing solutions   \n",
       "2                      Data Scientist                     skyleaf consultants   \n",
       "3   Data Scientist Urgent Recruitment                       divya interprises   \n",
       "4         Required for Data Scientist       deuglo infosystem private limited   \n",
       "5        Urgently need Data Scientist       deuglo infosystem private limited   \n",
       "6            Data scientist Bangalore  seven geomax consulting private lim...   \n",
       "7                      Data Scientist  employberry consultants hiring for ...   \n",
       "8           Hiring For Data Scientist                    niharika enterprises   \n",
       "9  Needed for the post Data Scientist       deuglo infosystem private limited   \n",
       "\n",
       "         location  \n",
       "0  Bangalore\\n+17  \n",
       "1  Bangalore\\n+17  \n",
       "2       Bangalore  \n",
       "3  Bangalore\\n+14  \n",
       "4       Bangalore  \n",
       "5   Bangalore\\n+8  \n",
       "6       Bangalore  \n",
       "7       Bangalore  \n",
       "8  Bangalore\\n+15  \n",
       "9   Bangalore\\n+8  "
      ]
     },
     "execution_count": 99,
     "metadata": {},
     "output_type": "execute_result"
    }
   ],
   "source": [
    "job1"
   ]
  },
  {
   "cell_type": "markdown",
   "id": "335de5cc",
   "metadata": {},
   "source": [
    "Q3: In this question you have to scrape data using the filters available on the webpage \n",
    " You have to use the location and salary filter.\n",
    "You have to scrape data for “Data Scientist” designation for first 10 job results.\n",
    "You have to scrape the job-title, job-location, company name, experience required.\n",
    "The location filter to be used is “Delhi/NCR”. The salary filter to be used is “3-6” lakhs\n",
    "The task will be done as shown in the below steps:\n",
    "1. first get the web page https://www.shine.com/\n",
    "2. Enter “Data Scientist” in “Skill, Designations, and Companies” field.\n",
    "3. Then click the search button.\n",
    "4. Then apply the location filter and salary filter by checking the respective boxes\n",
    "5. Then scrape the data for the first 10 jobs results you get.\n",
    "6. Finally create a dataframe of the scrapeddata.\n",
    "Note: All of the above steps have to be done in code. No step is to be done manually."
   ]
  },
  {
   "cell_type": "code",
   "execution_count": 103,
   "id": "e7679d86",
   "metadata": {},
   "outputs": [],
   "source": [
    "driver=webdriver.Chrome()\n",
    "driver.get('https://www.shine.com/')"
   ]
  },
  {
   "cell_type": "code",
   "execution_count": 104,
   "id": "8a918b82",
   "metadata": {},
   "outputs": [],
   "source": [
    "title=driver.find_element(By.CLASS_NAME,'searchBarInput')\n",
    "title.send_keys('Data Scientist')"
   ]
  },
  {
   "cell_type": "code",
   "execution_count": 105,
   "id": "b58f2b47",
   "metadata": {},
   "outputs": [],
   "source": [
    "designation=driver.find_element(By.CLASS_NAME,'form-control ')\n",
    "designation.send_keys('Data Scientist')"
   ]
  },
  {
   "cell_type": "code",
   "execution_count": 106,
   "id": "1cf3af7f",
   "metadata": {},
   "outputs": [],
   "source": [
    "location=driver.find_element(By.XPATH,'/html/body/div[1]/div[4]/div/div[2]/div[2]/div/form/div/div[1]/ul/li[2]/div/input')\n",
    "location.send_keys('Delhi/NCR')"
   ]
  },
  {
   "cell_type": "code",
   "execution_count": 107,
   "id": "ed3b547c",
   "metadata": {},
   "outputs": [
    {
     "data": {
      "text/plain": [
       "<selenium.webdriver.remote.webelement.WebElement (session=\"3e9446cae86c784bbb98c28c881a7544\", element=\"A70FAAD3B688A46F84289E8F044EEDD4_element_191\")>"
      ]
     },
     "execution_count": 107,
     "metadata": {},
     "output_type": "execute_result"
    }
   ],
   "source": [
    "search_btn= driver .find_element(By.XPATH,'//button[@class=\" btn btn-secondary undefined\"]')\n",
    "search_btn"
   ]
  },
  {
   "cell_type": "code",
   "execution_count": 108,
   "id": "bf70c32a",
   "metadata": {},
   "outputs": [],
   "source": [
    "search_btn=driver.find_element(By.CLASS_NAME,'searchForm_btnWrap__Cb75F')\n",
    "search_btn.click()"
   ]
  },
  {
   "cell_type": "code",
   "execution_count": 113,
   "id": "248498b8",
   "metadata": {},
   "outputs": [
    {
     "data": {
      "text/plain": [
       "[<selenium.webdriver.remote.webelement.WebElement (session=\"3e9446cae86c784bbb98c28c881a7544\", element=\"220DDF799B31CAFFE6ECACD07F5B4D71_element_319\")>,\n",
       " <selenium.webdriver.remote.webelement.WebElement (session=\"3e9446cae86c784bbb98c28c881a7544\", element=\"220DDF799B31CAFFE6ECACD07F5B4D71_element_347\")>,\n",
       " <selenium.webdriver.remote.webelement.WebElement (session=\"3e9446cae86c784bbb98c28c881a7544\", element=\"220DDF799B31CAFFE6ECACD07F5B4D71_element_348\")>,\n",
       " <selenium.webdriver.remote.webelement.WebElement (session=\"3e9446cae86c784bbb98c28c881a7544\", element=\"220DDF799B31CAFFE6ECACD07F5B4D71_element_349\")>,\n",
       " <selenium.webdriver.remote.webelement.WebElement (session=\"3e9446cae86c784bbb98c28c881a7544\", element=\"220DDF799B31CAFFE6ECACD07F5B4D71_element_350\")>,\n",
       " <selenium.webdriver.remote.webelement.WebElement (session=\"3e9446cae86c784bbb98c28c881a7544\", element=\"220DDF799B31CAFFE6ECACD07F5B4D71_element_351\")>,\n",
       " <selenium.webdriver.remote.webelement.WebElement (session=\"3e9446cae86c784bbb98c28c881a7544\", element=\"220DDF799B31CAFFE6ECACD07F5B4D71_element_352\")>,\n",
       " <selenium.webdriver.remote.webelement.WebElement (session=\"3e9446cae86c784bbb98c28c881a7544\", element=\"220DDF799B31CAFFE6ECACD07F5B4D71_element_353\")>,\n",
       " <selenium.webdriver.remote.webelement.WebElement (session=\"3e9446cae86c784bbb98c28c881a7544\", element=\"220DDF799B31CAFFE6ECACD07F5B4D71_element_354\")>,\n",
       " <selenium.webdriver.remote.webelement.WebElement (session=\"3e9446cae86c784bbb98c28c881a7544\", element=\"220DDF799B31CAFFE6ECACD07F5B4D71_element_355\")>,\n",
       " <selenium.webdriver.remote.webelement.WebElement (session=\"3e9446cae86c784bbb98c28c881a7544\", element=\"220DDF799B31CAFFE6ECACD07F5B4D71_element_356\")>,\n",
       " <selenium.webdriver.remote.webelement.WebElement (session=\"3e9446cae86c784bbb98c28c881a7544\", element=\"220DDF799B31CAFFE6ECACD07F5B4D71_element_357\")>,\n",
       " <selenium.webdriver.remote.webelement.WebElement (session=\"3e9446cae86c784bbb98c28c881a7544\", element=\"220DDF799B31CAFFE6ECACD07F5B4D71_element_358\")>,\n",
       " <selenium.webdriver.remote.webelement.WebElement (session=\"3e9446cae86c784bbb98c28c881a7544\", element=\"220DDF799B31CAFFE6ECACD07F5B4D71_element_359\")>,\n",
       " <selenium.webdriver.remote.webelement.WebElement (session=\"3e9446cae86c784bbb98c28c881a7544\", element=\"220DDF799B31CAFFE6ECACD07F5B4D71_element_360\")>,\n",
       " <selenium.webdriver.remote.webelement.WebElement (session=\"3e9446cae86c784bbb98c28c881a7544\", element=\"220DDF799B31CAFFE6ECACD07F5B4D71_element_361\")>,\n",
       " <selenium.webdriver.remote.webelement.WebElement (session=\"3e9446cae86c784bbb98c28c881a7544\", element=\"220DDF799B31CAFFE6ECACD07F5B4D71_element_362\")>,\n",
       " <selenium.webdriver.remote.webelement.WebElement (session=\"3e9446cae86c784bbb98c28c881a7544\", element=\"220DDF799B31CAFFE6ECACD07F5B4D71_element_363\")>,\n",
       " <selenium.webdriver.remote.webelement.WebElement (session=\"3e9446cae86c784bbb98c28c881a7544\", element=\"220DDF799B31CAFFE6ECACD07F5B4D71_element_364\")>,\n",
       " <selenium.webdriver.remote.webelement.WebElement (session=\"3e9446cae86c784bbb98c28c881a7544\", element=\"220DDF799B31CAFFE6ECACD07F5B4D71_element_365\")>]"
      ]
     },
     "execution_count": 113,
     "metadata": {},
     "output_type": "execute_result"
    }
   ],
   "source": [
    "title_tag=driver.find_elements(By.XPATH,'//h2[@itemprop=\"name\"]')\n",
    "title_tag"
   ]
  },
  {
   "cell_type": "code",
   "execution_count": 114,
   "id": "9da62f1d",
   "metadata": {},
   "outputs": [
    {
     "data": {
      "text/plain": [
       "['Data Scientist - Spark/Python/Redshift',\n",
       " 'Data Scientist - Spark/Python/Redshift',\n",
       " 'Urgently need Data Scientist',\n",
       " 'Needed for the post Data Scientist',\n",
       " 'Data Scientist',\n",
       " 'Data Scientist',\n",
       " 'Data Scientist',\n",
       " 'for _GCP Data Engineer/Lead/Architect- Delhi',\n",
       " 'for _GCP Data Engineer/Lead/Architect- Delhi',\n",
       " 'Data Scientist']"
      ]
     },
     "execution_count": 114,
     "metadata": {},
     "output_type": "execute_result"
    }
   ],
   "source": [
    "job1_titles=[]\n",
    "for i in title_tag:\n",
    "    if i.text is None:\n",
    "        job1_titles.append('Not')\n",
    "    else:\n",
    "        job1_titles.append(i.text)\n",
    "job1_titles[:10]        "
   ]
  },
  {
   "cell_type": "code",
   "execution_count": 115,
   "id": "6cbe4854",
   "metadata": {},
   "outputs": [
    {
     "data": {
      "text/plain": [
       "[<selenium.webdriver.remote.webelement.WebElement (session=\"3e9446cae86c784bbb98c28c881a7544\", element=\"220DDF799B31CAFFE6ECACD07F5B4D71_element_320\")>,\n",
       " <selenium.webdriver.remote.webelement.WebElement (session=\"3e9446cae86c784bbb98c28c881a7544\", element=\"220DDF799B31CAFFE6ECACD07F5B4D71_element_401\")>,\n",
       " <selenium.webdriver.remote.webelement.WebElement (session=\"3e9446cae86c784bbb98c28c881a7544\", element=\"220DDF799B31CAFFE6ECACD07F5B4D71_element_402\")>,\n",
       " <selenium.webdriver.remote.webelement.WebElement (session=\"3e9446cae86c784bbb98c28c881a7544\", element=\"220DDF799B31CAFFE6ECACD07F5B4D71_element_403\")>,\n",
       " <selenium.webdriver.remote.webelement.WebElement (session=\"3e9446cae86c784bbb98c28c881a7544\", element=\"220DDF799B31CAFFE6ECACD07F5B4D71_element_404\")>,\n",
       " <selenium.webdriver.remote.webelement.WebElement (session=\"3e9446cae86c784bbb98c28c881a7544\", element=\"220DDF799B31CAFFE6ECACD07F5B4D71_element_405\")>,\n",
       " <selenium.webdriver.remote.webelement.WebElement (session=\"3e9446cae86c784bbb98c28c881a7544\", element=\"220DDF799B31CAFFE6ECACD07F5B4D71_element_406\")>,\n",
       " <selenium.webdriver.remote.webelement.WebElement (session=\"3e9446cae86c784bbb98c28c881a7544\", element=\"220DDF799B31CAFFE6ECACD07F5B4D71_element_407\")>,\n",
       " <selenium.webdriver.remote.webelement.WebElement (session=\"3e9446cae86c784bbb98c28c881a7544\", element=\"220DDF799B31CAFFE6ECACD07F5B4D71_element_408\")>,\n",
       " <selenium.webdriver.remote.webelement.WebElement (session=\"3e9446cae86c784bbb98c28c881a7544\", element=\"220DDF799B31CAFFE6ECACD07F5B4D71_element_409\")>,\n",
       " <selenium.webdriver.remote.webelement.WebElement (session=\"3e9446cae86c784bbb98c28c881a7544\", element=\"220DDF799B31CAFFE6ECACD07F5B4D71_element_410\")>,\n",
       " <selenium.webdriver.remote.webelement.WebElement (session=\"3e9446cae86c784bbb98c28c881a7544\", element=\"220DDF799B31CAFFE6ECACD07F5B4D71_element_411\")>,\n",
       " <selenium.webdriver.remote.webelement.WebElement (session=\"3e9446cae86c784bbb98c28c881a7544\", element=\"220DDF799B31CAFFE6ECACD07F5B4D71_element_412\")>,\n",
       " <selenium.webdriver.remote.webelement.WebElement (session=\"3e9446cae86c784bbb98c28c881a7544\", element=\"220DDF799B31CAFFE6ECACD07F5B4D71_element_413\")>,\n",
       " <selenium.webdriver.remote.webelement.WebElement (session=\"3e9446cae86c784bbb98c28c881a7544\", element=\"220DDF799B31CAFFE6ECACD07F5B4D71_element_414\")>,\n",
       " <selenium.webdriver.remote.webelement.WebElement (session=\"3e9446cae86c784bbb98c28c881a7544\", element=\"220DDF799B31CAFFE6ECACD07F5B4D71_element_415\")>,\n",
       " <selenium.webdriver.remote.webelement.WebElement (session=\"3e9446cae86c784bbb98c28c881a7544\", element=\"220DDF799B31CAFFE6ECACD07F5B4D71_element_416\")>,\n",
       " <selenium.webdriver.remote.webelement.WebElement (session=\"3e9446cae86c784bbb98c28c881a7544\", element=\"220DDF799B31CAFFE6ECACD07F5B4D71_element_417\")>,\n",
       " <selenium.webdriver.remote.webelement.WebElement (session=\"3e9446cae86c784bbb98c28c881a7544\", element=\"220DDF799B31CAFFE6ECACD07F5B4D71_element_418\")>,\n",
       " <selenium.webdriver.remote.webelement.WebElement (session=\"3e9446cae86c784bbb98c28c881a7544\", element=\"220DDF799B31CAFFE6ECACD07F5B4D71_element_419\")>]"
      ]
     },
     "execution_count": 115,
     "metadata": {},
     "output_type": "execute_result"
    }
   ],
   "source": [
    "# lets extract all the tags having company names\n",
    "company_tag=driver.find_elements(By.XPATH,'//div[@class=\"jobCard_jobCard_cName__mYnow\"]')\n",
    "company_tag"
   ]
  },
  {
   "cell_type": "code",
   "execution_count": 116,
   "id": "e3606955",
   "metadata": {},
   "outputs": [
    {
     "data": {
      "text/plain": [
       "['boyen haddin consulting and technol...',\n",
       " 'boyen haddin consulting and technol...',\n",
       " 'deuglo infosystem private limited',\n",
       " 'deuglo infosystem private limited',\n",
       " 'quiscon biotech',\n",
       " 'skyleaf consultants',\n",
       " 'quiscon biotech',\n",
       " 'nina s hr consultancy',\n",
       " 'nina s hr consultancy',\n",
       " 'acme services private limited']"
      ]
     },
     "execution_count": 116,
     "metadata": {},
     "output_type": "execute_result"
    }
   ],
   "source": [
    "# Now we will extract the text from the tags by looping over these tags\n",
    "companies1_names=[]\n",
    "\n",
    "for i in company_tag:\n",
    "    companies1_names.append(i.text)\n",
    "companies1_names[:10]    "
   ]
  },
  {
   "cell_type": "code",
   "execution_count": 117,
   "id": "52a94cbe",
   "metadata": {},
   "outputs": [
    {
     "data": {
      "text/plain": [
       "[<selenium.webdriver.remote.webelement.WebElement (session=\"3e9446cae86c784bbb98c28c881a7544\", element=\"220DDF799B31CAFFE6ECACD07F5B4D71_element_594\")>,\n",
       " <selenium.webdriver.remote.webelement.WebElement (session=\"3e9446cae86c784bbb98c28c881a7544\", element=\"220DDF799B31CAFFE6ECACD07F5B4D71_element_659\")>,\n",
       " <selenium.webdriver.remote.webelement.WebElement (session=\"3e9446cae86c784bbb98c28c881a7544\", element=\"220DDF799B31CAFFE6ECACD07F5B4D71_element_669\")>,\n",
       " <selenium.webdriver.remote.webelement.WebElement (session=\"3e9446cae86c784bbb98c28c881a7544\", element=\"220DDF799B31CAFFE6ECACD07F5B4D71_element_670\")>,\n",
       " <selenium.webdriver.remote.webelement.WebElement (session=\"3e9446cae86c784bbb98c28c881a7544\", element=\"220DDF799B31CAFFE6ECACD07F5B4D71_element_671\")>,\n",
       " <selenium.webdriver.remote.webelement.WebElement (session=\"3e9446cae86c784bbb98c28c881a7544\", element=\"220DDF799B31CAFFE6ECACD07F5B4D71_element_672\")>,\n",
       " <selenium.webdriver.remote.webelement.WebElement (session=\"3e9446cae86c784bbb98c28c881a7544\", element=\"220DDF799B31CAFFE6ECACD07F5B4D71_element_673\")>,\n",
       " <selenium.webdriver.remote.webelement.WebElement (session=\"3e9446cae86c784bbb98c28c881a7544\", element=\"220DDF799B31CAFFE6ECACD07F5B4D71_element_674\")>,\n",
       " <selenium.webdriver.remote.webelement.WebElement (session=\"3e9446cae86c784bbb98c28c881a7544\", element=\"220DDF799B31CAFFE6ECACD07F5B4D71_element_675\")>,\n",
       " <selenium.webdriver.remote.webelement.WebElement (session=\"3e9446cae86c784bbb98c28c881a7544\", element=\"220DDF799B31CAFFE6ECACD07F5B4D71_element_676\")>,\n",
       " <selenium.webdriver.remote.webelement.WebElement (session=\"3e9446cae86c784bbb98c28c881a7544\", element=\"220DDF799B31CAFFE6ECACD07F5B4D71_element_677\")>,\n",
       " <selenium.webdriver.remote.webelement.WebElement (session=\"3e9446cae86c784bbb98c28c881a7544\", element=\"220DDF799B31CAFFE6ECACD07F5B4D71_element_678\")>,\n",
       " <selenium.webdriver.remote.webelement.WebElement (session=\"3e9446cae86c784bbb98c28c881a7544\", element=\"220DDF799B31CAFFE6ECACD07F5B4D71_element_679\")>,\n",
       " <selenium.webdriver.remote.webelement.WebElement (session=\"3e9446cae86c784bbb98c28c881a7544\", element=\"220DDF799B31CAFFE6ECACD07F5B4D71_element_680\")>,\n",
       " <selenium.webdriver.remote.webelement.WebElement (session=\"3e9446cae86c784bbb98c28c881a7544\", element=\"220DDF799B31CAFFE6ECACD07F5B4D71_element_681\")>,\n",
       " <selenium.webdriver.remote.webelement.WebElement (session=\"3e9446cae86c784bbb98c28c881a7544\", element=\"220DDF799B31CAFFE6ECACD07F5B4D71_element_682\")>,\n",
       " <selenium.webdriver.remote.webelement.WebElement (session=\"3e9446cae86c784bbb98c28c881a7544\", element=\"220DDF799B31CAFFE6ECACD07F5B4D71_element_683\")>,\n",
       " <selenium.webdriver.remote.webelement.WebElement (session=\"3e9446cae86c784bbb98c28c881a7544\", element=\"220DDF799B31CAFFE6ECACD07F5B4D71_element_684\")>,\n",
       " <selenium.webdriver.remote.webelement.WebElement (session=\"3e9446cae86c784bbb98c28c881a7544\", element=\"220DDF799B31CAFFE6ECACD07F5B4D71_element_685\")>,\n",
       " <selenium.webdriver.remote.webelement.WebElement (session=\"3e9446cae86c784bbb98c28c881a7544\", element=\"220DDF799B31CAFFE6ECACD07F5B4D71_element_686\")>]"
      ]
     },
     "execution_count": 117,
     "metadata": {},
     "output_type": "execute_result"
    }
   ],
   "source": [
    "# lets extract all the tags having locations\n",
    "locations_tag=driver.find_elements(By.XPATH,'//div[@class=\" jobCard_jobCard_lists_item__YxRkV jobCard_locationIcon__zrWt2\"]')\n",
    "locations_tag"
   ]
  },
  {
   "cell_type": "code",
   "execution_count": 118,
   "id": "3a76e3b3",
   "metadata": {},
   "outputs": [
    {
     "data": {
      "text/plain": [
       "['Delhi\\n+4',\n",
       " 'Delhi\\n+4',\n",
       " 'Delhi\\n+8',\n",
       " 'Delhi\\n+8',\n",
       " 'Delhi\\n+6',\n",
       " 'Delhi',\n",
       " 'Delhi\\n+6',\n",
       " 'Delhi',\n",
       " 'Delhi',\n",
       " 'Delhi\\n+4']"
      ]
     },
     "execution_count": 118,
     "metadata": {},
     "output_type": "execute_result"
    }
   ],
   "source": [
    "locations1_list=[]\n",
    "for i in locations_tag:\n",
    "    locations1_list.append(i.text)\n",
    "locations1_list[:10]  "
   ]
  },
  {
   "cell_type": "code",
   "execution_count": 119,
   "id": "24c08251",
   "metadata": {},
   "outputs": [
    {
     "data": {
      "text/plain": [
       "[<selenium.webdriver.remote.webelement.WebElement (session=\"3e9446cae86c784bbb98c28c881a7544\", element=\"B5E43908EC38F4B88B7D5E9A186BE1BB_element_1538\")>,\n",
       " <selenium.webdriver.remote.webelement.WebElement (session=\"3e9446cae86c784bbb98c28c881a7544\", element=\"B5E43908EC38F4B88B7D5E9A186BE1BB_element_1542\")>,\n",
       " <selenium.webdriver.remote.webelement.WebElement (session=\"3e9446cae86c784bbb98c28c881a7544\", element=\"B5E43908EC38F4B88B7D5E9A186BE1BB_element_1543\")>,\n",
       " <selenium.webdriver.remote.webelement.WebElement (session=\"3e9446cae86c784bbb98c28c881a7544\", element=\"B5E43908EC38F4B88B7D5E9A186BE1BB_element_1544\")>,\n",
       " <selenium.webdriver.remote.webelement.WebElement (session=\"3e9446cae86c784bbb98c28c881a7544\", element=\"B5E43908EC38F4B88B7D5E9A186BE1BB_element_1271\")>,\n",
       " <selenium.webdriver.remote.webelement.WebElement (session=\"3e9446cae86c784bbb98c28c881a7544\", element=\"B5E43908EC38F4B88B7D5E9A186BE1BB_element_1273\")>,\n",
       " <selenium.webdriver.remote.webelement.WebElement (session=\"3e9446cae86c784bbb98c28c881a7544\", element=\"B5E43908EC38F4B88B7D5E9A186BE1BB_element_1545\")>,\n",
       " <selenium.webdriver.remote.webelement.WebElement (session=\"3e9446cae86c784bbb98c28c881a7544\", element=\"B5E43908EC38F4B88B7D5E9A186BE1BB_element_1546\")>,\n",
       " <selenium.webdriver.remote.webelement.WebElement (session=\"3e9446cae86c784bbb98c28c881a7544\", element=\"B5E43908EC38F4B88B7D5E9A186BE1BB_element_1547\")>,\n",
       " <selenium.webdriver.remote.webelement.WebElement (session=\"3e9446cae86c784bbb98c28c881a7544\", element=\"B5E43908EC38F4B88B7D5E9A186BE1BB_element_1548\")>,\n",
       " <selenium.webdriver.remote.webelement.WebElement (session=\"3e9446cae86c784bbb98c28c881a7544\", element=\"B5E43908EC38F4B88B7D5E9A186BE1BB_element_1549\")>,\n",
       " <selenium.webdriver.remote.webelement.WebElement (session=\"3e9446cae86c784bbb98c28c881a7544\", element=\"B5E43908EC38F4B88B7D5E9A186BE1BB_element_1550\")>,\n",
       " <selenium.webdriver.remote.webelement.WebElement (session=\"3e9446cae86c784bbb98c28c881a7544\", element=\"B5E43908EC38F4B88B7D5E9A186BE1BB_element_1551\")>,\n",
       " <selenium.webdriver.remote.webelement.WebElement (session=\"3e9446cae86c784bbb98c28c881a7544\", element=\"B5E43908EC38F4B88B7D5E9A186BE1BB_element_1552\")>,\n",
       " <selenium.webdriver.remote.webelement.WebElement (session=\"3e9446cae86c784bbb98c28c881a7544\", element=\"B5E43908EC38F4B88B7D5E9A186BE1BB_element_1553\")>,\n",
       " <selenium.webdriver.remote.webelement.WebElement (session=\"3e9446cae86c784bbb98c28c881a7544\", element=\"B5E43908EC38F4B88B7D5E9A186BE1BB_element_1554\")>,\n",
       " <selenium.webdriver.remote.webelement.WebElement (session=\"3e9446cae86c784bbb98c28c881a7544\", element=\"B5E43908EC38F4B88B7D5E9A186BE1BB_element_1555\")>,\n",
       " <selenium.webdriver.remote.webelement.WebElement (session=\"3e9446cae86c784bbb98c28c881a7544\", element=\"B5E43908EC38F4B88B7D5E9A186BE1BB_element_1556\")>,\n",
       " <selenium.webdriver.remote.webelement.WebElement (session=\"3e9446cae86c784bbb98c28c881a7544\", element=\"B5E43908EC38F4B88B7D5E9A186BE1BB_element_1557\")>,\n",
       " <selenium.webdriver.remote.webelement.WebElement (session=\"3e9446cae86c784bbb98c28c881a7544\", element=\"B5E43908EC38F4B88B7D5E9A186BE1BB_element_1558\")>]"
      ]
     },
     "execution_count": 119,
     "metadata": {},
     "output_type": "execute_result"
    }
   ],
   "source": [
    "experience_tag=driver.find_elements(By.XPATH,'//div[@class=\" jobCard_jobCard_lists_item__YxRkV jobCard_jobIcon__3FB1t\"]')\n",
    "experience_tag"
   ]
  },
  {
   "cell_type": "code",
   "execution_count": 120,
   "id": "c88a3bfc",
   "metadata": {},
   "outputs": [
    {
     "data": {
      "text/plain": [
       "['0 to 3 Yrs',\n",
       " '3 to 6 Yrs',\n",
       " '0 to 1 Yr',\n",
       " '2 to 3 Yrs',\n",
       " '2 to 3 Yrs',\n",
       " '3 to 5 Yrs',\n",
       " '2 to 6 Yrs',\n",
       " '4 to 8 Yrs',\n",
       " '3 to 5 Yrs',\n",
       " '3 to 6 Yrs']"
      ]
     },
     "execution_count": 120,
     "metadata": {},
     "output_type": "execute_result"
    }
   ],
   "source": [
    "experience1_names=[]\n",
    "\n",
    "for i in experience_tag:\n",
    "    experience1_names.append(i.text)\n",
    "experience1_names[:10]    "
   ]
  },
  {
   "cell_type": "code",
   "execution_count": 122,
   "id": "5e974cd8",
   "metadata": {},
   "outputs": [
    {
     "name": "stdout",
     "output_type": "stream",
     "text": [
      "10\n",
      "10\n",
      "10\n",
      "10 None\n"
     ]
    },
    {
     "data": {
      "text/plain": [
       "(None, None, None)"
      ]
     },
     "execution_count": 122,
     "metadata": {},
     "output_type": "execute_result"
    }
   ],
   "source": [
    "print(len(job1_titles[:10])),print(len(companies1_names[:10])),print(len(locations1_list[:10]),print(len(experience1_names[:10])))"
   ]
  },
  {
   "cell_type": "code",
   "execution_count": 123,
   "id": "5b6938da",
   "metadata": {},
   "outputs": [],
   "source": [
    "job1=pd.DataFrame({})\n",
    "job1['title']=job1_titles[:10]\n",
    "job1['company_name']=companies1_names[:10]\n",
    "job1['location']=locations1_list[:10]\n",
    "job1['experience_required']=experience1_names[:10]"
   ]
  },
  {
   "cell_type": "code",
   "execution_count": 124,
   "id": "381524c5",
   "metadata": {},
   "outputs": [
    {
     "data": {
      "text/html": [
       "<div>\n",
       "<style scoped>\n",
       "    .dataframe tbody tr th:only-of-type {\n",
       "        vertical-align: middle;\n",
       "    }\n",
       "\n",
       "    .dataframe tbody tr th {\n",
       "        vertical-align: top;\n",
       "    }\n",
       "\n",
       "    .dataframe thead th {\n",
       "        text-align: right;\n",
       "    }\n",
       "</style>\n",
       "<table border=\"1\" class=\"dataframe\">\n",
       "  <thead>\n",
       "    <tr style=\"text-align: right;\">\n",
       "      <th></th>\n",
       "      <th>title</th>\n",
       "      <th>company_name</th>\n",
       "      <th>location</th>\n",
       "      <th>experience_required</th>\n",
       "    </tr>\n",
       "  </thead>\n",
       "  <tbody>\n",
       "    <tr>\n",
       "      <th>0</th>\n",
       "      <td>Data Scientist - Spark/Python/Redshift</td>\n",
       "      <td>boyen haddin consulting and technol...</td>\n",
       "      <td>Delhi\\n+4</td>\n",
       "      <td>0 to 3 Yrs</td>\n",
       "    </tr>\n",
       "    <tr>\n",
       "      <th>1</th>\n",
       "      <td>Data Scientist - Spark/Python/Redshift</td>\n",
       "      <td>boyen haddin consulting and technol...</td>\n",
       "      <td>Delhi\\n+4</td>\n",
       "      <td>3 to 6 Yrs</td>\n",
       "    </tr>\n",
       "    <tr>\n",
       "      <th>2</th>\n",
       "      <td>Urgently need Data Scientist</td>\n",
       "      <td>deuglo infosystem private limited</td>\n",
       "      <td>Delhi\\n+8</td>\n",
       "      <td>0 to 1 Yr</td>\n",
       "    </tr>\n",
       "    <tr>\n",
       "      <th>3</th>\n",
       "      <td>Needed for the post Data Scientist</td>\n",
       "      <td>deuglo infosystem private limited</td>\n",
       "      <td>Delhi\\n+8</td>\n",
       "      <td>2 to 3 Yrs</td>\n",
       "    </tr>\n",
       "    <tr>\n",
       "      <th>4</th>\n",
       "      <td>Data Scientist</td>\n",
       "      <td>quiscon biotech</td>\n",
       "      <td>Delhi\\n+6</td>\n",
       "      <td>2 to 3 Yrs</td>\n",
       "    </tr>\n",
       "    <tr>\n",
       "      <th>5</th>\n",
       "      <td>Data Scientist</td>\n",
       "      <td>skyleaf consultants</td>\n",
       "      <td>Delhi</td>\n",
       "      <td>3 to 5 Yrs</td>\n",
       "    </tr>\n",
       "    <tr>\n",
       "      <th>6</th>\n",
       "      <td>Data Scientist</td>\n",
       "      <td>quiscon biotech</td>\n",
       "      <td>Delhi\\n+6</td>\n",
       "      <td>2 to 6 Yrs</td>\n",
       "    </tr>\n",
       "    <tr>\n",
       "      <th>7</th>\n",
       "      <td>for _GCP Data Engineer/Lead/Architect- Delhi</td>\n",
       "      <td>nina s hr consultancy</td>\n",
       "      <td>Delhi</td>\n",
       "      <td>4 to 8 Yrs</td>\n",
       "    </tr>\n",
       "    <tr>\n",
       "      <th>8</th>\n",
       "      <td>for _GCP Data Engineer/Lead/Architect- Delhi</td>\n",
       "      <td>nina s hr consultancy</td>\n",
       "      <td>Delhi</td>\n",
       "      <td>3 to 5 Yrs</td>\n",
       "    </tr>\n",
       "    <tr>\n",
       "      <th>9</th>\n",
       "      <td>Data Scientist</td>\n",
       "      <td>acme services private limited</td>\n",
       "      <td>Delhi\\n+4</td>\n",
       "      <td>3 to 6 Yrs</td>\n",
       "    </tr>\n",
       "  </tbody>\n",
       "</table>\n",
       "</div>"
      ],
      "text/plain": [
       "                                          title  \\\n",
       "0        Data Scientist - Spark/Python/Redshift   \n",
       "1        Data Scientist - Spark/Python/Redshift   \n",
       "2                  Urgently need Data Scientist   \n",
       "3            Needed for the post Data Scientist   \n",
       "4                                Data Scientist   \n",
       "5                                Data Scientist   \n",
       "6                                Data Scientist   \n",
       "7  for _GCP Data Engineer/Lead/Architect- Delhi   \n",
       "8  for _GCP Data Engineer/Lead/Architect- Delhi   \n",
       "9                                Data Scientist   \n",
       "\n",
       "                             company_name   location experience_required  \n",
       "0  boyen haddin consulting and technol...  Delhi\\n+4          0 to 3 Yrs  \n",
       "1  boyen haddin consulting and technol...  Delhi\\n+4          3 to 6 Yrs  \n",
       "2       deuglo infosystem private limited  Delhi\\n+8           0 to 1 Yr  \n",
       "3       deuglo infosystem private limited  Delhi\\n+8          2 to 3 Yrs  \n",
       "4                         quiscon biotech  Delhi\\n+6          2 to 3 Yrs  \n",
       "5                     skyleaf consultants      Delhi          3 to 5 Yrs  \n",
       "6                         quiscon biotech  Delhi\\n+6          2 to 6 Yrs  \n",
       "7                   nina s hr consultancy      Delhi          4 to 8 Yrs  \n",
       "8                   nina s hr consultancy      Delhi          3 to 5 Yrs  \n",
       "9           acme services private limited  Delhi\\n+4          3 to 6 Yrs  "
      ]
     },
     "execution_count": 124,
     "metadata": {},
     "output_type": "execute_result"
    }
   ],
   "source": [
    "job1"
   ]
  },
  {
   "cell_type": "markdown",
   "id": "018b99ed",
   "metadata": {},
   "source": [
    "Q4: Scrape data of first 100 sunglasses listings on flipkart.com. You have to scrape four attributes:\n",
    "6. Brand\n",
    "7. ProductDescription\n",
    "8. Price\n",
    "The attributes which you have to scrape is ticked marked in the below image.\n",
    "To scrape the data you have to go through following steps:\n",
    "1. Go to Flipkart webpage by url :https://www.flipkart.com/\n",
    "2. Enter “sunglasses” in the search fieldwhere “search for products, brands and more” is written and\n",
    "click the search icon\n",
    "3. After that you will reach to the page having a lot of sunglasses. From this page you can scrap the\n",
    "required data as usual.\n",
    "ASSIGNMENT 2\n",
    "4. After scraping data from the first page, go to the “Next” Button at the bottom other page , then\n",
    "click on it.\n",
    "5. Now scrape data from this page as usual\n",
    "6. Repeat this until you get data for 100sunglasses.\n",
    "Note: That all of the above steps have to be done by coding only and not manually"
   ]
  },
  {
   "cell_type": "code",
   "execution_count": 3,
   "id": "1d04d650",
   "metadata": {},
   "outputs": [],
   "source": [
    "driver=webdriver.Chrome()\n",
    "driver.get('https://www.flipkart.com/')"
   ]
  },
  {
   "cell_type": "code",
   "execution_count": 4,
   "id": "f34e9782",
   "metadata": {},
   "outputs": [],
   "source": [
    "search=driver.find_element(By.XPATH,'//input[@type=\"text\"]')\n",
    "search.send_keys('sunglasses')"
   ]
  },
  {
   "cell_type": "code",
   "execution_count": 5,
   "id": "0e8b7962",
   "metadata": {},
   "outputs": [
    {
     "data": {
      "text/plain": [
       "<selenium.webdriver.remote.webelement.WebElement (session=\"cdac95bfc27ecabd2495eec1a3a44d93\", element=\"B5DA5D5638CF23A7865A8E0704176775_element_146\")>"
      ]
     },
     "execution_count": 5,
     "metadata": {},
     "output_type": "execute_result"
    }
   ],
   "source": [
    "search_btn=driver.find_element(By.XPATH,\"//button[@class='L0Z3Pu']\")\n",
    "search_btn"
   ]
  },
  {
   "cell_type": "code",
   "execution_count": 6,
   "id": "b1366107",
   "metadata": {},
   "outputs": [],
   "source": [
    "search_btn=driver.find_element(By.CLASS_NAME,'L0Z3Pu')\n",
    "search_btn.click()"
   ]
  },
  {
   "cell_type": "code",
   "execution_count": 7,
   "id": "84912c9a",
   "metadata": {},
   "outputs": [],
   "source": [
    "B_name=[]\n",
    "for i in range(3):\n",
    "    b_name=driver.find_elements(By.XPATH,'//div[@class=\"_2WkVRV\"]')\n",
    "\n",
    "    for j  in b_name:\n",
    "        B_name.append(j.text)\n",
    "    B_name[:100]  "
   ]
  },
  {
   "cell_type": "code",
   "execution_count": 8,
   "id": "63d8085f",
   "metadata": {},
   "outputs": [],
   "source": [
    "P_desc=[]\n",
    "for i in range(3):\n",
    "    p_desc=driver.find_elements(By.XPATH,'//a[@class=\"IRpwTa\"]')\n",
    "    for k in p_desc:\n",
    "        P_desc.append(k.text)\n",
    "    P_desc[:100] "
   ]
  },
  {
   "cell_type": "code",
   "execution_count": 9,
   "id": "e0092c2b",
   "metadata": {},
   "outputs": [],
   "source": [
    "Price=[]\n",
    "for i in range(3):\n",
    "    price =driver.find_elements(By.XPATH,'//div[@class=\"_30jeq3\"]')\n",
    "    for l in price:\n",
    "        Price.append(l.text)\n",
    "    Price[:100] \n"
   ]
  },
  {
   "cell_type": "code",
   "execution_count": 10,
   "id": "325db38d",
   "metadata": {},
   "outputs": [],
   "source": [
    "Discount=[]\n",
    "for i in range(3):\n",
    "    discount=driver.find_elements(By.XPATH,'//div[@class=\"_3Ay6Sb\"]')\n",
    "    for t in discount:\n",
    "        Discount.append(t.text)\n",
    "    Discount[:100]"
   ]
  },
  {
   "cell_type": "code",
   "execution_count": 11,
   "id": "1628eaec",
   "metadata": {},
   "outputs": [
    {
     "name": "stdout",
     "output_type": "stream",
     "text": [
      "100\n",
      "100\n",
      "100\n",
      "100\n"
     ]
    },
    {
     "data": {
      "text/plain": [
       "(None, None, None, None)"
      ]
     },
     "execution_count": 11,
     "metadata": {},
     "output_type": "execute_result"
    }
   ],
   "source": [
    "print(len(B_name[:100])),print(len(Price[:100])),print(len(P_desc[:100])),print(len(Discount[:100]))\n"
   ]
  },
  {
   "cell_type": "code",
   "execution_count": 12,
   "id": "5e3d5d03",
   "metadata": {},
   "outputs": [],
   "source": [
    "sun_gl=pd.DataFrame({})\n",
    "sun_gl['Brand_name']=B_name[:100]\n",
    "sun_gl['P_price']=Price[:100]\n",
    "sun_gl['Pr_desc']=P_desc[:100]\n",
    "sun_gl['P_discount']=Discount[:100]"
   ]
  },
  {
   "cell_type": "code",
   "execution_count": 13,
   "id": "7e32a711",
   "metadata": {},
   "outputs": [
    {
     "data": {
      "text/html": [
       "<div>\n",
       "<style scoped>\n",
       "    .dataframe tbody tr th:only-of-type {\n",
       "        vertical-align: middle;\n",
       "    }\n",
       "\n",
       "    .dataframe tbody tr th {\n",
       "        vertical-align: top;\n",
       "    }\n",
       "\n",
       "    .dataframe thead th {\n",
       "        text-align: right;\n",
       "    }\n",
       "</style>\n",
       "<table border=\"1\" class=\"dataframe\">\n",
       "  <thead>\n",
       "    <tr style=\"text-align: right;\">\n",
       "      <th></th>\n",
       "      <th>Brand_name</th>\n",
       "      <th>P_price</th>\n",
       "      <th>Pr_desc</th>\n",
       "      <th>P_discount</th>\n",
       "    </tr>\n",
       "  </thead>\n",
       "  <tbody>\n",
       "    <tr>\n",
       "      <th>0</th>\n",
       "      <td>VINCENT CHASE</td>\n",
       "      <td>₹899</td>\n",
       "      <td>UV Protection, Polarized Over-sized Sunglasses...</td>\n",
       "      <td>55% off</td>\n",
       "    </tr>\n",
       "    <tr>\n",
       "      <th>1</th>\n",
       "      <td>Singco India</td>\n",
       "      <td>₹379</td>\n",
       "      <td>Riding Glasses, UV Protection Clubmaster, Wayf...</td>\n",
       "      <td>81% off</td>\n",
       "    </tr>\n",
       "    <tr>\n",
       "      <th>2</th>\n",
       "      <td>SRPM</td>\n",
       "      <td>₹204</td>\n",
       "      <td>UV Protection Wayfarer Sunglasses (50)</td>\n",
       "      <td>84% off</td>\n",
       "    </tr>\n",
       "    <tr>\n",
       "      <th>3</th>\n",
       "      <td>PIRASO</td>\n",
       "      <td>₹239</td>\n",
       "      <td>UV Protection Clubmaster Sunglasses (54)</td>\n",
       "      <td>85% off</td>\n",
       "    </tr>\n",
       "    <tr>\n",
       "      <th>4</th>\n",
       "      <td>Elligator</td>\n",
       "      <td>₹179</td>\n",
       "      <td>UV Protection Cat-eye, Retro Square, Oval, Rou...</td>\n",
       "      <td>70% off</td>\n",
       "    </tr>\n",
       "    <tr>\n",
       "      <th>...</th>\n",
       "      <td>...</td>\n",
       "      <td>...</td>\n",
       "      <td>...</td>\n",
       "      <td>...</td>\n",
       "    </tr>\n",
       "    <tr>\n",
       "      <th>95</th>\n",
       "      <td>ROYAL SON</td>\n",
       "      <td>₹594</td>\n",
       "      <td>by Lenskart Polarized, UV Protection Wayfarer ...</td>\n",
       "      <td>73% off</td>\n",
       "    </tr>\n",
       "    <tr>\n",
       "      <th>96</th>\n",
       "      <td>VINCENT CHASE</td>\n",
       "      <td>₹965</td>\n",
       "      <td>by Lenskart Polarized, UV Protection Round Sun...</td>\n",
       "      <td>57% off</td>\n",
       "    </tr>\n",
       "    <tr>\n",
       "      <th>97</th>\n",
       "      <td>ROYAL SON</td>\n",
       "      <td>₹398</td>\n",
       "      <td>UV Protection Retro Square Sunglasses (54)</td>\n",
       "      <td>77% off</td>\n",
       "    </tr>\n",
       "    <tr>\n",
       "      <th>98</th>\n",
       "      <td>SmartGlass</td>\n",
       "      <td>₹429</td>\n",
       "      <td>UV Protection, Mirrored, Polarized Rectangular...</td>\n",
       "      <td>74% off</td>\n",
       "    </tr>\n",
       "    <tr>\n",
       "      <th>99</th>\n",
       "      <td>ROADWAY</td>\n",
       "      <td>₹294</td>\n",
       "      <td>UV Protection Sunglass</td>\n",
       "      <td>55% off</td>\n",
       "    </tr>\n",
       "  </tbody>\n",
       "</table>\n",
       "<p>100 rows × 4 columns</p>\n",
       "</div>"
      ],
      "text/plain": [
       "       Brand_name P_price                                            Pr_desc  \\\n",
       "0   VINCENT CHASE    ₹899  UV Protection, Polarized Over-sized Sunglasses...   \n",
       "1    Singco India    ₹379  Riding Glasses, UV Protection Clubmaster, Wayf...   \n",
       "2            SRPM    ₹204             UV Protection Wayfarer Sunglasses (50)   \n",
       "3          PIRASO    ₹239           UV Protection Clubmaster Sunglasses (54)   \n",
       "4       Elligator    ₹179  UV Protection Cat-eye, Retro Square, Oval, Rou...   \n",
       "..            ...     ...                                                ...   \n",
       "95      ROYAL SON    ₹594  by Lenskart Polarized, UV Protection Wayfarer ...   \n",
       "96  VINCENT CHASE    ₹965  by Lenskart Polarized, UV Protection Round Sun...   \n",
       "97      ROYAL SON    ₹398         UV Protection Retro Square Sunglasses (54)   \n",
       "98     SmartGlass    ₹429  UV Protection, Mirrored, Polarized Rectangular...   \n",
       "99        ROADWAY    ₹294                             UV Protection Sunglass   \n",
       "\n",
       "   P_discount  \n",
       "0     55% off  \n",
       "1     81% off  \n",
       "2     84% off  \n",
       "3     85% off  \n",
       "4     70% off  \n",
       "..        ...  \n",
       "95    73% off  \n",
       "96    57% off  \n",
       "97    77% off  \n",
       "98    74% off  \n",
       "99    55% off  \n",
       "\n",
       "[100 rows x 4 columns]"
      ]
     },
     "execution_count": 13,
     "metadata": {},
     "output_type": "execute_result"
    }
   ],
   "source": [
    "sun_gl"
   ]
  },
  {
   "cell_type": "markdown",
   "id": "04698dd1",
   "metadata": {},
   "source": [
    "Q5: Scrape 100 reviews data from flipkart.com for iphone11 phone. You have to go the link:\n",
    "https://www.flipkart.com/apple-iphone-11-black-64-gb/product\u0002reviews/itm4e5041ba101fd?pid=MOBFWQ6BXGJCEYNY&lid=LSTMOBFWQ6BXGJCEYNYZXSHRJ&market\n",
    "place=FLIPKART\n",
    "As shown in the above page you have to scrape the tick marked attributes. These are:\n",
    "1. Rating\n",
    "2. Review summary\n",
    "3. Full review\n",
    "4. You have to scrape this data for first 100reviews.\n",
    "Note: All the steps required during scraping should be done through code only and not manually."
   ]
  },
  {
   "cell_type": "code",
   "execution_count": 15,
   "id": "31d3c8be",
   "metadata": {},
   "outputs": [],
   "source": [
    "import requests"
   ]
  },
  {
   "cell_type": "code",
   "execution_count": 16,
   "id": "e6629171",
   "metadata": {},
   "outputs": [
    {
     "data": {
      "text/plain": [
       "<Response [404]>"
      ]
     },
     "execution_count": 16,
     "metadata": {},
     "output_type": "execute_result"
    }
   ],
   "source": [
    "page=requests.get('https://www.flipkart.com/apple-iphone-11-black-64-gb/product\u0002reviews/itm4e5041ba101fd?pid=MOBFWQ6BXGJCEYNY&lid=LSTMOBFWQ6BXGJCEYNYZXSHRJ&market')\n",
    "page"
   ]
  },
  {
   "cell_type": "markdown",
   "id": "fda2c4b6",
   "metadata": {},
   "source": [
    "Q6: Scrape data forfirst 100 sneakers you find whenyou visit flipkart.com and search for “sneakers” inthe\n",
    "search field.\n",
    "You have to scrape 3 attributes of each sneaker:\n",
    "1. Brand\n",
    "2. ProductDescription\n",
    "3. Price\n",
    "As shown in the below image, you have to scrape the above attributes"
   ]
  },
  {
   "cell_type": "code",
   "execution_count": 18,
   "id": "04d106b2",
   "metadata": {},
   "outputs": [],
   "source": [
    "driver=webdriver.Chrome()\n",
    "driver.get('https://www.flipkart.com/')"
   ]
  },
  {
   "cell_type": "code",
   "execution_count": 19,
   "id": "95cea018",
   "metadata": {},
   "outputs": [],
   "source": [
    "search=driver.find_element(By.XPATH,'//input[@type=\"text\"]')\n",
    "search.send_keys('sneaker')"
   ]
  },
  {
   "cell_type": "code",
   "execution_count": 20,
   "id": "8e29f912",
   "metadata": {},
   "outputs": [
    {
     "data": {
      "text/plain": [
       "<selenium.webdriver.remote.webelement.WebElement (session=\"f5957ddc38ab931454946c14ba112580\", element=\"2B3861AE78D1A18FBA5CDAC1E3C29536_element_440\")>"
      ]
     },
     "execution_count": 20,
     "metadata": {},
     "output_type": "execute_result"
    }
   ],
   "source": [
    "search_btn=driver.find_element(By.XPATH,\"//button[@class='L0Z3Pu']\")\n",
    "search_btn"
   ]
  },
  {
   "cell_type": "code",
   "execution_count": 21,
   "id": "0251e0e6",
   "metadata": {},
   "outputs": [],
   "source": [
    "search_btn=driver.find_element(By.CLASS_NAME,'L0Z3Pu')\n",
    "search_btn.click()"
   ]
  },
  {
   "cell_type": "code",
   "execution_count": 22,
   "id": "51fdf164",
   "metadata": {},
   "outputs": [],
   "source": [
    "B_name=[]\n",
    "for i in range(3):\n",
    "    b_name=driver.find_elements(By.XPATH,'//div[@class=\"_2WkVRV\"]')\n",
    "\n",
    "    for j  in b_name:\n",
    "        B_name.append(j.text)\n",
    "    B_name[:100]  "
   ]
  },
  {
   "cell_type": "code",
   "execution_count": 23,
   "id": "130e11a4",
   "metadata": {},
   "outputs": [],
   "source": [
    "P_desc=[]\n",
    "for i in range(3):\n",
    "    p_desc=driver.find_elements(By.XPATH,'//a[@class=\"IRpwTa\"]')\n",
    "    for k in p_desc:\n",
    "        P_desc.append(k.text)\n",
    "    P_desc[:100] "
   ]
  },
  {
   "cell_type": "code",
   "execution_count": 24,
   "id": "301c775a",
   "metadata": {},
   "outputs": [],
   "source": [
    "Price=[]\n",
    "for i in range(3):\n",
    "    price =driver.find_elements(By.XPATH,'//div[@class=\"_30jeq3\"]')\n",
    "    for l in price:\n",
    "        Price.append(l.text)\n",
    "    Price[:100] "
   ]
  },
  {
   "cell_type": "code",
   "execution_count": 25,
   "id": "4273d937",
   "metadata": {},
   "outputs": [
    {
     "name": "stdout",
     "output_type": "stream",
     "text": [
      "100\n",
      "100\n",
      "100\n"
     ]
    },
    {
     "data": {
      "text/plain": [
       "(None, None, None)"
      ]
     },
     "execution_count": 25,
     "metadata": {},
     "output_type": "execute_result"
    }
   ],
   "source": [
    "print(len(B_name[:100])),print(len(Price[:100])),print(len(P_desc[:100]))"
   ]
  },
  {
   "cell_type": "code",
   "execution_count": 26,
   "id": "48379f6b",
   "metadata": {},
   "outputs": [],
   "source": [
    "sneaker=pd.DataFrame({})\n",
    "sneaker['Brand_name']=B_name[:100]\n",
    "sneaker['P_price']=Price[:100]\n",
    "sneaker['Pr_desc']=P_desc[:100]"
   ]
  },
  {
   "cell_type": "code",
   "execution_count": 27,
   "id": "a61d46a2",
   "metadata": {},
   "outputs": [
    {
     "data": {
      "text/html": [
       "<div>\n",
       "<style scoped>\n",
       "    .dataframe tbody tr th:only-of-type {\n",
       "        vertical-align: middle;\n",
       "    }\n",
       "\n",
       "    .dataframe tbody tr th {\n",
       "        vertical-align: top;\n",
       "    }\n",
       "\n",
       "    .dataframe thead th {\n",
       "        text-align: right;\n",
       "    }\n",
       "</style>\n",
       "<table border=\"1\" class=\"dataframe\">\n",
       "  <thead>\n",
       "    <tr style=\"text-align: right;\">\n",
       "      <th></th>\n",
       "      <th>Brand_name</th>\n",
       "      <th>P_price</th>\n",
       "      <th>Pr_desc</th>\n",
       "    </tr>\n",
       "  </thead>\n",
       "  <tbody>\n",
       "    <tr>\n",
       "      <th>0</th>\n",
       "      <td>Magnolia</td>\n",
       "      <td>₹449</td>\n",
       "      <td>Modern Trendy Sneakers boot Sneakers Sneakers ...</td>\n",
       "    </tr>\n",
       "    <tr>\n",
       "      <th>1</th>\n",
       "      <td>SFR</td>\n",
       "      <td>₹349</td>\n",
       "      <td>Exclusive Affordable Collection of Trendy &amp; St...</td>\n",
       "    </tr>\n",
       "    <tr>\n",
       "      <th>2</th>\n",
       "      <td>BRUTON</td>\n",
       "      <td>₹379</td>\n",
       "      <td>Modern Trendy Shoes Sneakers For Men</td>\n",
       "    </tr>\n",
       "    <tr>\n",
       "      <th>3</th>\n",
       "      <td>Nobelite</td>\n",
       "      <td>₹299</td>\n",
       "      <td>Sneakers For Men</td>\n",
       "    </tr>\n",
       "    <tr>\n",
       "      <th>4</th>\n",
       "      <td>PUMA</td>\n",
       "      <td>₹1,930</td>\n",
       "      <td>Puma Rebound LayUp SL Sneakers For Men</td>\n",
       "    </tr>\n",
       "    <tr>\n",
       "      <th>...</th>\n",
       "      <td>...</td>\n",
       "      <td>...</td>\n",
       "      <td>...</td>\n",
       "    </tr>\n",
       "    <tr>\n",
       "      <th>95</th>\n",
       "      <td>Free Kicks</td>\n",
       "      <td>₹1,400</td>\n",
       "      <td>Combo Of 2 Shoes FK-570 &amp; FK-492 Sneakers For Men</td>\n",
       "    </tr>\n",
       "    <tr>\n",
       "      <th>96</th>\n",
       "      <td>KNIGHT WALKERS</td>\n",
       "      <td>₹619</td>\n",
       "      <td>SS1100 Sneakers For Men</td>\n",
       "    </tr>\n",
       "    <tr>\n",
       "      <th>97</th>\n",
       "      <td>SFR</td>\n",
       "      <td>₹349</td>\n",
       "      <td>Exclusive Affordable Collection of Trendy &amp; St...</td>\n",
       "    </tr>\n",
       "    <tr>\n",
       "      <th>98</th>\n",
       "      <td>Sparx</td>\n",
       "      <td>₹562</td>\n",
       "      <td>Sneakers For Men</td>\n",
       "    </tr>\n",
       "    <tr>\n",
       "      <th>99</th>\n",
       "      <td>Nobelite</td>\n",
       "      <td>₹299</td>\n",
       "      <td>Sneakers For Men</td>\n",
       "    </tr>\n",
       "  </tbody>\n",
       "</table>\n",
       "<p>100 rows × 3 columns</p>\n",
       "</div>"
      ],
      "text/plain": [
       "        Brand_name P_price                                            Pr_desc\n",
       "0         Magnolia    ₹449  Modern Trendy Sneakers boot Sneakers Sneakers ...\n",
       "1              SFR    ₹349  Exclusive Affordable Collection of Trendy & St...\n",
       "2           BRUTON    ₹379               Modern Trendy Shoes Sneakers For Men\n",
       "3         Nobelite    ₹299                                   Sneakers For Men\n",
       "4             PUMA  ₹1,930             Puma Rebound LayUp SL Sneakers For Men\n",
       "..             ...     ...                                                ...\n",
       "95      Free Kicks  ₹1,400  Combo Of 2 Shoes FK-570 & FK-492 Sneakers For Men\n",
       "96  KNIGHT WALKERS    ₹619                            SS1100 Sneakers For Men\n",
       "97             SFR    ₹349  Exclusive Affordable Collection of Trendy & St...\n",
       "98           Sparx    ₹562                                   Sneakers For Men\n",
       "99        Nobelite    ₹299                                   Sneakers For Men\n",
       "\n",
       "[100 rows x 3 columns]"
      ]
     },
     "execution_count": 27,
     "metadata": {},
     "output_type": "execute_result"
    }
   ],
   "source": [
    "sneaker"
   ]
  },
  {
   "cell_type": "markdown",
   "id": "e39ad60a",
   "metadata": {},
   "source": [
    "Q7: Go to webpage https://www.amazon.in/ Enter “Laptop” in the search field and then click the search icon. Then\n",
    "set CPU Type filter to “Intel Core i7” as shown in the below image:\n",
    "After setting the filters scrape first 10 laptops data. You have to scrape 3 attributes for each laptop:\n",
    "1. Title\n",
    "2. Ratings\n",
    "3. Price"
   ]
  },
  {
   "cell_type": "code",
   "execution_count": 28,
   "id": "42d85b4b",
   "metadata": {},
   "outputs": [],
   "source": [
    "driver=webdriver.Chrome()\n",
    "driver.get(' https://www.amazon.in/')"
   ]
  },
  {
   "cell_type": "code",
   "execution_count": 29,
   "id": "34af8a95",
   "metadata": {},
   "outputs": [],
   "source": [
    "search=driver.find_element(By.XPATH,'//input[@type=\"text\"]')\n",
    "search.send_keys('Laptop')"
   ]
  },
  {
   "cell_type": "code",
   "execution_count": 35,
   "id": "22afccad",
   "metadata": {},
   "outputs": [],
   "source": [
    "search_btn=driver.find_element(By.XPATH,'/html/body/div[1]/header/div/div[1]/div[2]/div/form/div[3]/div/span/input')\n",
    "search_btn.click()"
   ]
  },
  {
   "cell_type": "code",
   "execution_count": 36,
   "id": "317ac9d1",
   "metadata": {},
   "outputs": [],
   "source": [
    "B_name=[]\n",
    "for i in range(1):\n",
    "    b_name=driver.find_elements(By.XPATH,'//span[@class=\"a-size-medium a-color-base a-text-normal\"]')\n",
    "\n",
    "    for j  in b_name:\n",
    "        B_name.append(j.text)\n",
    "    B_name[:10]  "
   ]
  },
  {
   "cell_type": "code",
   "execution_count": 43,
   "id": "031fc781",
   "metadata": {},
   "outputs": [],
   "source": [
    "Rating=[]\n",
    "for i in range(1):\n",
    "    r_name=driver.find_elements(By.XPATH,'//a[@class=\"a-popover-trigger a-declarative\"]')\n",
    "\n",
    "    for j  in r_name:\n",
    "        Rating.append(j.text.replace(\"\\n\",\"\"))\n",
    "    Rating[:10]  "
   ]
  },
  {
   "cell_type": "code",
   "execution_count": 38,
   "id": "11d9e185",
   "metadata": {},
   "outputs": [],
   "source": [
    "Price=[]\n",
    "for i in range(1):\n",
    "    price =driver.find_elements(By.XPATH,'//span[@class=\"a-price-whole\"]')\n",
    "    for l in price:\n",
    "        Price.append(l.text).\n",
    "    Price[:10] "
   ]
  },
  {
   "cell_type": "code",
   "execution_count": 44,
   "id": "f7ad5b47",
   "metadata": {},
   "outputs": [
    {
     "name": "stdout",
     "output_type": "stream",
     "text": [
      "10\n",
      "10\n",
      "10\n"
     ]
    },
    {
     "data": {
      "text/plain": [
       "(None, None, None)"
      ]
     },
     "execution_count": 44,
     "metadata": {},
     "output_type": "execute_result"
    }
   ],
   "source": [
    "print(len(B_name[:10])),print(len(Price[:10])),print(len(Rating[:10]))"
   ]
  },
  {
   "cell_type": "code",
   "execution_count": 45,
   "id": "8b73bc5f",
   "metadata": {},
   "outputs": [],
   "source": [
    "lap=pd.DataFrame({})\n",
    "lap['Brand_name']=B_name[:10]\n",
    "lap['P_price']=Price[:10]\n",
    "lap['Rating']=Rating[:10]"
   ]
  },
  {
   "cell_type": "code",
   "execution_count": 46,
   "id": "211fbe36",
   "metadata": {},
   "outputs": [
    {
     "data": {
      "text/html": [
       "<div>\n",
       "<style scoped>\n",
       "    .dataframe tbody tr th:only-of-type {\n",
       "        vertical-align: middle;\n",
       "    }\n",
       "\n",
       "    .dataframe tbody tr th {\n",
       "        vertical-align: top;\n",
       "    }\n",
       "\n",
       "    .dataframe thead th {\n",
       "        text-align: right;\n",
       "    }\n",
       "</style>\n",
       "<table border=\"1\" class=\"dataframe\">\n",
       "  <thead>\n",
       "    <tr style=\"text-align: right;\">\n",
       "      <th></th>\n",
       "      <th>Brand_name</th>\n",
       "      <th>P_price</th>\n",
       "      <th>Rating</th>\n",
       "    </tr>\n",
       "  </thead>\n",
       "  <tbody>\n",
       "    <tr>\n",
       "      <th>0</th>\n",
       "      <td>MSI GF63 Thin, Intel Core i7-11800H, 40CM FHD ...</td>\n",
       "      <td>70,990</td>\n",
       "      <td></td>\n",
       "    </tr>\n",
       "    <tr>\n",
       "      <th>1</th>\n",
       "      <td>ASUS Vivobook 15, Intel Core i7-12650H 12th Ge...</td>\n",
       "      <td>64,990</td>\n",
       "      <td></td>\n",
       "    </tr>\n",
       "    <tr>\n",
       "      <th>2</th>\n",
       "      <td>Dell Inspiron 5430 13th Gen Laptop, Intel i7-1...</td>\n",
       "      <td>86,249</td>\n",
       "      <td></td>\n",
       "    </tr>\n",
       "    <tr>\n",
       "      <th>3</th>\n",
       "      <td>Dell Vostro 5630 13th Gen Laptop,Intel i7-1355...</td>\n",
       "      <td>89,990</td>\n",
       "      <td></td>\n",
       "    </tr>\n",
       "    <tr>\n",
       "      <th>4</th>\n",
       "      <td>Acer Nitro 5 12th Gen Intel Core i7-12650H Gam...</td>\n",
       "      <td>99,990</td>\n",
       "      <td></td>\n",
       "    </tr>\n",
       "    <tr>\n",
       "      <th>5</th>\n",
       "      <td>Lenovo [SmartChoice] IdeaPad Slim 3 Intel Core...</td>\n",
       "      <td>62,990</td>\n",
       "      <td></td>\n",
       "    </tr>\n",
       "    <tr>\n",
       "      <th>6</th>\n",
       "      <td>ASUS TUF Gaming F15 (2023) 90WHr Battery, Inte...</td>\n",
       "      <td>1,15,990</td>\n",
       "      <td></td>\n",
       "    </tr>\n",
       "    <tr>\n",
       "      <th>7</th>\n",
       "      <td>ASUS TUF Gaming F15, 15.6-inch (39.62 cms) FHD...</td>\n",
       "      <td>89,990</td>\n",
       "      <td></td>\n",
       "    </tr>\n",
       "    <tr>\n",
       "      <th>8</th>\n",
       "      <td>Dell Inspiron 5630 13th Gen Laptop, Intel Core...</td>\n",
       "      <td>89,990</td>\n",
       "      <td></td>\n",
       "    </tr>\n",
       "    <tr>\n",
       "      <th>9</th>\n",
       "      <td>ASUS Creator Series Vivobook 16X (2023), Intel...</td>\n",
       "      <td>86,990</td>\n",
       "      <td></td>\n",
       "    </tr>\n",
       "  </tbody>\n",
       "</table>\n",
       "</div>"
      ],
      "text/plain": [
       "                                          Brand_name   P_price Rating\n",
       "0  MSI GF63 Thin, Intel Core i7-11800H, 40CM FHD ...    70,990       \n",
       "1  ASUS Vivobook 15, Intel Core i7-12650H 12th Ge...    64,990       \n",
       "2  Dell Inspiron 5430 13th Gen Laptop, Intel i7-1...    86,249       \n",
       "3  Dell Vostro 5630 13th Gen Laptop,Intel i7-1355...    89,990       \n",
       "4  Acer Nitro 5 12th Gen Intel Core i7-12650H Gam...    99,990       \n",
       "5  Lenovo [SmartChoice] IdeaPad Slim 3 Intel Core...    62,990       \n",
       "6  ASUS TUF Gaming F15 (2023) 90WHr Battery, Inte...  1,15,990       \n",
       "7  ASUS TUF Gaming F15, 15.6-inch (39.62 cms) FHD...    89,990       \n",
       "8  Dell Inspiron 5630 13th Gen Laptop, Intel Core...    89,990       \n",
       "9  ASUS Creator Series Vivobook 16X (2023), Intel...    86,990       "
      ]
     },
     "execution_count": 46,
     "metadata": {},
     "output_type": "execute_result"
    }
   ],
   "source": [
    "lap"
   ]
  },
  {
   "cell_type": "markdown",
   "id": "6b51acc8",
   "metadata": {},
   "source": [
    "Q8: Write a python program to scrape data for Top 1000 Quotes of All Time.\n",
    "The above task will be done in following steps:\n",
    "1. First get the webpagehttps://www.azquotes.com/\n",
    "2. Click on TopQuotes\n",
    "3. Than scrap a) Quote b) Author c) Type Of Quotes"
   ]
  },
  {
   "cell_type": "code",
   "execution_count": 49,
   "id": "83238d2e",
   "metadata": {},
   "outputs": [],
   "source": [
    "import requests"
   ]
  },
  {
   "cell_type": "code",
   "execution_count": 52,
   "id": "e8d6cb72",
   "metadata": {},
   "outputs": [
    {
     "ename": "ConnectionError",
     "evalue": "('Connection aborted.', ConnectionResetError(10054, 'An existing connection was forcibly closed by the remote host', None, 10054, None))",
     "output_type": "error",
     "traceback": [
      "\u001b[1;31m---------------------------------------------------------------------------\u001b[0m",
      "\u001b[1;31mConnectionResetError\u001b[0m                      Traceback (most recent call last)",
      "\u001b[1;32mC:\\New folder\\lib\\site-packages\\urllib3\\connectionpool.py\u001b[0m in \u001b[0;36murlopen\u001b[1;34m(self, method, url, body, headers, retries, redirect, assert_same_host, timeout, pool_timeout, release_conn, chunked, body_pos, **response_kw)\u001b[0m\n\u001b[0;32m    702\u001b[0m             \u001b[1;31m# Make the request on the httplib connection object.\u001b[0m\u001b[1;33m\u001b[0m\u001b[1;33m\u001b[0m\u001b[0m\n\u001b[1;32m--> 703\u001b[1;33m             httplib_response = self._make_request(\n\u001b[0m\u001b[0;32m    704\u001b[0m                 \u001b[0mconn\u001b[0m\u001b[1;33m,\u001b[0m\u001b[1;33m\u001b[0m\u001b[1;33m\u001b[0m\u001b[0m\n",
      "\u001b[1;32mC:\\New folder\\lib\\site-packages\\urllib3\\connectionpool.py\u001b[0m in \u001b[0;36m_make_request\u001b[1;34m(self, conn, method, url, timeout, chunked, **httplib_request_kw)\u001b[0m\n\u001b[0;32m    385\u001b[0m         \u001b[1;32mtry\u001b[0m\u001b[1;33m:\u001b[0m\u001b[1;33m\u001b[0m\u001b[1;33m\u001b[0m\u001b[0m\n\u001b[1;32m--> 386\u001b[1;33m             \u001b[0mself\u001b[0m\u001b[1;33m.\u001b[0m\u001b[0m_validate_conn\u001b[0m\u001b[1;33m(\u001b[0m\u001b[0mconn\u001b[0m\u001b[1;33m)\u001b[0m\u001b[1;33m\u001b[0m\u001b[1;33m\u001b[0m\u001b[0m\n\u001b[0m\u001b[0;32m    387\u001b[0m         \u001b[1;32mexcept\u001b[0m \u001b[1;33m(\u001b[0m\u001b[0mSocketTimeout\u001b[0m\u001b[1;33m,\u001b[0m \u001b[0mBaseSSLError\u001b[0m\u001b[1;33m)\u001b[0m \u001b[1;32mas\u001b[0m \u001b[0me\u001b[0m\u001b[1;33m:\u001b[0m\u001b[1;33m\u001b[0m\u001b[1;33m\u001b[0m\u001b[0m\n",
      "\u001b[1;32mC:\\New folder\\lib\\site-packages\\urllib3\\connectionpool.py\u001b[0m in \u001b[0;36m_validate_conn\u001b[1;34m(self, conn)\u001b[0m\n\u001b[0;32m   1041\u001b[0m         \u001b[1;32mif\u001b[0m \u001b[1;32mnot\u001b[0m \u001b[0mgetattr\u001b[0m\u001b[1;33m(\u001b[0m\u001b[0mconn\u001b[0m\u001b[1;33m,\u001b[0m \u001b[1;34m\"sock\"\u001b[0m\u001b[1;33m,\u001b[0m \u001b[1;32mNone\u001b[0m\u001b[1;33m)\u001b[0m\u001b[1;33m:\u001b[0m  \u001b[1;31m# AppEngine might not have  `.sock`\u001b[0m\u001b[1;33m\u001b[0m\u001b[1;33m\u001b[0m\u001b[0m\n\u001b[1;32m-> 1042\u001b[1;33m             \u001b[0mconn\u001b[0m\u001b[1;33m.\u001b[0m\u001b[0mconnect\u001b[0m\u001b[1;33m(\u001b[0m\u001b[1;33m)\u001b[0m\u001b[1;33m\u001b[0m\u001b[1;33m\u001b[0m\u001b[0m\n\u001b[0m\u001b[0;32m   1043\u001b[0m \u001b[1;33m\u001b[0m\u001b[0m\n",
      "\u001b[1;32mC:\\New folder\\lib\\site-packages\\urllib3\\connection.py\u001b[0m in \u001b[0;36mconnect\u001b[1;34m(self)\u001b[0m\n\u001b[0;32m    413\u001b[0m \u001b[1;33m\u001b[0m\u001b[0m\n\u001b[1;32m--> 414\u001b[1;33m         self.sock = ssl_wrap_socket(\n\u001b[0m\u001b[0;32m    415\u001b[0m             \u001b[0msock\u001b[0m\u001b[1;33m=\u001b[0m\u001b[0mconn\u001b[0m\u001b[1;33m,\u001b[0m\u001b[1;33m\u001b[0m\u001b[1;33m\u001b[0m\u001b[0m\n",
      "\u001b[1;32mC:\\New folder\\lib\\site-packages\\urllib3\\util\\ssl_.py\u001b[0m in \u001b[0;36mssl_wrap_socket\u001b[1;34m(sock, keyfile, certfile, cert_reqs, ca_certs, server_hostname, ssl_version, ciphers, ssl_context, ca_cert_dir, key_password, ca_cert_data, tls_in_tls)\u001b[0m\n\u001b[0;32m    448\u001b[0m     \u001b[1;32mif\u001b[0m \u001b[0msend_sni\u001b[0m\u001b[1;33m:\u001b[0m\u001b[1;33m\u001b[0m\u001b[1;33m\u001b[0m\u001b[0m\n\u001b[1;32m--> 449\u001b[1;33m         ssl_sock = _ssl_wrap_socket_impl(\n\u001b[0m\u001b[0;32m    450\u001b[0m             \u001b[0msock\u001b[0m\u001b[1;33m,\u001b[0m \u001b[0mcontext\u001b[0m\u001b[1;33m,\u001b[0m \u001b[0mtls_in_tls\u001b[0m\u001b[1;33m,\u001b[0m \u001b[0mserver_hostname\u001b[0m\u001b[1;33m=\u001b[0m\u001b[0mserver_hostname\u001b[0m\u001b[1;33m\u001b[0m\u001b[1;33m\u001b[0m\u001b[0m\n",
      "\u001b[1;32mC:\\New folder\\lib\\site-packages\\urllib3\\util\\ssl_.py\u001b[0m in \u001b[0;36m_ssl_wrap_socket_impl\u001b[1;34m(sock, ssl_context, tls_in_tls, server_hostname)\u001b[0m\n\u001b[0;32m    492\u001b[0m     \u001b[1;32mif\u001b[0m \u001b[0mserver_hostname\u001b[0m\u001b[1;33m:\u001b[0m\u001b[1;33m\u001b[0m\u001b[1;33m\u001b[0m\u001b[0m\n\u001b[1;32m--> 493\u001b[1;33m         \u001b[1;32mreturn\u001b[0m \u001b[0mssl_context\u001b[0m\u001b[1;33m.\u001b[0m\u001b[0mwrap_socket\u001b[0m\u001b[1;33m(\u001b[0m\u001b[0msock\u001b[0m\u001b[1;33m,\u001b[0m \u001b[0mserver_hostname\u001b[0m\u001b[1;33m=\u001b[0m\u001b[0mserver_hostname\u001b[0m\u001b[1;33m)\u001b[0m\u001b[1;33m\u001b[0m\u001b[1;33m\u001b[0m\u001b[0m\n\u001b[0m\u001b[0;32m    494\u001b[0m     \u001b[1;32melse\u001b[0m\u001b[1;33m:\u001b[0m\u001b[1;33m\u001b[0m\u001b[1;33m\u001b[0m\u001b[0m\n",
      "\u001b[1;32mC:\\New folder\\lib\\ssl.py\u001b[0m in \u001b[0;36mwrap_socket\u001b[1;34m(self, sock, server_side, do_handshake_on_connect, suppress_ragged_eofs, server_hostname, session)\u001b[0m\n\u001b[0;32m    500\u001b[0m         \u001b[1;31m# ctx._wrap_socket()\u001b[0m\u001b[1;33m\u001b[0m\u001b[1;33m\u001b[0m\u001b[0m\n\u001b[1;32m--> 501\u001b[1;33m         return self.sslsocket_class._create(\n\u001b[0m\u001b[0;32m    502\u001b[0m             \u001b[0msock\u001b[0m\u001b[1;33m=\u001b[0m\u001b[0msock\u001b[0m\u001b[1;33m,\u001b[0m\u001b[1;33m\u001b[0m\u001b[1;33m\u001b[0m\u001b[0m\n",
      "\u001b[1;32mC:\\New folder\\lib\\ssl.py\u001b[0m in \u001b[0;36m_create\u001b[1;34m(cls, sock, server_side, do_handshake_on_connect, suppress_ragged_eofs, server_hostname, context, session)\u001b[0m\n\u001b[0;32m   1040\u001b[0m                         \u001b[1;32mraise\u001b[0m \u001b[0mValueError\u001b[0m\u001b[1;33m(\u001b[0m\u001b[1;34m\"do_handshake_on_connect should not be specified for non-blocking sockets\"\u001b[0m\u001b[1;33m)\u001b[0m\u001b[1;33m\u001b[0m\u001b[1;33m\u001b[0m\u001b[0m\n\u001b[1;32m-> 1041\u001b[1;33m                     \u001b[0mself\u001b[0m\u001b[1;33m.\u001b[0m\u001b[0mdo_handshake\u001b[0m\u001b[1;33m(\u001b[0m\u001b[1;33m)\u001b[0m\u001b[1;33m\u001b[0m\u001b[1;33m\u001b[0m\u001b[0m\n\u001b[0m\u001b[0;32m   1042\u001b[0m             \u001b[1;32mexcept\u001b[0m \u001b[1;33m(\u001b[0m\u001b[0mOSError\u001b[0m\u001b[1;33m,\u001b[0m \u001b[0mValueError\u001b[0m\u001b[1;33m)\u001b[0m\u001b[1;33m:\u001b[0m\u001b[1;33m\u001b[0m\u001b[1;33m\u001b[0m\u001b[0m\n",
      "\u001b[1;32mC:\\New folder\\lib\\ssl.py\u001b[0m in \u001b[0;36mdo_handshake\u001b[1;34m(self, block)\u001b[0m\n\u001b[0;32m   1309\u001b[0m                 \u001b[0mself\u001b[0m\u001b[1;33m.\u001b[0m\u001b[0msettimeout\u001b[0m\u001b[1;33m(\u001b[0m\u001b[1;32mNone\u001b[0m\u001b[1;33m)\u001b[0m\u001b[1;33m\u001b[0m\u001b[1;33m\u001b[0m\u001b[0m\n\u001b[1;32m-> 1310\u001b[1;33m             \u001b[0mself\u001b[0m\u001b[1;33m.\u001b[0m\u001b[0m_sslobj\u001b[0m\u001b[1;33m.\u001b[0m\u001b[0mdo_handshake\u001b[0m\u001b[1;33m(\u001b[0m\u001b[1;33m)\u001b[0m\u001b[1;33m\u001b[0m\u001b[1;33m\u001b[0m\u001b[0m\n\u001b[0m\u001b[0;32m   1311\u001b[0m         \u001b[1;32mfinally\u001b[0m\u001b[1;33m:\u001b[0m\u001b[1;33m\u001b[0m\u001b[1;33m\u001b[0m\u001b[0m\n",
      "\u001b[1;31mConnectionResetError\u001b[0m: [WinError 10054] An existing connection was forcibly closed by the remote host",
      "\nDuring handling of the above exception, another exception occurred:\n",
      "\u001b[1;31mProtocolError\u001b[0m                             Traceback (most recent call last)",
      "\u001b[1;32mC:\\New folder\\lib\\site-packages\\requests\\adapters.py\u001b[0m in \u001b[0;36msend\u001b[1;34m(self, request, stream, timeout, verify, cert, proxies)\u001b[0m\n\u001b[0;32m    488\u001b[0m             \u001b[1;32mif\u001b[0m \u001b[1;32mnot\u001b[0m \u001b[0mchunked\u001b[0m\u001b[1;33m:\u001b[0m\u001b[1;33m\u001b[0m\u001b[1;33m\u001b[0m\u001b[0m\n\u001b[1;32m--> 489\u001b[1;33m                 resp = conn.urlopen(\n\u001b[0m\u001b[0;32m    490\u001b[0m                     \u001b[0mmethod\u001b[0m\u001b[1;33m=\u001b[0m\u001b[0mrequest\u001b[0m\u001b[1;33m.\u001b[0m\u001b[0mmethod\u001b[0m\u001b[1;33m,\u001b[0m\u001b[1;33m\u001b[0m\u001b[1;33m\u001b[0m\u001b[0m\n",
      "\u001b[1;32mC:\\New folder\\lib\\site-packages\\urllib3\\connectionpool.py\u001b[0m in \u001b[0;36murlopen\u001b[1;34m(self, method, url, body, headers, retries, redirect, assert_same_host, timeout, pool_timeout, release_conn, chunked, body_pos, **response_kw)\u001b[0m\n\u001b[0;32m    786\u001b[0m \u001b[1;33m\u001b[0m\u001b[0m\n\u001b[1;32m--> 787\u001b[1;33m             retries = retries.increment(\n\u001b[0m\u001b[0;32m    788\u001b[0m                 \u001b[0mmethod\u001b[0m\u001b[1;33m,\u001b[0m \u001b[0murl\u001b[0m\u001b[1;33m,\u001b[0m \u001b[0merror\u001b[0m\u001b[1;33m=\u001b[0m\u001b[0me\u001b[0m\u001b[1;33m,\u001b[0m \u001b[0m_pool\u001b[0m\u001b[1;33m=\u001b[0m\u001b[0mself\u001b[0m\u001b[1;33m,\u001b[0m \u001b[0m_stacktrace\u001b[0m\u001b[1;33m=\u001b[0m\u001b[0msys\u001b[0m\u001b[1;33m.\u001b[0m\u001b[0mexc_info\u001b[0m\u001b[1;33m(\u001b[0m\u001b[1;33m)\u001b[0m\u001b[1;33m[\u001b[0m\u001b[1;36m2\u001b[0m\u001b[1;33m]\u001b[0m\u001b[1;33m\u001b[0m\u001b[1;33m\u001b[0m\u001b[0m\n",
      "\u001b[1;32mC:\\New folder\\lib\\site-packages\\urllib3\\util\\retry.py\u001b[0m in \u001b[0;36mincrement\u001b[1;34m(self, method, url, response, error, _pool, _stacktrace)\u001b[0m\n\u001b[0;32m    549\u001b[0m             \u001b[1;32mif\u001b[0m \u001b[0mread\u001b[0m \u001b[1;32mis\u001b[0m \u001b[1;32mFalse\u001b[0m \u001b[1;32mor\u001b[0m \u001b[1;32mnot\u001b[0m \u001b[0mself\u001b[0m\u001b[1;33m.\u001b[0m\u001b[0m_is_method_retryable\u001b[0m\u001b[1;33m(\u001b[0m\u001b[0mmethod\u001b[0m\u001b[1;33m)\u001b[0m\u001b[1;33m:\u001b[0m\u001b[1;33m\u001b[0m\u001b[1;33m\u001b[0m\u001b[0m\n\u001b[1;32m--> 550\u001b[1;33m                 \u001b[1;32mraise\u001b[0m \u001b[0msix\u001b[0m\u001b[1;33m.\u001b[0m\u001b[0mreraise\u001b[0m\u001b[1;33m(\u001b[0m\u001b[0mtype\u001b[0m\u001b[1;33m(\u001b[0m\u001b[0merror\u001b[0m\u001b[1;33m)\u001b[0m\u001b[1;33m,\u001b[0m \u001b[0merror\u001b[0m\u001b[1;33m,\u001b[0m \u001b[0m_stacktrace\u001b[0m\u001b[1;33m)\u001b[0m\u001b[1;33m\u001b[0m\u001b[1;33m\u001b[0m\u001b[0m\n\u001b[0m\u001b[0;32m    551\u001b[0m             \u001b[1;32melif\u001b[0m \u001b[0mread\u001b[0m \u001b[1;32mis\u001b[0m \u001b[1;32mnot\u001b[0m \u001b[1;32mNone\u001b[0m\u001b[1;33m:\u001b[0m\u001b[1;33m\u001b[0m\u001b[1;33m\u001b[0m\u001b[0m\n",
      "\u001b[1;32mC:\\New folder\\lib\\site-packages\\urllib3\\packages\\six.py\u001b[0m in \u001b[0;36mreraise\u001b[1;34m(tp, value, tb)\u001b[0m\n\u001b[0;32m    768\u001b[0m             \u001b[1;32mif\u001b[0m \u001b[0mvalue\u001b[0m\u001b[1;33m.\u001b[0m\u001b[0m__traceback__\u001b[0m \u001b[1;32mis\u001b[0m \u001b[1;32mnot\u001b[0m \u001b[0mtb\u001b[0m\u001b[1;33m:\u001b[0m\u001b[1;33m\u001b[0m\u001b[1;33m\u001b[0m\u001b[0m\n\u001b[1;32m--> 769\u001b[1;33m                 \u001b[1;32mraise\u001b[0m \u001b[0mvalue\u001b[0m\u001b[1;33m.\u001b[0m\u001b[0mwith_traceback\u001b[0m\u001b[1;33m(\u001b[0m\u001b[0mtb\u001b[0m\u001b[1;33m)\u001b[0m\u001b[1;33m\u001b[0m\u001b[1;33m\u001b[0m\u001b[0m\n\u001b[0m\u001b[0;32m    770\u001b[0m             \u001b[1;32mraise\u001b[0m \u001b[0mvalue\u001b[0m\u001b[1;33m\u001b[0m\u001b[1;33m\u001b[0m\u001b[0m\n",
      "\u001b[1;32mC:\\New folder\\lib\\site-packages\\urllib3\\connectionpool.py\u001b[0m in \u001b[0;36murlopen\u001b[1;34m(self, method, url, body, headers, retries, redirect, assert_same_host, timeout, pool_timeout, release_conn, chunked, body_pos, **response_kw)\u001b[0m\n\u001b[0;32m    702\u001b[0m             \u001b[1;31m# Make the request on the httplib connection object.\u001b[0m\u001b[1;33m\u001b[0m\u001b[1;33m\u001b[0m\u001b[0m\n\u001b[1;32m--> 703\u001b[1;33m             httplib_response = self._make_request(\n\u001b[0m\u001b[0;32m    704\u001b[0m                 \u001b[0mconn\u001b[0m\u001b[1;33m,\u001b[0m\u001b[1;33m\u001b[0m\u001b[1;33m\u001b[0m\u001b[0m\n",
      "\u001b[1;32mC:\\New folder\\lib\\site-packages\\urllib3\\connectionpool.py\u001b[0m in \u001b[0;36m_make_request\u001b[1;34m(self, conn, method, url, timeout, chunked, **httplib_request_kw)\u001b[0m\n\u001b[0;32m    385\u001b[0m         \u001b[1;32mtry\u001b[0m\u001b[1;33m:\u001b[0m\u001b[1;33m\u001b[0m\u001b[1;33m\u001b[0m\u001b[0m\n\u001b[1;32m--> 386\u001b[1;33m             \u001b[0mself\u001b[0m\u001b[1;33m.\u001b[0m\u001b[0m_validate_conn\u001b[0m\u001b[1;33m(\u001b[0m\u001b[0mconn\u001b[0m\u001b[1;33m)\u001b[0m\u001b[1;33m\u001b[0m\u001b[1;33m\u001b[0m\u001b[0m\n\u001b[0m\u001b[0;32m    387\u001b[0m         \u001b[1;32mexcept\u001b[0m \u001b[1;33m(\u001b[0m\u001b[0mSocketTimeout\u001b[0m\u001b[1;33m,\u001b[0m \u001b[0mBaseSSLError\u001b[0m\u001b[1;33m)\u001b[0m \u001b[1;32mas\u001b[0m \u001b[0me\u001b[0m\u001b[1;33m:\u001b[0m\u001b[1;33m\u001b[0m\u001b[1;33m\u001b[0m\u001b[0m\n",
      "\u001b[1;32mC:\\New folder\\lib\\site-packages\\urllib3\\connectionpool.py\u001b[0m in \u001b[0;36m_validate_conn\u001b[1;34m(self, conn)\u001b[0m\n\u001b[0;32m   1041\u001b[0m         \u001b[1;32mif\u001b[0m \u001b[1;32mnot\u001b[0m \u001b[0mgetattr\u001b[0m\u001b[1;33m(\u001b[0m\u001b[0mconn\u001b[0m\u001b[1;33m,\u001b[0m \u001b[1;34m\"sock\"\u001b[0m\u001b[1;33m,\u001b[0m \u001b[1;32mNone\u001b[0m\u001b[1;33m)\u001b[0m\u001b[1;33m:\u001b[0m  \u001b[1;31m# AppEngine might not have  `.sock`\u001b[0m\u001b[1;33m\u001b[0m\u001b[1;33m\u001b[0m\u001b[0m\n\u001b[1;32m-> 1042\u001b[1;33m             \u001b[0mconn\u001b[0m\u001b[1;33m.\u001b[0m\u001b[0mconnect\u001b[0m\u001b[1;33m(\u001b[0m\u001b[1;33m)\u001b[0m\u001b[1;33m\u001b[0m\u001b[1;33m\u001b[0m\u001b[0m\n\u001b[0m\u001b[0;32m   1043\u001b[0m \u001b[1;33m\u001b[0m\u001b[0m\n",
      "\u001b[1;32mC:\\New folder\\lib\\site-packages\\urllib3\\connection.py\u001b[0m in \u001b[0;36mconnect\u001b[1;34m(self)\u001b[0m\n\u001b[0;32m    413\u001b[0m \u001b[1;33m\u001b[0m\u001b[0m\n\u001b[1;32m--> 414\u001b[1;33m         self.sock = ssl_wrap_socket(\n\u001b[0m\u001b[0;32m    415\u001b[0m             \u001b[0msock\u001b[0m\u001b[1;33m=\u001b[0m\u001b[0mconn\u001b[0m\u001b[1;33m,\u001b[0m\u001b[1;33m\u001b[0m\u001b[1;33m\u001b[0m\u001b[0m\n",
      "\u001b[1;32mC:\\New folder\\lib\\site-packages\\urllib3\\util\\ssl_.py\u001b[0m in \u001b[0;36mssl_wrap_socket\u001b[1;34m(sock, keyfile, certfile, cert_reqs, ca_certs, server_hostname, ssl_version, ciphers, ssl_context, ca_cert_dir, key_password, ca_cert_data, tls_in_tls)\u001b[0m\n\u001b[0;32m    448\u001b[0m     \u001b[1;32mif\u001b[0m \u001b[0msend_sni\u001b[0m\u001b[1;33m:\u001b[0m\u001b[1;33m\u001b[0m\u001b[1;33m\u001b[0m\u001b[0m\n\u001b[1;32m--> 449\u001b[1;33m         ssl_sock = _ssl_wrap_socket_impl(\n\u001b[0m\u001b[0;32m    450\u001b[0m             \u001b[0msock\u001b[0m\u001b[1;33m,\u001b[0m \u001b[0mcontext\u001b[0m\u001b[1;33m,\u001b[0m \u001b[0mtls_in_tls\u001b[0m\u001b[1;33m,\u001b[0m \u001b[0mserver_hostname\u001b[0m\u001b[1;33m=\u001b[0m\u001b[0mserver_hostname\u001b[0m\u001b[1;33m\u001b[0m\u001b[1;33m\u001b[0m\u001b[0m\n",
      "\u001b[1;32mC:\\New folder\\lib\\site-packages\\urllib3\\util\\ssl_.py\u001b[0m in \u001b[0;36m_ssl_wrap_socket_impl\u001b[1;34m(sock, ssl_context, tls_in_tls, server_hostname)\u001b[0m\n\u001b[0;32m    492\u001b[0m     \u001b[1;32mif\u001b[0m \u001b[0mserver_hostname\u001b[0m\u001b[1;33m:\u001b[0m\u001b[1;33m\u001b[0m\u001b[1;33m\u001b[0m\u001b[0m\n\u001b[1;32m--> 493\u001b[1;33m         \u001b[1;32mreturn\u001b[0m \u001b[0mssl_context\u001b[0m\u001b[1;33m.\u001b[0m\u001b[0mwrap_socket\u001b[0m\u001b[1;33m(\u001b[0m\u001b[0msock\u001b[0m\u001b[1;33m,\u001b[0m \u001b[0mserver_hostname\u001b[0m\u001b[1;33m=\u001b[0m\u001b[0mserver_hostname\u001b[0m\u001b[1;33m)\u001b[0m\u001b[1;33m\u001b[0m\u001b[1;33m\u001b[0m\u001b[0m\n\u001b[0m\u001b[0;32m    494\u001b[0m     \u001b[1;32melse\u001b[0m\u001b[1;33m:\u001b[0m\u001b[1;33m\u001b[0m\u001b[1;33m\u001b[0m\u001b[0m\n",
      "\u001b[1;32mC:\\New folder\\lib\\ssl.py\u001b[0m in \u001b[0;36mwrap_socket\u001b[1;34m(self, sock, server_side, do_handshake_on_connect, suppress_ragged_eofs, server_hostname, session)\u001b[0m\n\u001b[0;32m    500\u001b[0m         \u001b[1;31m# ctx._wrap_socket()\u001b[0m\u001b[1;33m\u001b[0m\u001b[1;33m\u001b[0m\u001b[0m\n\u001b[1;32m--> 501\u001b[1;33m         return self.sslsocket_class._create(\n\u001b[0m\u001b[0;32m    502\u001b[0m             \u001b[0msock\u001b[0m\u001b[1;33m=\u001b[0m\u001b[0msock\u001b[0m\u001b[1;33m,\u001b[0m\u001b[1;33m\u001b[0m\u001b[1;33m\u001b[0m\u001b[0m\n",
      "\u001b[1;32mC:\\New folder\\lib\\ssl.py\u001b[0m in \u001b[0;36m_create\u001b[1;34m(cls, sock, server_side, do_handshake_on_connect, suppress_ragged_eofs, server_hostname, context, session)\u001b[0m\n\u001b[0;32m   1040\u001b[0m                         \u001b[1;32mraise\u001b[0m \u001b[0mValueError\u001b[0m\u001b[1;33m(\u001b[0m\u001b[1;34m\"do_handshake_on_connect should not be specified for non-blocking sockets\"\u001b[0m\u001b[1;33m)\u001b[0m\u001b[1;33m\u001b[0m\u001b[1;33m\u001b[0m\u001b[0m\n\u001b[1;32m-> 1041\u001b[1;33m                     \u001b[0mself\u001b[0m\u001b[1;33m.\u001b[0m\u001b[0mdo_handshake\u001b[0m\u001b[1;33m(\u001b[0m\u001b[1;33m)\u001b[0m\u001b[1;33m\u001b[0m\u001b[1;33m\u001b[0m\u001b[0m\n\u001b[0m\u001b[0;32m   1042\u001b[0m             \u001b[1;32mexcept\u001b[0m \u001b[1;33m(\u001b[0m\u001b[0mOSError\u001b[0m\u001b[1;33m,\u001b[0m \u001b[0mValueError\u001b[0m\u001b[1;33m)\u001b[0m\u001b[1;33m:\u001b[0m\u001b[1;33m\u001b[0m\u001b[1;33m\u001b[0m\u001b[0m\n",
      "\u001b[1;32mC:\\New folder\\lib\\ssl.py\u001b[0m in \u001b[0;36mdo_handshake\u001b[1;34m(self, block)\u001b[0m\n\u001b[0;32m   1309\u001b[0m                 \u001b[0mself\u001b[0m\u001b[1;33m.\u001b[0m\u001b[0msettimeout\u001b[0m\u001b[1;33m(\u001b[0m\u001b[1;32mNone\u001b[0m\u001b[1;33m)\u001b[0m\u001b[1;33m\u001b[0m\u001b[1;33m\u001b[0m\u001b[0m\n\u001b[1;32m-> 1310\u001b[1;33m             \u001b[0mself\u001b[0m\u001b[1;33m.\u001b[0m\u001b[0m_sslobj\u001b[0m\u001b[1;33m.\u001b[0m\u001b[0mdo_handshake\u001b[0m\u001b[1;33m(\u001b[0m\u001b[1;33m)\u001b[0m\u001b[1;33m\u001b[0m\u001b[1;33m\u001b[0m\u001b[0m\n\u001b[0m\u001b[0;32m   1311\u001b[0m         \u001b[1;32mfinally\u001b[0m\u001b[1;33m:\u001b[0m\u001b[1;33m\u001b[0m\u001b[1;33m\u001b[0m\u001b[0m\n",
      "\u001b[1;31mProtocolError\u001b[0m: ('Connection aborted.', ConnectionResetError(10054, 'An existing connection was forcibly closed by the remote host', None, 10054, None))",
      "\nDuring handling of the above exception, another exception occurred:\n",
      "\u001b[1;31mConnectionError\u001b[0m                           Traceback (most recent call last)",
      "\u001b[1;32m~\\AppData\\Local\\Temp\\ipykernel_7480\\401440100.py\u001b[0m in \u001b[0;36m<module>\u001b[1;34m\u001b[0m\n\u001b[1;32m----> 1\u001b[1;33m \u001b[0mpage1\u001b[0m\u001b[1;33m=\u001b[0m\u001b[0mrequests\u001b[0m\u001b[1;33m.\u001b[0m\u001b[0mget\u001b[0m\u001b[1;33m(\u001b[0m\u001b[1;34m'https://www.azquotes.com/'\u001b[0m\u001b[1;33m)\u001b[0m\u001b[1;33m\u001b[0m\u001b[1;33m\u001b[0m\u001b[0m\n\u001b[0m\u001b[0;32m      2\u001b[0m \u001b[0mpage1\u001b[0m\u001b[1;33m\u001b[0m\u001b[1;33m\u001b[0m\u001b[0m\n",
      "\u001b[1;32mC:\\New folder\\lib\\site-packages\\requests\\api.py\u001b[0m in \u001b[0;36mget\u001b[1;34m(url, params, **kwargs)\u001b[0m\n\u001b[0;32m     71\u001b[0m     \"\"\"\n\u001b[0;32m     72\u001b[0m \u001b[1;33m\u001b[0m\u001b[0m\n\u001b[1;32m---> 73\u001b[1;33m     \u001b[1;32mreturn\u001b[0m \u001b[0mrequest\u001b[0m\u001b[1;33m(\u001b[0m\u001b[1;34m\"get\"\u001b[0m\u001b[1;33m,\u001b[0m \u001b[0murl\u001b[0m\u001b[1;33m,\u001b[0m \u001b[0mparams\u001b[0m\u001b[1;33m=\u001b[0m\u001b[0mparams\u001b[0m\u001b[1;33m,\u001b[0m \u001b[1;33m**\u001b[0m\u001b[0mkwargs\u001b[0m\u001b[1;33m)\u001b[0m\u001b[1;33m\u001b[0m\u001b[1;33m\u001b[0m\u001b[0m\n\u001b[0m\u001b[0;32m     74\u001b[0m \u001b[1;33m\u001b[0m\u001b[0m\n\u001b[0;32m     75\u001b[0m \u001b[1;33m\u001b[0m\u001b[0m\n",
      "\u001b[1;32mC:\\New folder\\lib\\site-packages\\requests\\api.py\u001b[0m in \u001b[0;36mrequest\u001b[1;34m(method, url, **kwargs)\u001b[0m\n\u001b[0;32m     57\u001b[0m     \u001b[1;31m# cases, and look like a memory leak in others.\u001b[0m\u001b[1;33m\u001b[0m\u001b[1;33m\u001b[0m\u001b[0m\n\u001b[0;32m     58\u001b[0m     \u001b[1;32mwith\u001b[0m \u001b[0msessions\u001b[0m\u001b[1;33m.\u001b[0m\u001b[0mSession\u001b[0m\u001b[1;33m(\u001b[0m\u001b[1;33m)\u001b[0m \u001b[1;32mas\u001b[0m \u001b[0msession\u001b[0m\u001b[1;33m:\u001b[0m\u001b[1;33m\u001b[0m\u001b[1;33m\u001b[0m\u001b[0m\n\u001b[1;32m---> 59\u001b[1;33m         \u001b[1;32mreturn\u001b[0m \u001b[0msession\u001b[0m\u001b[1;33m.\u001b[0m\u001b[0mrequest\u001b[0m\u001b[1;33m(\u001b[0m\u001b[0mmethod\u001b[0m\u001b[1;33m=\u001b[0m\u001b[0mmethod\u001b[0m\u001b[1;33m,\u001b[0m \u001b[0murl\u001b[0m\u001b[1;33m=\u001b[0m\u001b[0murl\u001b[0m\u001b[1;33m,\u001b[0m \u001b[1;33m**\u001b[0m\u001b[0mkwargs\u001b[0m\u001b[1;33m)\u001b[0m\u001b[1;33m\u001b[0m\u001b[1;33m\u001b[0m\u001b[0m\n\u001b[0m\u001b[0;32m     60\u001b[0m \u001b[1;33m\u001b[0m\u001b[0m\n\u001b[0;32m     61\u001b[0m \u001b[1;33m\u001b[0m\u001b[0m\n",
      "\u001b[1;32mC:\\New folder\\lib\\site-packages\\requests\\sessions.py\u001b[0m in \u001b[0;36mrequest\u001b[1;34m(self, method, url, params, data, headers, cookies, files, auth, timeout, allow_redirects, proxies, hooks, stream, verify, cert, json)\u001b[0m\n\u001b[0;32m    585\u001b[0m         }\n\u001b[0;32m    586\u001b[0m         \u001b[0msend_kwargs\u001b[0m\u001b[1;33m.\u001b[0m\u001b[0mupdate\u001b[0m\u001b[1;33m(\u001b[0m\u001b[0msettings\u001b[0m\u001b[1;33m)\u001b[0m\u001b[1;33m\u001b[0m\u001b[1;33m\u001b[0m\u001b[0m\n\u001b[1;32m--> 587\u001b[1;33m         \u001b[0mresp\u001b[0m \u001b[1;33m=\u001b[0m \u001b[0mself\u001b[0m\u001b[1;33m.\u001b[0m\u001b[0msend\u001b[0m\u001b[1;33m(\u001b[0m\u001b[0mprep\u001b[0m\u001b[1;33m,\u001b[0m \u001b[1;33m**\u001b[0m\u001b[0msend_kwargs\u001b[0m\u001b[1;33m)\u001b[0m\u001b[1;33m\u001b[0m\u001b[1;33m\u001b[0m\u001b[0m\n\u001b[0m\u001b[0;32m    588\u001b[0m \u001b[1;33m\u001b[0m\u001b[0m\n\u001b[0;32m    589\u001b[0m         \u001b[1;32mreturn\u001b[0m \u001b[0mresp\u001b[0m\u001b[1;33m\u001b[0m\u001b[1;33m\u001b[0m\u001b[0m\n",
      "\u001b[1;32mC:\\New folder\\lib\\site-packages\\requests\\sessions.py\u001b[0m in \u001b[0;36msend\u001b[1;34m(self, request, **kwargs)\u001b[0m\n\u001b[0;32m    699\u001b[0m \u001b[1;33m\u001b[0m\u001b[0m\n\u001b[0;32m    700\u001b[0m         \u001b[1;31m# Send the request\u001b[0m\u001b[1;33m\u001b[0m\u001b[1;33m\u001b[0m\u001b[0m\n\u001b[1;32m--> 701\u001b[1;33m         \u001b[0mr\u001b[0m \u001b[1;33m=\u001b[0m \u001b[0madapter\u001b[0m\u001b[1;33m.\u001b[0m\u001b[0msend\u001b[0m\u001b[1;33m(\u001b[0m\u001b[0mrequest\u001b[0m\u001b[1;33m,\u001b[0m \u001b[1;33m**\u001b[0m\u001b[0mkwargs\u001b[0m\u001b[1;33m)\u001b[0m\u001b[1;33m\u001b[0m\u001b[1;33m\u001b[0m\u001b[0m\n\u001b[0m\u001b[0;32m    702\u001b[0m \u001b[1;33m\u001b[0m\u001b[0m\n\u001b[0;32m    703\u001b[0m         \u001b[1;31m# Total elapsed time of the request (approximately)\u001b[0m\u001b[1;33m\u001b[0m\u001b[1;33m\u001b[0m\u001b[0m\n",
      "\u001b[1;32mC:\\New folder\\lib\\site-packages\\requests\\adapters.py\u001b[0m in \u001b[0;36msend\u001b[1;34m(self, request, stream, timeout, verify, cert, proxies)\u001b[0m\n\u001b[0;32m    545\u001b[0m \u001b[1;33m\u001b[0m\u001b[0m\n\u001b[0;32m    546\u001b[0m         \u001b[1;32mexcept\u001b[0m \u001b[1;33m(\u001b[0m\u001b[0mProtocolError\u001b[0m\u001b[1;33m,\u001b[0m \u001b[0mOSError\u001b[0m\u001b[1;33m)\u001b[0m \u001b[1;32mas\u001b[0m \u001b[0merr\u001b[0m\u001b[1;33m:\u001b[0m\u001b[1;33m\u001b[0m\u001b[1;33m\u001b[0m\u001b[0m\n\u001b[1;32m--> 547\u001b[1;33m             \u001b[1;32mraise\u001b[0m \u001b[0mConnectionError\u001b[0m\u001b[1;33m(\u001b[0m\u001b[0merr\u001b[0m\u001b[1;33m,\u001b[0m \u001b[0mrequest\u001b[0m\u001b[1;33m=\u001b[0m\u001b[0mrequest\u001b[0m\u001b[1;33m)\u001b[0m\u001b[1;33m\u001b[0m\u001b[1;33m\u001b[0m\u001b[0m\n\u001b[0m\u001b[0;32m    548\u001b[0m \u001b[1;33m\u001b[0m\u001b[0m\n\u001b[0;32m    549\u001b[0m         \u001b[1;32mexcept\u001b[0m \u001b[0mMaxRetryError\u001b[0m \u001b[1;32mas\u001b[0m \u001b[0me\u001b[0m\u001b[1;33m:\u001b[0m\u001b[1;33m\u001b[0m\u001b[1;33m\u001b[0m\u001b[0m\n",
      "\u001b[1;31mConnectionError\u001b[0m: ('Connection aborted.', ConnectionResetError(10054, 'An existing connection was forcibly closed by the remote host', None, 10054, None))"
     ]
    }
   ],
   "source": [
    "page1=requests.get('https://www.azquotes.com/')\n",
    "page1"
   ]
  },
  {
   "cell_type": "markdown",
   "id": "1edff49a",
   "metadata": {},
   "source": [
    "Q9: Write a python program to display list of respected former Prime Ministers of India(i.e. Name, Born-Dead,\n",
    "Term of office, Remarks) from https://www.jagranjosh.com/.\n",
    "This task will be done in following steps:\n",
    "1. First get the webpagehttps://www.jagranjosh.com/\n",
    "2. Then You have to click on the GK option\n",
    "3. Then click on the List of all Prime Ministers of India\n",
    "4. Then scrap the mentioned data and make theDataFrame"
   ]
  },
  {
   "cell_type": "code",
   "execution_count": 17,
   "id": "34a975ae",
   "metadata": {},
   "outputs": [],
   "source": [
    "driver=webdriver.Chrome()\n",
    "driver.get('https://www.jagranjosh.com/')"
   ]
  },
  {
   "cell_type": "code",
   "execution_count": 27,
   "id": "da2e1d53",
   "metadata": {},
   "outputs": [],
   "source": [
    "Name=[]\n",
    "for i in range(1):\n",
    "    price =driver.find_elements(By.TAG_NAME,'a')\n",
    "    for l in price:\n",
    "        Name.append(l.text)\n",
    "    Name"
   ]
  },
  {
   "cell_type": "code",
   "execution_count": 23,
   "id": "a37de4bd",
   "metadata": {},
   "outputs": [],
   "source": [
    "BD=[]\n",
    "for i in range(1):\n",
    "    price =driver.find_elements(By.TAG_NAME,'p')\n",
    "    for l in price:\n",
    "        BD.append(l.text)\n",
    "    BD"
   ]
  },
  {
   "cell_type": "code",
   "execution_count": 24,
   "id": "af122c21",
   "metadata": {},
   "outputs": [],
   "source": [
    "Term=[]\n",
    "for i in range(1):\n",
    "    price =driver.find_elements(By.TAG_NAME,'span')\n",
    "    for l in price:\n",
    "        Term.append(l.text)\n",
    "    Term"
   ]
  },
  {
   "cell_type": "code",
   "execution_count": 25,
   "id": "b79111c3",
   "metadata": {},
   "outputs": [],
   "source": [
    "Rem=[]\n",
    "for i in range(1):\n",
    "    price =driver.find_elements(By.TAG_NAME,'p')\n",
    "    for l in price:\n",
    "        Rem.append(l.text)\n",
    "    Rem"
   ]
  },
  {
   "cell_type": "code",
   "execution_count": 28,
   "id": "16bbcdec",
   "metadata": {},
   "outputs": [
    {
     "name": "stdout",
     "output_type": "stream",
     "text": [
      "196\n",
      "125\n",
      "229\n",
      "125\n"
     ]
    },
    {
     "data": {
      "text/plain": [
       "(None, None, None, None)"
      ]
     },
     "execution_count": 28,
     "metadata": {},
     "output_type": "execute_result"
    }
   ],
   "source": [
    "print(len(Name)),print(len(BD)),print(len(Term)),print(len(Rem))"
   ]
  },
  {
   "cell_type": "code",
   "execution_count": null,
   "id": "6fe04d83",
   "metadata": {},
   "outputs": [],
   "source": []
  },
  {
   "cell_type": "markdown",
   "id": "3072d681",
   "metadata": {},
   "source": [
    "Q10: Write a python program to display list of 50 Most expensive cars in the world (i.e.\n",
    "Car name and Price) from https://www.motor1.com/\n",
    "This task will be done in following steps:\n",
    "1. First get the webpage https://www.motor1.com/\n",
    "2. Then You have to type in the search bar ’50 most expensive cars’\n",
    "3. Then click on 50 most expensive carsin the world..\n",
    "4. Then scrap the mentioned data and make the dataframe."
   ]
  },
  {
   "cell_type": "code",
   "execution_count": 3,
   "id": "3c406aca",
   "metadata": {},
   "outputs": [],
   "source": [
    "driver=webdriver.Chrome()\n",
    "driver.get('https://www.motor1.com/')"
   ]
  },
  {
   "cell_type": "code",
   "execution_count": 4,
   "id": "d72b44cb",
   "metadata": {},
   "outputs": [],
   "source": [
    "search=driver.find_element(By.XPATH,'//input[@class=\"m1-search-panel-input m1-search-form-text\"]')\n",
    "search.send_keys('50 most expensive cars')"
   ]
  },
  {
   "cell_type": "code",
   "execution_count": 5,
   "id": "daccc5b4",
   "metadata": {},
   "outputs": [],
   "source": [
    "search_btn=driver.find_element(By.XPATH,'/html/body/div[10]/div[2]/div/div/div[3]/div/div/div/form/button[1]')\n",
    "search_btn.click()"
   ]
  },
  {
   "cell_type": "code",
   "execution_count": 6,
   "id": "48385a84",
   "metadata": {},
   "outputs": [],
   "source": [
    "B_name=[]\n",
    "for i in range(1):\n",
    "    b_name=driver.find_elements(By.XPATH,'//h3[@class=\"subheader\"]')\n",
    "\n",
    "    for j  in b_name:\n",
    "        B_name.append(j.text)\n",
    "    B_name[:50]  "
   ]
  },
  {
   "cell_type": "code",
   "execution_count": 13,
   "id": "cec0a19c",
   "metadata": {},
   "outputs": [],
   "source": [
    "Price=[]\n",
    "for i in range(1):\n",
    "    price =driver.find_elements(By.TAG_NAME,'p')\n",
    "    for l in price:\n",
    "        Price.append(l.text)\n",
    "    Price[:50] "
   ]
  },
  {
   "cell_type": "code",
   "execution_count": 14,
   "id": "ca7c13a5",
   "metadata": {},
   "outputs": [
    {
     "name": "stdout",
     "output_type": "stream",
     "text": [
      "50\n",
      "50\n"
     ]
    },
    {
     "data": {
      "text/plain": [
       "(None, None)"
      ]
     },
     "execution_count": 14,
     "metadata": {},
     "output_type": "execute_result"
    }
   ],
   "source": [
    "print(len(B_name[:50])),print(len(Price[:50])),"
   ]
  },
  {
   "cell_type": "code",
   "execution_count": 15,
   "id": "2d45d2f8",
   "metadata": {},
   "outputs": [],
   "source": [
    "lap=pd.DataFrame({})\n",
    "lap['Brand_name']=B_name[:50]\n",
    "lap['P_price']=Price[:50]"
   ]
  },
  {
   "cell_type": "code",
   "execution_count": 16,
   "id": "27337f3f",
   "metadata": {},
   "outputs": [
    {
     "data": {
      "text/html": [
       "<div>\n",
       "<style scoped>\n",
       "    .dataframe tbody tr th:only-of-type {\n",
       "        vertical-align: middle;\n",
       "    }\n",
       "\n",
       "    .dataframe tbody tr th {\n",
       "        vertical-align: top;\n",
       "    }\n",
       "\n",
       "    .dataframe thead th {\n",
       "        text-align: right;\n",
       "    }\n",
       "</style>\n",
       "<table border=\"1\" class=\"dataframe\">\n",
       "  <thead>\n",
       "    <tr style=\"text-align: right;\">\n",
       "      <th></th>\n",
       "      <th>Brand_name</th>\n",
       "      <th>P_price</th>\n",
       "    </tr>\n",
       "  </thead>\n",
       "  <tbody>\n",
       "    <tr>\n",
       "      <th>0</th>\n",
       "      <td>Aston Martin Valour</td>\n",
       "      <td>When it comes to high-end hypercars and super-...</td>\n",
       "    </tr>\n",
       "    <tr>\n",
       "      <th>1</th>\n",
       "      <td>McLaren Elva</td>\n",
       "      <td>But in order to find out which of these unatta...</td>\n",
       "    </tr>\n",
       "    <tr>\n",
       "      <th>2</th>\n",
       "      <td>Czinger 21C</td>\n",
       "      <td>We should note, though: The prices listed here...</td>\n",
       "    </tr>\n",
       "    <tr>\n",
       "      <th>3</th>\n",
       "      <td>Ferrari Monza</td>\n",
       "      <td>Top Videos:</td>\n",
       "    </tr>\n",
       "    <tr>\n",
       "      <th>4</th>\n",
       "      <td>Gordon Murray T.33</td>\n",
       "      <td>Other Awesome Automotive Lists:</td>\n",
       "    </tr>\n",
       "    <tr>\n",
       "      <th>5</th>\n",
       "      <td>Koenigsegg Gemera</td>\n",
       "      <td>Price: $1.5 Million</td>\n",
       "    </tr>\n",
       "    <tr>\n",
       "      <th>6</th>\n",
       "      <td>Zenvo TSR-S</td>\n",
       "      <td>Want to get your hands on this lovely Aston Ma...</td>\n",
       "    </tr>\n",
       "    <tr>\n",
       "      <th>7</th>\n",
       "      <td>Hennessey Venom F5</td>\n",
       "      <td>Price: $1.7 Million</td>\n",
       "    </tr>\n",
       "    <tr>\n",
       "      <th>8</th>\n",
       "      <td>Bentley Bacalar</td>\n",
       "      <td>The McLaren Elva is one of the latest addition...</td>\n",
       "    </tr>\n",
       "    <tr>\n",
       "      <th>9</th>\n",
       "      <td>Hispano Suiza Carmen Boulogne</td>\n",
       "      <td>Price: $1.7 Million</td>\n",
       "    </tr>\n",
       "    <tr>\n",
       "      <th>10</th>\n",
       "      <td>Bentley Mulliner Batur</td>\n",
       "      <td>You might not know the name Czinger yet, but t...</td>\n",
       "    </tr>\n",
       "    <tr>\n",
       "      <th>11</th>\n",
       "      <td>Deus Vayanne</td>\n",
       "      <td>Price: $1.7 Million</td>\n",
       "    </tr>\n",
       "    <tr>\n",
       "      <th>12</th>\n",
       "      <td>SSC Tuatara</td>\n",
       "      <td>Much like the roof-less McLaren Elva, the Ferr...</td>\n",
       "    </tr>\n",
       "    <tr>\n",
       "      <th>13</th>\n",
       "      <td>Lotus Evija</td>\n",
       "      <td>Price: $1.7 Million</td>\n",
       "    </tr>\n",
       "    <tr>\n",
       "      <th>14</th>\n",
       "      <td>Aston Martin Vulcan</td>\n",
       "      <td>The second and slightly more affordable superc...</td>\n",
       "    </tr>\n",
       "    <tr>\n",
       "      <th>15</th>\n",
       "      <td>Delage D12</td>\n",
       "      <td>Price: $1.7 Million</td>\n",
       "    </tr>\n",
       "    <tr>\n",
       "      <th>16</th>\n",
       "      <td>Ferrari Daytona SP3</td>\n",
       "      <td>One of two Koenigsegg models on this list, the...</td>\n",
       "    </tr>\n",
       "    <tr>\n",
       "      <th>17</th>\n",
       "      <td>McLaren Speedtail</td>\n",
       "      <td>Price: $1.7 Million</td>\n",
       "    </tr>\n",
       "    <tr>\n",
       "      <th>18</th>\n",
       "      <td>Rimac Nevera</td>\n",
       "      <td>Hailing from Denmark, the Zenvo TSR-S debuted ...</td>\n",
       "    </tr>\n",
       "    <tr>\n",
       "      <th>19</th>\n",
       "      <td>Pagani Utopia</td>\n",
       "      <td>Price: $1.8 Million</td>\n",
       "    </tr>\n",
       "    <tr>\n",
       "      <th>20</th>\n",
       "      <td>Pininfarina Battista</td>\n",
       "      <td>The Hennessey Venom GT was a record-breaker, t...</td>\n",
       "    </tr>\n",
       "    <tr>\n",
       "      <th>21</th>\n",
       "      <td>Gordon Murray T.50</td>\n",
       "      <td>Price: $1.9 Million</td>\n",
       "    </tr>\n",
       "    <tr>\n",
       "      <th>22</th>\n",
       "      <td>Lamborghini Countach</td>\n",
       "      <td>With just 12 total units produced, the Bentley...</td>\n",
       "    </tr>\n",
       "    <tr>\n",
       "      <th>23</th>\n",
       "      <td>Mercedes-AMG Project One</td>\n",
       "      <td>Price: $1.9 Million</td>\n",
       "    </tr>\n",
       "    <tr>\n",
       "      <th>24</th>\n",
       "      <td>Zenvo Aurora</td>\n",
       "      <td>To call the Hispano Suiza Carmen Boulogne beau...</td>\n",
       "    </tr>\n",
       "    <tr>\n",
       "      <th>25</th>\n",
       "      <td>Aston Martin Victor</td>\n",
       "      <td>Price: $2.0 Million</td>\n",
       "    </tr>\n",
       "    <tr>\n",
       "      <th>26</th>\n",
       "      <td>Hennessey Venom F5 Roadster</td>\n",
       "      <td>The electric onslaught is coming. Bentley says...</td>\n",
       "    </tr>\n",
       "    <tr>\n",
       "      <th>27</th>\n",
       "      <td>Koenigsegg Jesko</td>\n",
       "      <td>Price: $2.0 Million</td>\n",
       "    </tr>\n",
       "    <tr>\n",
       "      <th>28</th>\n",
       "      <td>Aston Martin Valkyrie</td>\n",
       "      <td>The Deus Vayanne may not be a household name (...</td>\n",
       "    </tr>\n",
       "    <tr>\n",
       "      <th>29</th>\n",
       "      <td>W Motors Lykan Hypersport</td>\n",
       "      <td>Price: $2.0 Million</td>\n",
       "    </tr>\n",
       "    <tr>\n",
       "      <th>30</th>\n",
       "      <td>McLaren Solus</td>\n",
       "      <td>Although initially cloaked in controversy, SSC...</td>\n",
       "    </tr>\n",
       "    <tr>\n",
       "      <th>31</th>\n",
       "      <td>Lamborghini Sian</td>\n",
       "      <td>Price: $2.1 Million</td>\n",
       "    </tr>\n",
       "    <tr>\n",
       "      <th>32</th>\n",
       "      <td>Koenigsegg CC850</td>\n",
       "      <td>With a new Emira sports car and an Eletre elec...</td>\n",
       "    </tr>\n",
       "    <tr>\n",
       "      <th>33</th>\n",
       "      <td>Bugatti Chiron Super Sport 300+</td>\n",
       "      <td>Price: $2.3 Million</td>\n",
       "    </tr>\n",
       "    <tr>\n",
       "      <th>34</th>\n",
       "      <td>Lamborghini Veneno</td>\n",
       "      <td>As with a few other cars on this list, the Ast...</td>\n",
       "    </tr>\n",
       "    <tr>\n",
       "      <th>35</th>\n",
       "      <td>Bugatti Bolide</td>\n",
       "      <td>Price: $2.3 Million</td>\n",
       "    </tr>\n",
       "    <tr>\n",
       "      <th>36</th>\n",
       "      <td>Pininfarina B95 Speedster</td>\n",
       "      <td>You may have heard of Delage before. In the ea...</td>\n",
       "    </tr>\n",
       "    <tr>\n",
       "      <th>37</th>\n",
       "      <td>Bugatti Mistral</td>\n",
       "      <td>Price: $2.3 Million</td>\n",
       "    </tr>\n",
       "    <tr>\n",
       "      <th>38</th>\n",
       "      <td>Pagani Huayra Imola</td>\n",
       "      <td>The Ferrari Daytona SP3 is the brand’s most ae...</td>\n",
       "    </tr>\n",
       "    <tr>\n",
       "      <th>39</th>\n",
       "      <td>Bugatti Divo</td>\n",
       "      <td>Price: $2.3 Million</td>\n",
       "    </tr>\n",
       "    <tr>\n",
       "      <th>40</th>\n",
       "      <td>SP Automotive Chaos</td>\n",
       "      <td>What would you pay for the fastest production ...</td>\n",
       "    </tr>\n",
       "    <tr>\n",
       "      <th>41</th>\n",
       "      <td>Pagani Codalunga</td>\n",
       "      <td>Price: $2.4 Million</td>\n",
       "    </tr>\n",
       "    <tr>\n",
       "      <th>42</th>\n",
       "      <td>777 Hypercar</td>\n",
       "      <td>The Rimac Nevera takes the title of most expen...</td>\n",
       "    </tr>\n",
       "    <tr>\n",
       "      <th>43</th>\n",
       "      <td>Mercedes-Maybach Exelero</td>\n",
       "      <td>Price: $2.5 Million</td>\n",
       "    </tr>\n",
       "    <tr>\n",
       "      <th>44</th>\n",
       "      <td>Bugatti Centodieci</td>\n",
       "      <td>First came the Zonda, then the Huayra, and now...</td>\n",
       "    </tr>\n",
       "    <tr>\n",
       "      <th>45</th>\n",
       "      <td>Bugatti Chiron Profilée</td>\n",
       "      <td>Price: $2.5 Million</td>\n",
       "    </tr>\n",
       "    <tr>\n",
       "      <th>46</th>\n",
       "      <td>Rolls-Royce Sweptail</td>\n",
       "      <td>Aptly named after the company’s founder, Batti...</td>\n",
       "    </tr>\n",
       "    <tr>\n",
       "      <th>47</th>\n",
       "      <td>Bugatti La Voiture Noire</td>\n",
       "      <td>Price: $2.6 Million</td>\n",
       "    </tr>\n",
       "    <tr>\n",
       "      <th>48</th>\n",
       "      <td>Rolls-Royce Boat Tail*</td>\n",
       "      <td>If the name Gordon Murray sounds familiar, it’...</td>\n",
       "    </tr>\n",
       "    <tr>\n",
       "      <th>49</th>\n",
       "      <td>Rolls-Royce La Rose Noire Droptail</td>\n",
       "      <td>Price: $2.6 Million</td>\n",
       "    </tr>\n",
       "  </tbody>\n",
       "</table>\n",
       "</div>"
      ],
      "text/plain": [
       "                            Brand_name  \\\n",
       "0                  Aston Martin Valour   \n",
       "1                         McLaren Elva   \n",
       "2                          Czinger 21C   \n",
       "3                        Ferrari Monza   \n",
       "4                   Gordon Murray T.33   \n",
       "5                    Koenigsegg Gemera   \n",
       "6                          Zenvo TSR-S   \n",
       "7                   Hennessey Venom F5   \n",
       "8                      Bentley Bacalar   \n",
       "9        Hispano Suiza Carmen Boulogne   \n",
       "10              Bentley Mulliner Batur   \n",
       "11                        Deus Vayanne   \n",
       "12                         SSC Tuatara   \n",
       "13                         Lotus Evija   \n",
       "14                 Aston Martin Vulcan   \n",
       "15                          Delage D12   \n",
       "16                 Ferrari Daytona SP3   \n",
       "17                   McLaren Speedtail   \n",
       "18                        Rimac Nevera   \n",
       "19                       Pagani Utopia   \n",
       "20                Pininfarina Battista   \n",
       "21                  Gordon Murray T.50   \n",
       "22                Lamborghini Countach   \n",
       "23            Mercedes-AMG Project One   \n",
       "24                        Zenvo Aurora   \n",
       "25                 Aston Martin Victor   \n",
       "26         Hennessey Venom F5 Roadster   \n",
       "27                    Koenigsegg Jesko   \n",
       "28               Aston Martin Valkyrie   \n",
       "29           W Motors Lykan Hypersport   \n",
       "30                       McLaren Solus   \n",
       "31                    Lamborghini Sian   \n",
       "32                    Koenigsegg CC850   \n",
       "33     Bugatti Chiron Super Sport 300+   \n",
       "34                  Lamborghini Veneno   \n",
       "35                      Bugatti Bolide   \n",
       "36           Pininfarina B95 Speedster   \n",
       "37                     Bugatti Mistral   \n",
       "38                 Pagani Huayra Imola   \n",
       "39                        Bugatti Divo   \n",
       "40                 SP Automotive Chaos   \n",
       "41                    Pagani Codalunga   \n",
       "42                        777 Hypercar   \n",
       "43            Mercedes-Maybach Exelero   \n",
       "44                  Bugatti Centodieci   \n",
       "45             Bugatti Chiron Profilée   \n",
       "46                Rolls-Royce Sweptail   \n",
       "47            Bugatti La Voiture Noire   \n",
       "48              Rolls-Royce Boat Tail*   \n",
       "49  Rolls-Royce La Rose Noire Droptail   \n",
       "\n",
       "                                              P_price  \n",
       "0   When it comes to high-end hypercars and super-...  \n",
       "1   But in order to find out which of these unatta...  \n",
       "2   We should note, though: The prices listed here...  \n",
       "3                                         Top Videos:  \n",
       "4                     Other Awesome Automotive Lists:  \n",
       "5                                 Price: $1.5 Million  \n",
       "6   Want to get your hands on this lovely Aston Ma...  \n",
       "7                                 Price: $1.7 Million  \n",
       "8   The McLaren Elva is one of the latest addition...  \n",
       "9                                 Price: $1.7 Million  \n",
       "10  You might not know the name Czinger yet, but t...  \n",
       "11                                Price: $1.7 Million  \n",
       "12  Much like the roof-less McLaren Elva, the Ferr...  \n",
       "13                                Price: $1.7 Million  \n",
       "14  The second and slightly more affordable superc...  \n",
       "15                                Price: $1.7 Million  \n",
       "16  One of two Koenigsegg models on this list, the...  \n",
       "17                                Price: $1.7 Million  \n",
       "18  Hailing from Denmark, the Zenvo TSR-S debuted ...  \n",
       "19                                Price: $1.8 Million  \n",
       "20  The Hennessey Venom GT was a record-breaker, t...  \n",
       "21                                Price: $1.9 Million  \n",
       "22  With just 12 total units produced, the Bentley...  \n",
       "23                                Price: $1.9 Million  \n",
       "24  To call the Hispano Suiza Carmen Boulogne beau...  \n",
       "25                                Price: $2.0 Million  \n",
       "26  The electric onslaught is coming. Bentley says...  \n",
       "27                                Price: $2.0 Million  \n",
       "28  The Deus Vayanne may not be a household name (...  \n",
       "29                                Price: $2.0 Million  \n",
       "30  Although initially cloaked in controversy, SSC...  \n",
       "31                                Price: $2.1 Million  \n",
       "32  With a new Emira sports car and an Eletre elec...  \n",
       "33                                Price: $2.3 Million  \n",
       "34  As with a few other cars on this list, the Ast...  \n",
       "35                                Price: $2.3 Million  \n",
       "36  You may have heard of Delage before. In the ea...  \n",
       "37                                Price: $2.3 Million  \n",
       "38  The Ferrari Daytona SP3 is the brand’s most ae...  \n",
       "39                                Price: $2.3 Million  \n",
       "40  What would you pay for the fastest production ...  \n",
       "41                                Price: $2.4 Million  \n",
       "42  The Rimac Nevera takes the title of most expen...  \n",
       "43                                Price: $2.5 Million  \n",
       "44  First came the Zonda, then the Huayra, and now...  \n",
       "45                                Price: $2.5 Million  \n",
       "46  Aptly named after the company’s founder, Batti...  \n",
       "47                                Price: $2.6 Million  \n",
       "48  If the name Gordon Murray sounds familiar, it’...  \n",
       "49                                Price: $2.6 Million  "
      ]
     },
     "execution_count": 16,
     "metadata": {},
     "output_type": "execute_result"
    }
   ],
   "source": [
    "lap"
   ]
  },
  {
   "cell_type": "code",
   "execution_count": null,
   "id": "4dba5e41",
   "metadata": {},
   "outputs": [],
   "source": []
  },
  {
   "cell_type": "code",
   "execution_count": null,
   "id": "7368b94f",
   "metadata": {},
   "outputs": [],
   "source": []
  },
  {
   "cell_type": "code",
   "execution_count": null,
   "id": "91fd65f4",
   "metadata": {},
   "outputs": [],
   "source": []
  },
  {
   "cell_type": "code",
   "execution_count": null,
   "id": "7ce566e6",
   "metadata": {},
   "outputs": [],
   "source": []
  },
  {
   "cell_type": "code",
   "execution_count": null,
   "id": "3ba06fde",
   "metadata": {},
   "outputs": [],
   "source": []
  },
  {
   "cell_type": "code",
   "execution_count": null,
   "id": "c47d693c",
   "metadata": {},
   "outputs": [],
   "source": []
  },
  {
   "cell_type": "code",
   "execution_count": null,
   "id": "2cc77ef8",
   "metadata": {},
   "outputs": [],
   "source": []
  },
  {
   "cell_type": "code",
   "execution_count": null,
   "id": "7284954d",
   "metadata": {},
   "outputs": [],
   "source": []
  },
  {
   "cell_type": "code",
   "execution_count": null,
   "id": "bf9f85fe",
   "metadata": {},
   "outputs": [],
   "source": []
  },
  {
   "cell_type": "code",
   "execution_count": null,
   "id": "5e3c8ebf",
   "metadata": {},
   "outputs": [],
   "source": []
  },
  {
   "cell_type": "code",
   "execution_count": null,
   "id": "05619785",
   "metadata": {},
   "outputs": [],
   "source": []
  },
  {
   "cell_type": "code",
   "execution_count": null,
   "id": "5d4f37c8",
   "metadata": {},
   "outputs": [],
   "source": []
  },
  {
   "cell_type": "code",
   "execution_count": null,
   "id": "8a79b8be",
   "metadata": {},
   "outputs": [],
   "source": []
  },
  {
   "cell_type": "code",
   "execution_count": null,
   "id": "18e0ff91",
   "metadata": {},
   "outputs": [],
   "source": []
  },
  {
   "cell_type": "code",
   "execution_count": null,
   "id": "1cbb0534",
   "metadata": {},
   "outputs": [],
   "source": []
  },
  {
   "cell_type": "code",
   "execution_count": null,
   "id": "1db66fcc",
   "metadata": {},
   "outputs": [],
   "source": []
  },
  {
   "cell_type": "code",
   "execution_count": null,
   "id": "92f6391c",
   "metadata": {},
   "outputs": [],
   "source": []
  },
  {
   "cell_type": "code",
   "execution_count": null,
   "id": "1f58d6b5",
   "metadata": {},
   "outputs": [],
   "source": []
  },
  {
   "cell_type": "code",
   "execution_count": null,
   "id": "5e414162",
   "metadata": {},
   "outputs": [],
   "source": []
  },
  {
   "cell_type": "code",
   "execution_count": null,
   "id": "b2d9dff4",
   "metadata": {},
   "outputs": [],
   "source": []
  },
  {
   "cell_type": "code",
   "execution_count": null,
   "id": "75bb5093",
   "metadata": {},
   "outputs": [],
   "source": []
  },
  {
   "cell_type": "code",
   "execution_count": null,
   "id": "b7840f19",
   "metadata": {},
   "outputs": [],
   "source": []
  },
  {
   "cell_type": "code",
   "execution_count": null,
   "id": "e5c24b81",
   "metadata": {},
   "outputs": [],
   "source": []
  },
  {
   "cell_type": "code",
   "execution_count": null,
   "id": "06a2b4b2",
   "metadata": {},
   "outputs": [],
   "source": []
  },
  {
   "cell_type": "code",
   "execution_count": null,
   "id": "f3aba9ce",
   "metadata": {},
   "outputs": [],
   "source": []
  },
  {
   "cell_type": "code",
   "execution_count": null,
   "id": "a332db55",
   "metadata": {},
   "outputs": [],
   "source": []
  }
 ],
 "metadata": {
  "kernelspec": {
   "display_name": "Python 3 (ipykernel)",
   "language": "python",
   "name": "python3"
  },
  "language_info": {
   "codemirror_mode": {
    "name": "ipython",
    "version": 3
   },
   "file_extension": ".py",
   "mimetype": "text/x-python",
   "name": "python",
   "nbconvert_exporter": "python",
   "pygments_lexer": "ipython3",
   "version": "3.9.13"
  }
 },
 "nbformat": 4,
 "nbformat_minor": 5
}
