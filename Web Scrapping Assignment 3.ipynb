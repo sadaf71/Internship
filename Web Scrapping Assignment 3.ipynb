{
 "cells": [
  {
   "cell_type": "code",
   "execution_count": 23,
   "id": "d6c52aed",
   "metadata": {},
   "outputs": [
    {
     "name": "stdout",
     "output_type": "stream",
     "text": [
      "Defaulting to user installation because normal site-packages is not writeable\n",
      "Requirement already satisfied: selenium in c:\\users\\asus\\appdata\\roaming\\python\\python39\\site-packages (4.11.2)\n",
      "Requirement already satisfied: certifi>=2021.10.8 in c:\\new folder\\lib\\site-packages (from selenium) (2022.9.14)\n",
      "Requirement already satisfied: urllib3[socks]<3,>=1.26 in c:\\new folder\\lib\\site-packages (from selenium) (1.26.11)\n",
      "Requirement already satisfied: trio~=0.17 in c:\\users\\asus\\appdata\\roaming\\python\\python39\\site-packages (from selenium) (0.22.2)\n",
      "Requirement already satisfied: trio-websocket~=0.9 in c:\\users\\asus\\appdata\\roaming\\python\\python39\\site-packages (from selenium) (0.10.3)\n",
      "Requirement already satisfied: idna in c:\\new folder\\lib\\site-packages (from trio~=0.17->selenium) (3.3)\n",
      "Requirement already satisfied: exceptiongroup>=1.0.0rc9 in c:\\users\\asus\\appdata\\roaming\\python\\python39\\site-packages (from trio~=0.17->selenium) (1.1.3)\n",
      "Requirement already satisfied: sortedcontainers in c:\\new folder\\lib\\site-packages (from trio~=0.17->selenium) (2.4.0)\n",
      "Requirement already satisfied: attrs>=20.1.0 in c:\\new folder\\lib\\site-packages (from trio~=0.17->selenium) (21.4.0)\n",
      "Requirement already satisfied: sniffio in c:\\new folder\\lib\\site-packages (from trio~=0.17->selenium) (1.2.0)\n",
      "Requirement already satisfied: cffi>=1.14 in c:\\new folder\\lib\\site-packages (from trio~=0.17->selenium) (1.15.1)\n",
      "Requirement already satisfied: outcome in c:\\users\\asus\\appdata\\roaming\\python\\python39\\site-packages (from trio~=0.17->selenium) (1.2.0)\n",
      "Requirement already satisfied: wsproto>=0.14 in c:\\users\\asus\\appdata\\roaming\\python\\python39\\site-packages (from trio-websocket~=0.9->selenium) (1.2.0)\n",
      "Requirement already satisfied: PySocks!=1.5.7,<2.0,>=1.5.6 in c:\\new folder\\lib\\site-packages (from urllib3[socks]<3,>=1.26->selenium) (1.7.1)\n",
      "Requirement already satisfied: pycparser in c:\\new folder\\lib\\site-packages (from cffi>=1.14->trio~=0.17->selenium) (2.21)\n",
      "Requirement already satisfied: h11<1,>=0.9.0 in c:\\users\\asus\\appdata\\roaming\\python\\python39\\site-packages (from wsproto>=0.14->trio-websocket~=0.9->selenium) (0.14.0)\n"
     ]
    }
   ],
   "source": [
    "! pip install selenium\n",
    "\n"
   ]
  },
  {
   "cell_type": "code",
   "execution_count": 9,
   "id": "1d2816d2",
   "metadata": {},
   "outputs": [],
   "source": [
    "import selenium\n",
    "import pandas as pd\n",
    "import time\n",
    "from bs4 import BeautifulSoup\n",
    "from selenium import webdriver\n",
    "from selenium.common.exceptions import StaleElementReferenceException,NoSuchElementException\n",
    "import requests\n",
    "from selenium.webdriver.common.by import By\n"
   ]
  },
  {
   "cell_type": "markdown",
   "id": "39db1a08",
   "metadata": {},
   "source": [
    "Write a python program which searches all the product under a particular product from www.amazon.in. The \n",
    "product to be searched will be taken as input from user. For e.g. If user input is ‘guitar’. Then search for \n",
    "guitars."
   ]
  },
  {
   "cell_type": "code",
   "execution_count": 10,
   "id": "30e5afc8",
   "metadata": {},
   "outputs": [],
   "source": [
    "driver=webdriver.Chrome()\n",
    "driver.get('https://www.amazon.in/')"
   ]
  },
  {
   "cell_type": "code",
   "execution_count": 11,
   "id": "b5bd1e4b",
   "metadata": {},
   "outputs": [
    {
     "name": "stdout",
     "output_type": "stream",
     "text": [
      "enter the product name:guitar\n"
     ]
    }
   ],
   "source": [
    "user_input=input('enter the product name:')\n",
    "time.sleep(2)\n",
    "search_bar=driver.find_element(By.XPATH,\"//input[@type='text']\")\n",
    "search_bar\n",
    "\n",
    "search_bar.send_keys(user_input)\n"
   ]
  },
  {
   "cell_type": "code",
   "execution_count": 12,
   "id": "13f6a6a2",
   "metadata": {},
   "outputs": [],
   "source": [
    "time.sleep(2)\n",
    "# locating the button and clicking it to search for shoes\n",
    "button=driver.find_element(By.XPATH,\"//input[@id='nav-search-submit-button']\")\n",
    "button.click()\n"
   ]
  },
  {
   "cell_type": "markdown",
   "id": "03c68072",
   "metadata": {},
   "source": [
    "In the above question, now scrape the following details of each product listed in first 3 pages of your search \n",
    "results and save it in a data frame and csv. In case if any product has less than 3 pages in search results then \n",
    "scrape all the products available under that product name. Details to be scraped are: \"Brand \n",
    "Name\", \"Name of the Product\", \"Price\", \"Return/Exchange\", \"Expected Delivery\", \"Availability\" and \n",
    "“Product URL”. In case, if any of the details are missing for any of the product then replace it by “-“."
   ]
  },
  {
   "cell_type": "code",
   "execution_count": 13,
   "id": "fa222684",
   "metadata": {},
   "outputs": [],
   "source": [
    "Brand=[]\n",
    "Product = []\n",
    "Rating =[]\n",
    "No_of_ratings =[]\n",
    "Price =[]\n",
    "Return =[]\n",
    "Excepted_delivery =[]\n",
    "Availability =[]\n",
    "Other_details =[]"
   ]
  },
  {
   "cell_type": "code",
   "execution_count": 14,
   "id": "a4def8e7",
   "metadata": {},
   "outputs": [],
   "source": [
    "URL= []\n",
    "# range(0,3) used to scrape three pages on website\n",
    "for page in range(0,3):\n",
    "    url=driver.find_elements(By.XPATH,'//a[@class=\"a-link-normal s-underline-text s-underline-link-text s-link-style a-text-normal\"]')\n",
    "    for i in url:\n",
    "        URL.append(i.get_attribute('href'))\n",
    "    time.sleep(2)\n",
    "    # locating next page button and clicking\n",
    "    Nxt_page=driver.find_element(By.XPATH,'//a[@class=\"s-pagination-item s-pagination-next s-pagination-button s-pagination-separator\"]')\n",
    "    Nxt_page.click()\n",
    "    time.sleep(3)\n"
   ]
  },
  {
   "cell_type": "code",
   "execution_count": 15,
   "id": "77d87673",
   "metadata": {},
   "outputs": [
    {
     "data": {
      "text/plain": [
       "160"
      ]
     },
     "execution_count": 15,
     "metadata": {},
     "output_type": "execute_result"
    }
   ],
   "source": [
    "len(URL)"
   ]
  },
  {
   "cell_type": "code",
   "execution_count": 16,
   "id": "75e30786",
   "metadata": {},
   "outputs": [
    {
     "name": "stderr",
     "output_type": "stream",
     "text": [
      "100%|██████████| 160/160 [45:19<00:00, 17.00s/it]\n"
     ]
    }
   ],
   "source": [
    "from tqdm import tqdm\n",
    "for i in tqdm(URL):\n",
    "    driver.get(i)\n",
    "    time.sleep(2)\n",
    "    \n",
    "    # Extracting Brand Name via Xpath\n",
    "    try:\n",
    "        brand=driver.find_element(By.XPATH,'//a[@id=\"bylineInfo\"]')\n",
    "        Brand.append(brand.text) \n",
    "    except NoSuchElementException:\n",
    "        Brand.append('-')\n",
    "        \n",
    "    time.sleep(1)\n",
    "    \n",
    "    # Extracting product name via Xpath\n",
    "    try:\n",
    "        product =driver.find_element(By.XPATH,'//span[@id=\"productTitle\"]')\n",
    "        Product.append(product.text)\n",
    "    except NoSuchElementException:\n",
    "        Product.append('-')\n",
    "    time.sleep(1)\n",
    "    \n",
    "    # Extracting Rating via Xpath\n",
    "    try:\n",
    "        rating=driver.find_element(By.XPATH,'//i[@class=\"a-icon a-icon-star a-star-5 cm-cr-review-stars-spacing-big\"]')\n",
    "        Rating.append(rating.text)\n",
    "    except NoSuchElementException:\n",
    "        Rating.append('-')\n",
    "    time.sleep(1)\n",
    "    \n",
    "    # Extracting No of Ratings via Xpath\n",
    "    try:\n",
    "        rating_count=driver.find_element(By.XPATH,'//span[@id=\"acrCustomerReviewText\"]')\n",
    "        No_of_ratings.append(rating_count.text)\n",
    "    except NoSuchElementException:\n",
    "        No_of_ratings.append('-')\n",
    "    time.sleep(1)\n",
    "    \n",
    "    # Extracting Price via Xpath\n",
    "    try:\n",
    "        price=driver.find_element(By.XPATH,'//span[@id=\"taxInclusiveMessage\"]')\n",
    "        Price.append(price.text)\n",
    "    except NoSuchElementException:\n",
    "        Price.append('-')\n",
    "    time.sleep(1)\n",
    "    \n",
    "    # Extracting Return or exchange detail via Xpath\n",
    "    try:\n",
    "        replacement=driver.find_element(By.XPATH,'//*[@id=\"RETURNS_POLICY\"]/span/div[2]/a')\n",
    "        Return.append(replacement.text)\n",
    "    except NoSuchElementException:\n",
    "        Return.append('-')\n",
    "    time.sleep(1)\n",
    "    \n",
    "    # Extracting Expected Delivery via Xpath\n",
    "    try:\n",
    "        delivery=driver.find_element(By.XPATH,'/div[@id=\"ddmDeliveryMessage\"]/b')\n",
    "        Excepted_delivery.append(delivery.text)\n",
    "    except NoSuchElementException:\n",
    "        Excepted_delivery.append('-')\n",
    "    time.sleep(1)\n",
    "    \n",
    "    # Extracting Availability via Xath\n",
    "    try:\n",
    "        availability=driver.find_element(By.XPATH,'//span[@class=\"a-size-medium a-color-success\"]')\n",
    "        Availability.append(availability.text)\n",
    "    except NoSuchElementException:\n",
    "        Availability.append('-')\n",
    "    time.sleep(1)\n",
    "    \n",
    "    # Extracting other details via Xpath\n",
    "    try:\n",
    "        other=driver.find_element(By.XPATH,'//ul[@class=\"a-unordered-list a-vertical a-spacing-mini\"]')\n",
    "        Other_details.append(other.text)\n",
    "    except NoSuchElementException:\n",
    "        Other_details.append('-')\n",
    "    time.sleep(1)"
   ]
  },
  {
   "cell_type": "code",
   "execution_count": 17,
   "id": "4c2e603d",
   "metadata": {},
   "outputs": [],
   "source": [
    "Guitar=pd.DataFrame({'Brand':Brand,'Product':Product,'Rating':Rating,'No. of ratings':No_of_ratings,'Price':Price,\n",
    "                        'Return/Exchange':Return,'Expected Delivery':Excepted_delivery,'Availability':Availability,\n",
    "                        'Other Details':Other_details,'URL':URL})"
   ]
  },
  {
   "cell_type": "code",
   "execution_count": 18,
   "id": "1e4ef539",
   "metadata": {},
   "outputs": [
    {
     "data": {
      "text/html": [
       "<div>\n",
       "<style scoped>\n",
       "    .dataframe tbody tr th:only-of-type {\n",
       "        vertical-align: middle;\n",
       "    }\n",
       "\n",
       "    .dataframe tbody tr th {\n",
       "        vertical-align: top;\n",
       "    }\n",
       "\n",
       "    .dataframe thead th {\n",
       "        text-align: right;\n",
       "    }\n",
       "</style>\n",
       "<table border=\"1\" class=\"dataframe\">\n",
       "  <thead>\n",
       "    <tr style=\"text-align: right;\">\n",
       "      <th></th>\n",
       "      <th>Brand</th>\n",
       "      <th>Product</th>\n",
       "      <th>Rating</th>\n",
       "      <th>No. of ratings</th>\n",
       "      <th>Price</th>\n",
       "      <th>Return/Exchange</th>\n",
       "      <th>Expected Delivery</th>\n",
       "      <th>Availability</th>\n",
       "      <th>Other Details</th>\n",
       "      <th>URL</th>\n",
       "    </tr>\n",
       "  </thead>\n",
       "  <tbody>\n",
       "    <tr>\n",
       "      <th>0</th>\n",
       "      <td>Visit the Kadence Store</td>\n",
       "      <td>Kadence Slowhand Premium Jumbo Semi Acoustic G...</td>\n",
       "      <td>-</td>\n",
       "      <td>604 ratings</td>\n",
       "      <td></td>\n",
       "      <td>-</td>\n",
       "      <td>-</td>\n",
       "      <td>In stock</td>\n",
       "      <td>ACOUSTIC-ELECTRIC GUITAR: Kadence Slowhand sem...</td>\n",
       "      <td>https://www.amazon.in/sspa/click?ie=UTF8&amp;spc=M...</td>\n",
       "    </tr>\n",
       "    <tr>\n",
       "      <th>1</th>\n",
       "      <td>Visit the VAULT Store</td>\n",
       "      <td>Vault Traveller 34 Inch Acoustic Guitar With T...</td>\n",
       "      <td>-</td>\n",
       "      <td>140 ratings</td>\n",
       "      <td></td>\n",
       "      <td>-</td>\n",
       "      <td>-</td>\n",
       "      <td>In stock</td>\n",
       "      <td>Do not be fooled by the size of this guitar by...</td>\n",
       "      <td>https://www.amazon.in/sspa/click?ie=UTF8&amp;spc=M...</td>\n",
       "    </tr>\n",
       "    <tr>\n",
       "      <th>2</th>\n",
       "      <td>Brand: IMAGINEA</td>\n",
       "      <td>Imaginea® 40 inch Acoustic Guitar for Beginner...</td>\n",
       "      <td>-</td>\n",
       "      <td>-</td>\n",
       "      <td></td>\n",
       "      <td>-</td>\n",
       "      <td>-</td>\n",
       "      <td>In stock</td>\n",
       "      <td>Design: Great looks with an innovative design ...</td>\n",
       "      <td>https://www.amazon.in/sspa/click?ie=UTF8&amp;spc=M...</td>\n",
       "    </tr>\n",
       "    <tr>\n",
       "      <th>3</th>\n",
       "      <td>Brand: IMAGINEA</td>\n",
       "      <td>Imaginea® 40 inch Acoustic Guitar for Beginner...</td>\n",
       "      <td>-</td>\n",
       "      <td>-</td>\n",
       "      <td></td>\n",
       "      <td>-</td>\n",
       "      <td>-</td>\n",
       "      <td>In stock</td>\n",
       "      <td>Design - The Good Gloss finish, Simple head de...</td>\n",
       "      <td>https://www.amazon.in/sspa/click?ie=UTF8&amp;spc=M...</td>\n",
       "    </tr>\n",
       "    <tr>\n",
       "      <th>4</th>\n",
       "      <td>Visit the JUAREZ Store</td>\n",
       "      <td>Juârez Acoustic Guitar, 38 Inch Cutaway, 038C ...</td>\n",
       "      <td>-</td>\n",
       "      <td>20,164 ratings</td>\n",
       "      <td></td>\n",
       "      <td>-</td>\n",
       "      <td>-</td>\n",
       "      <td>In stock</td>\n",
       "      <td>Black Glossy Finish, Number of Frets: 18, Acou...</td>\n",
       "      <td>https://www.amazon.in/Juarez-Acoustic-Cutaway-...</td>\n",
       "    </tr>\n",
       "    <tr>\n",
       "      <th>...</th>\n",
       "      <td>...</td>\n",
       "      <td>...</td>\n",
       "      <td>...</td>\n",
       "      <td>...</td>\n",
       "      <td>...</td>\n",
       "      <td>...</td>\n",
       "      <td>...</td>\n",
       "      <td>...</td>\n",
       "      <td>...</td>\n",
       "      <td>...</td>\n",
       "    </tr>\n",
       "    <tr>\n",
       "      <th>155</th>\n",
       "      <td>Brand: Cort</td>\n",
       "      <td>Cort AF500C Standard Series Open Pore Cutaway ...</td>\n",
       "      <td>-</td>\n",
       "      <td>4 ratings</td>\n",
       "      <td></td>\n",
       "      <td>-</td>\n",
       "      <td>-</td>\n",
       "      <td>In stock</td>\n",
       "      <td>Cort’s oldest acoustic series, the Standard Se...</td>\n",
       "      <td>https://www.amazon.in/Cort-Standard-Gig-Bag-Po...</td>\n",
       "    </tr>\n",
       "    <tr>\n",
       "      <th>156</th>\n",
       "      <td>Visit the Kadence Store</td>\n",
       "      <td>Kadence 12 strings Slowhand Premium Black Spru...</td>\n",
       "      <td>-</td>\n",
       "      <td>-</td>\n",
       "      <td></td>\n",
       "      <td>-</td>\n",
       "      <td>-</td>\n",
       "      <td>In stock</td>\n",
       "      <td>Exquisite Craftsmanship: Experience unparallel...</td>\n",
       "      <td>https://www.amazon.in/Kadence-strings-Slowhand...</td>\n",
       "    </tr>\n",
       "    <tr>\n",
       "      <th>157</th>\n",
       "      <td>Brand: HOVNER</td>\n",
       "      <td>Hovner Carlton Special Quality Rosewood Fretbo...</td>\n",
       "      <td>-</td>\n",
       "      <td>184 ratings</td>\n",
       "      <td></td>\n",
       "      <td>-</td>\n",
       "      <td>-</td>\n",
       "      <td>In stock</td>\n",
       "      <td>F-cut Special Guitar, Material: Rose Wood, Str...</td>\n",
       "      <td>https://www.amazon.in/Carlton-Rosewood-Fretboa...</td>\n",
       "    </tr>\n",
       "    <tr>\n",
       "      <th>158</th>\n",
       "      <td>Visit the Kadence Store</td>\n",
       "      <td>Kadence Frontier Wine Red Acoustic Guitar with...</td>\n",
       "      <td></td>\n",
       "      <td>1 rating</td>\n",
       "      <td></td>\n",
       "      <td>-</td>\n",
       "      <td>-</td>\n",
       "      <td>In stock</td>\n",
       "      <td>-</td>\n",
       "      <td>https://www.amazon.in/Kadence-Frontier-Acousti...</td>\n",
       "    </tr>\n",
       "    <tr>\n",
       "      <th>159</th>\n",
       "      <td>Visit the JUAREZ Store</td>\n",
       "      <td>JUAREZ Fiésta 41 Inch Acoustic Guitar with Dua...</td>\n",
       "      <td>-</td>\n",
       "      <td>60 ratings</td>\n",
       "      <td></td>\n",
       "      <td>-</td>\n",
       "      <td>-</td>\n",
       "      <td>In stock</td>\n",
       "      <td>Glossy finish, Number of frets - 21, 41 Inch A...</td>\n",
       "      <td>https://www.amazon.in/JUAREZ-Acoustic-Rosewood...</td>\n",
       "    </tr>\n",
       "  </tbody>\n",
       "</table>\n",
       "<p>160 rows × 10 columns</p>\n",
       "</div>"
      ],
      "text/plain": [
       "                       Brand  \\\n",
       "0    Visit the Kadence Store   \n",
       "1      Visit the VAULT Store   \n",
       "2            Brand: IMAGINEA   \n",
       "3            Brand: IMAGINEA   \n",
       "4     Visit the JUAREZ Store   \n",
       "..                       ...   \n",
       "155              Brand: Cort   \n",
       "156  Visit the Kadence Store   \n",
       "157            Brand: HOVNER   \n",
       "158  Visit the Kadence Store   \n",
       "159   Visit the JUAREZ Store   \n",
       "\n",
       "                                               Product Rating  No. of ratings  \\\n",
       "0    Kadence Slowhand Premium Jumbo Semi Acoustic G...      -     604 ratings   \n",
       "1    Vault Traveller 34 Inch Acoustic Guitar With T...      -     140 ratings   \n",
       "2    Imaginea® 40 inch Acoustic Guitar for Beginner...      -               -   \n",
       "3    Imaginea® 40 inch Acoustic Guitar for Beginner...      -               -   \n",
       "4    Juârez Acoustic Guitar, 38 Inch Cutaway, 038C ...      -  20,164 ratings   \n",
       "..                                                 ...    ...             ...   \n",
       "155  Cort AF500C Standard Series Open Pore Cutaway ...      -       4 ratings   \n",
       "156  Kadence 12 strings Slowhand Premium Black Spru...      -               -   \n",
       "157  Hovner Carlton Special Quality Rosewood Fretbo...      -     184 ratings   \n",
       "158  Kadence Frontier Wine Red Acoustic Guitar with...               1 rating   \n",
       "159  JUAREZ Fiésta 41 Inch Acoustic Guitar with Dua...      -      60 ratings   \n",
       "\n",
       "    Price Return/Exchange Expected Delivery Availability  \\\n",
       "0                       -                 -     In stock   \n",
       "1                       -                 -     In stock   \n",
       "2                       -                 -     In stock   \n",
       "3                       -                 -     In stock   \n",
       "4                       -                 -     In stock   \n",
       "..    ...             ...               ...          ...   \n",
       "155                     -                 -     In stock   \n",
       "156                     -                 -     In stock   \n",
       "157                     -                 -     In stock   \n",
       "158                     -                 -     In stock   \n",
       "159                     -                 -     In stock   \n",
       "\n",
       "                                         Other Details  \\\n",
       "0    ACOUSTIC-ELECTRIC GUITAR: Kadence Slowhand sem...   \n",
       "1    Do not be fooled by the size of this guitar by...   \n",
       "2    Design: Great looks with an innovative design ...   \n",
       "3    Design - The Good Gloss finish, Simple head de...   \n",
       "4    Black Glossy Finish, Number of Frets: 18, Acou...   \n",
       "..                                                 ...   \n",
       "155  Cort’s oldest acoustic series, the Standard Se...   \n",
       "156  Exquisite Craftsmanship: Experience unparallel...   \n",
       "157  F-cut Special Guitar, Material: Rose Wood, Str...   \n",
       "158                                                  -   \n",
       "159  Glossy finish, Number of frets - 21, 41 Inch A...   \n",
       "\n",
       "                                                   URL  \n",
       "0    https://www.amazon.in/sspa/click?ie=UTF8&spc=M...  \n",
       "1    https://www.amazon.in/sspa/click?ie=UTF8&spc=M...  \n",
       "2    https://www.amazon.in/sspa/click?ie=UTF8&spc=M...  \n",
       "3    https://www.amazon.in/sspa/click?ie=UTF8&spc=M...  \n",
       "4    https://www.amazon.in/Juarez-Acoustic-Cutaway-...  \n",
       "..                                                 ...  \n",
       "155  https://www.amazon.in/Cort-Standard-Gig-Bag-Po...  \n",
       "156  https://www.amazon.in/Kadence-strings-Slowhand...  \n",
       "157  https://www.amazon.in/Carlton-Rosewood-Fretboa...  \n",
       "158  https://www.amazon.in/Kadence-Frontier-Acousti...  \n",
       "159  https://www.amazon.in/JUAREZ-Acoustic-Rosewood...  \n",
       "\n",
       "[160 rows x 10 columns]"
      ]
     },
     "execution_count": 18,
     "metadata": {},
     "output_type": "execute_result"
    }
   ],
   "source": [
    "Guitar"
   ]
  },
  {
   "cell_type": "markdown",
   "id": "57c06ac6",
   "metadata": {},
   "source": [
    "3. WriWrite a python program to access the search bar and search button on images.google.com and scrape 10 \n",
    "images each for keywords ‘fruits’, ‘cars’ and ‘Machine Learning’, ‘Guitar’, ‘Cakes’."
   ]
  },
  {
   "cell_type": "code",
   "execution_count": 19,
   "id": "552b1bf3",
   "metadata": {},
   "outputs": [],
   "source": [
    "driver=webdriver.Chrome()\n",
    "driver.get('https://images.google.com/')"
   ]
  },
  {
   "cell_type": "code",
   "execution_count": 21,
   "id": "ea9aa46d",
   "metadata": {},
   "outputs": [],
   "source": [
    "Search=driver.find_element(By.XPATH,'//textarea[@id=\"APjFqb\"]')\n",
    "# Clearing any previous input in search bar\n",
    "Search.clear()\n",
    "# Feeding input 'Fruits' in search bar\n",
    "Search.send_keys('Fruits')\n",
    "# Finding Search button for clicking through class name\n",
    "Search_button=driver.find_element(By.XPATH,'//span[@class=\"z1asCe MZy1Rb\"]')\n",
    "# Clicking search button\n",
    "Search_button.click()"
   ]
  },
  {
   "cell_type": "code",
   "execution_count": 22,
   "id": "4c555bcb",
   "metadata": {},
   "outputs": [],
   "source": [
    "driver.execute_script(\"window.scrollBy(0,25000)\",\"\")"
   ]
  },
  {
   "cell_type": "code",
   "execution_count": 29,
   "id": "49482c10",
   "metadata": {},
   "outputs": [],
   "source": [
    "URL=[]\n",
    "images= driver.find_elements(By.XPATH,'//img[@class=\"rg_i Q4LuWd\"]')\n",
    "for image in images:\n",
    "    source= image.get_attribute('src')\n",
    "    if source is not None:\n",
    "        if(source[0:4] == 'http'):\n",
    "            URL.append(source)"
   ]
  },
  {
   "cell_type": "code",
   "execution_count": 30,
   "id": "ed5a706d",
   "metadata": {},
   "outputs": [
    {
     "data": {
      "text/plain": [
       "44"
      ]
     },
     "execution_count": 30,
     "metadata": {},
     "output_type": "execute_result"
    }
   ],
   "source": [
    "len(URL)"
   ]
  },
  {
   "cell_type": "code",
   "execution_count": 33,
   "id": "ed4ab185",
   "metadata": {},
   "outputs": [
    {
     "name": "stdout",
     "output_type": "stream",
     "text": [
      "Downloading 0 of 10 images\n",
      "Downloading 1 of 10 images\n",
      "Downloading 2 of 10 images\n",
      "Downloading 3 of 10 images\n",
      "Downloading 4 of 10 images\n",
      "Downloading 5 of 10 images\n",
      "Downloading 6 of 10 images\n",
      "Downloading 7 of 10 images\n",
      "Downloading 8 of 10 images\n",
      "Downloading 9 of 10 images\n"
     ]
    }
   ],
   "source": [
    "images = driver.find_elements(By.XPATH,'//img[@class=\"rg_i Q4LuWd\"]')\n",
    "\n",
    "img_urls = []\n",
    "img_data = []\n",
    "for image in images:\n",
    "    source= image.get_attribute('src')\n",
    "    if source is not None:\n",
    "        if(source[0:4] == 'http'):\n",
    "            img_urls.append(source)\n",
    "            \n",
    "for i in range(len(img_urls)):\n",
    "    if i >= 10:\n",
    "        break\n",
    "    print(\"Downloading {0} of {1} images\" .format(i, 10))\n",
    "    response= requests.get(img_urls[i])\n",
    "    "
   ]
  },
  {
   "cell_type": "code",
   "execution_count": null,
   "id": "f1ae0bde",
   "metadata": {},
   "outputs": [],
   "source": []
  },
  {
   "cell_type": "code",
   "execution_count": 35,
   "id": "00ad62e1",
   "metadata": {},
   "outputs": [],
   "source": [
    "driver=webdriver.Chrome()\n",
    "driver.get('https://images.google.com/')"
   ]
  },
  {
   "cell_type": "code",
   "execution_count": 36,
   "id": "0efefe59",
   "metadata": {},
   "outputs": [],
   "source": [
    "Search=driver.find_element(By.XPATH,'//textarea[@id=\"APjFqb\"]')\n",
    "# Clearing any previous input in search bar\n",
    "Search.clear()\n",
    "# Feeding input 'Cars' in search bar\n",
    "Search.send_keys('Cars')\n",
    "# Finding Search button for clicking through class name\n",
    "Search_button=driver.find_element(By.XPATH,'//span[@class=\"z1asCe MZy1Rb\"]')\n",
    "# Clicking search button\n",
    "Search_button.click()"
   ]
  },
  {
   "cell_type": "code",
   "execution_count": 37,
   "id": "91133a31",
   "metadata": {},
   "outputs": [],
   "source": [
    "driver.execute_script(\"window.scrollBy(0,50000)\",\"\")"
   ]
  },
  {
   "cell_type": "code",
   "execution_count": 38,
   "id": "3f2eb721",
   "metadata": {},
   "outputs": [],
   "source": [
    "URL=[]\n",
    "images= driver.find_elements(By.XPATH,'//img[@class=\"rg_i Q4LuWd\"]')\n",
    "for image in images:\n",
    "    source= image.get_attribute('src')\n",
    "    if source is not None:\n",
    "        if(source[0:4] == 'http'):\n",
    "            URL.append(source)"
   ]
  },
  {
   "cell_type": "code",
   "execution_count": 39,
   "id": "c4342613",
   "metadata": {},
   "outputs": [
    {
     "data": {
      "text/plain": [
       "31"
      ]
     },
     "execution_count": 39,
     "metadata": {},
     "output_type": "execute_result"
    }
   ],
   "source": [
    "len(URL)"
   ]
  },
  {
   "cell_type": "code",
   "execution_count": 40,
   "id": "665d1815",
   "metadata": {},
   "outputs": [
    {
     "name": "stdout",
     "output_type": "stream",
     "text": [
      "Downloading 0 of 10 images\n",
      "Downloading 1 of 10 images\n",
      "Downloading 2 of 10 images\n",
      "Downloading 3 of 10 images\n",
      "Downloading 4 of 10 images\n",
      "Downloading 5 of 10 images\n",
      "Downloading 6 of 10 images\n",
      "Downloading 7 of 10 images\n",
      "Downloading 8 of 10 images\n",
      "Downloading 9 of 10 images\n"
     ]
    }
   ],
   "source": [
    "images = driver.find_elements(By.XPATH,'//img[@class=\"rg_i Q4LuWd\"]')\n",
    "\n",
    "img_urls = []\n",
    "img_data = []\n",
    "for image in images:\n",
    "    source= image.get_attribute('src')\n",
    "    if source is not None:\n",
    "        if(source[0:4] == 'http'):\n",
    "            img_urls.append(source)\n",
    "            \n",
    "for i in range(len(img_urls)):\n",
    "    if i >= 10:\n",
    "        break\n",
    "    print(\"Downloading {0} of {1} images\" .format(i, 10))\n",
    "    response= requests.get(img_urls[i])"
   ]
  },
  {
   "cell_type": "code",
   "execution_count": 41,
   "id": "4abea49e",
   "metadata": {},
   "outputs": [],
   "source": [
    "driver=webdriver.Chrome()\n",
    "driver.get('https://images.google.com/')"
   ]
  },
  {
   "cell_type": "code",
   "execution_count": 42,
   "id": "0991c2df",
   "metadata": {},
   "outputs": [],
   "source": [
    "Search=driver.find_element(By.XPATH,'//textarea[@id=\"APjFqb\"]')\n",
    "# Clearing any previous input in search bar\n",
    "Search.clear()\n",
    "# Feeding input 'Cars' in search bar\n",
    "Search.send_keys('Machine Learning')\n",
    "# Finding Search button for clicking through class name\n",
    "Search_button=driver.find_element(By.XPATH,'//span[@class=\"z1asCe MZy1Rb\"]')\n",
    "# Clicking search button\n",
    "Search_button.click()"
   ]
  },
  {
   "cell_type": "code",
   "execution_count": 43,
   "id": "e85f25b5",
   "metadata": {},
   "outputs": [],
   "source": [
    "driver.execute_script(\"window.scrollBy(0,50000)\",\"\")"
   ]
  },
  {
   "cell_type": "code",
   "execution_count": 44,
   "id": "3e0c8ba1",
   "metadata": {},
   "outputs": [],
   "source": [
    "URL=[]\n",
    "images= driver.find_elements(By.XPATH,'//img[@class=\"rg_i Q4LuWd\"]')\n",
    "for image in images:\n",
    "    source= image.get_attribute('src')\n",
    "    if source is not None:\n",
    "        if(source[0:4] == 'http'):\n",
    "            URL.append(source)"
   ]
  },
  {
   "cell_type": "code",
   "execution_count": 45,
   "id": "a55fc22d",
   "metadata": {},
   "outputs": [
    {
     "data": {
      "text/plain": [
       "30"
      ]
     },
     "execution_count": 45,
     "metadata": {},
     "output_type": "execute_result"
    }
   ],
   "source": [
    "len(URL)"
   ]
  },
  {
   "cell_type": "code",
   "execution_count": 46,
   "id": "5a555436",
   "metadata": {},
   "outputs": [
    {
     "name": "stdout",
     "output_type": "stream",
     "text": [
      "Downloading 0 of 10 images\n",
      "Downloading 1 of 10 images\n",
      "Downloading 2 of 10 images\n",
      "Downloading 3 of 10 images\n",
      "Downloading 4 of 10 images\n",
      "Downloading 5 of 10 images\n",
      "Downloading 6 of 10 images\n",
      "Downloading 7 of 10 images\n",
      "Downloading 8 of 10 images\n",
      "Downloading 9 of 10 images\n"
     ]
    }
   ],
   "source": [
    "images = driver.find_elements(By.XPATH,'//img[@class=\"rg_i Q4LuWd\"]')\n",
    "\n",
    "img_urls = []\n",
    "img_data = []\n",
    "for image in images:\n",
    "    source= image.get_attribute('src')\n",
    "    if source is not None:\n",
    "        if(source[0:4] == 'http'):\n",
    "            img_urls.append(source)\n",
    "            \n",
    "for i in range(len(img_urls)):\n",
    "    if i >= 10:\n",
    "        break\n",
    "    print(\"Downloading {0} of {1} images\" .format(i, 10))\n",
    "    response= requests.get(img_urls[i])"
   ]
  },
  {
   "cell_type": "code",
   "execution_count": 47,
   "id": "fdf5abb9",
   "metadata": {},
   "outputs": [],
   "source": [
    "driver=webdriver.Chrome()\n",
    "driver.get('https://images.google.com/')"
   ]
  },
  {
   "cell_type": "code",
   "execution_count": 48,
   "id": "6ab6f1a0",
   "metadata": {},
   "outputs": [],
   "source": [
    "Search=driver.find_element(By.XPATH,'//textarea[@id=\"APjFqb\"]')\n",
    "# Clearing any previous input in search bar\n",
    "Search.clear()\n",
    "# Feeding input 'Cars' in search bar\n",
    "Search.send_keys('')\n",
    "# Finding Search button for clicking through class name\n",
    "Search_button=driver.find_element(By.XPATH,'//span[@class=\"z1asCe MZy1Rb\"]')\n",
    "# Clicking search button\n",
    "Search_button.click()"
   ]
  },
  {
   "cell_type": "code",
   "execution_count": 49,
   "id": "973d50d8",
   "metadata": {},
   "outputs": [],
   "source": [
    "driver.execute_script(\"window.scrollBy(0,50000)\",\"\")"
   ]
  },
  {
   "cell_type": "code",
   "execution_count": 50,
   "id": "bfaa6dd1",
   "metadata": {},
   "outputs": [],
   "source": [
    "URL=[]\n",
    "images= driver.find_elements(By.XPATH,'//img[@class=\"rg_i Q4LuWd\"]')\n",
    "for image in images:\n",
    "    source= image.get_attribute('src')\n",
    "    if source is not None:\n",
    "        if(source[0:4] == 'http'):\n",
    "            URL.append(source)"
   ]
  },
  {
   "cell_type": "code",
   "execution_count": 51,
   "id": "5130b8c6",
   "metadata": {},
   "outputs": [
    {
     "data": {
      "text/plain": [
       "29"
      ]
     },
     "execution_count": 51,
     "metadata": {},
     "output_type": "execute_result"
    }
   ],
   "source": [
    "len(URL)"
   ]
  },
  {
   "cell_type": "code",
   "execution_count": 52,
   "id": "2307f5c4",
   "metadata": {},
   "outputs": [
    {
     "name": "stdout",
     "output_type": "stream",
     "text": [
      "Downloading 0 of 10 images\n",
      "Downloading 1 of 10 images\n",
      "Downloading 2 of 10 images\n",
      "Downloading 3 of 10 images\n",
      "Downloading 4 of 10 images\n",
      "Downloading 5 of 10 images\n",
      "Downloading 6 of 10 images\n",
      "Downloading 7 of 10 images\n",
      "Downloading 8 of 10 images\n",
      "Downloading 9 of 10 images\n"
     ]
    }
   ],
   "source": [
    "images = driver.find_elements(By.XPATH,'//img[@class=\"rg_i Q4LuWd\"]')\n",
    "\n",
    "img_urls = []\n",
    "img_data = []\n",
    "for image in images:\n",
    "    source= image.get_attribute('src')\n",
    "    if source is not None:\n",
    "        if(source[0:4] == 'http'):\n",
    "            img_urls.append(source)\n",
    "            \n",
    "for i in range(len(img_urls)):\n",
    "    if i >= 10:\n",
    "        break\n",
    "    print(\"Downloading {0} of {1} images\" .format(i, 10))\n",
    "    response= requests.get(img_urls[i])"
   ]
  },
  {
   "cell_type": "markdown",
   "id": "71120d28",
   "metadata": {},
   "source": [
    "4. Write a python program to search for a smartphone(e.g.: Oneplus Nord, pixel 4A, etc.) on www.flipkart.com and scrape following details for all the search results displayed on 1st page. Details to be scraped: “Brand Name”, “Smartphone name”, “Colour”, “RAM”, “Storage(ROM)”, “Primary Camera”, “Secondary Camera”, “Display Size”, “Display Resolution”, “Processor”, “Processor Cores”, “Battery Capacity”, “Price”, “Product URL”. Incase if any"
   ]
  },
  {
   "cell_type": "code",
   "execution_count": 58,
   "id": "50f7d35a",
   "metadata": {},
   "outputs": [],
   "source": [
    "driver=webdriver.Chrome()\n",
    "driver.get('http://www.flipkart.com/')"
   ]
  },
  {
   "cell_type": "code",
   "execution_count": 59,
   "id": "2701e463",
   "metadata": {},
   "outputs": [],
   "source": [
    "Search=driver.find_element(By.XPATH,'//input[@type=\"text\"]')\n",
    "# Clearing any previous input in search bar\n",
    "Search.clear()\n",
    "# Feeding input 'Oneplus' in search bar\n",
    "Search.send_keys('Iphone Mobile')\n",
    "# Finding Search button for clicking through class name\n",
    "Search_button=driver.find_element(By.XPATH,'//button[@class=\"L0Z3Pu\"]')\n",
    "# Clicking search button\n",
    "Search_button.click()\n"
   ]
  },
  {
   "cell_type": "code",
   "execution_count": 62,
   "id": "530e0d7c",
   "metadata": {},
   "outputs": [],
   "source": [
    "\n",
    "Brand =[]\n",
    "Smartphone =[]\n",
    "Colour =[]\n",
    "Storage_Rom =[]\n",
    "Primary_camera=[]\n",
    "Secondary_camera=[]\n",
    "Display_size=[]\n",
    "Display_resolution=[]\n",
    "Processor =[]\n",
    "Processor_cores=[]\n",
    "Battery_capacity=[]\n",
    "Price =[]"
   ]
  },
  {
   "cell_type": "code",
   "execution_count": 61,
   "id": "34cbea15",
   "metadata": {},
   "outputs": [],
   "source": [
    "URL=[]\n",
    "url=driver.find_elements(By.XPATH,'//a[@class=\"_1fQZEK\"]')\n",
    "for i in url:\n",
    "    Href=i.get_attribute('href')\n",
    "    URL.append(Href)\n"
   ]
  },
  {
   "cell_type": "code",
   "execution_count": 63,
   "id": "1998df5d",
   "metadata": {},
   "outputs": [
    {
     "data": {
      "text/plain": [
       "24"
      ]
     },
     "execution_count": 63,
     "metadata": {},
     "output_type": "execute_result"
    }
   ],
   "source": [
    "\n",
    "len(URL)"
   ]
  },
  {
   "cell_type": "code",
   "execution_count": 64,
   "id": "0d51564b",
   "metadata": {},
   "outputs": [
    {
     "name": "stderr",
     "output_type": "stream",
     "text": [
      "100%|██████████| 24/24 [02:56<00:00,  7.37s/it]\n"
     ]
    }
   ],
   "source": [
    "from tqdm import tqdm\n",
    "for i in tqdm(URL):\n",
    "    driver.get(i)\n",
    "    time.sleep(3)\n",
    "    \n",
    "    # Expanding specification table by clicking on read more button\n",
    "    try:\n",
    "        Read_more=driver.find_element(By.XPATH,'//button[@class=\"_2KpZ6l _1FH0tX\"]')\n",
    "        Read_more.click()\n",
    "\n",
    "\n",
    "        \n",
    "    except NoSuchElementException:\n",
    "        print('NoSuchElementException Occur')\n",
    "        pass\n",
    "    \n",
    "    # Extracting Brand Name via Xpath\n",
    "    try:\n",
    "        brand=driver.find_element(By.XPATH,'//span[@class=\"B_NuCI\"]')\n",
    "        Brand.append(brand.text.split()[0])\n",
    "    \n",
    "    except NoSuchElementException:\n",
    "        Brand.append('-')\n",
    "        \n",
    "    # Extracting Smartphone Model via Xpath\n",
    "    try:\n",
    "        smartphone=driver.find_element(By.XPATH,'//div[@class=\"_3k-BhJ\"][1]/table/tbody/tr[3]/td[2]/ul/li')\n",
    "        Smartphone.append(smartphone.text)\n",
    "    \n",
    "    except NoSuchElementException:\n",
    "        Smartphone.append('-')\n",
    "        \n",
    "    # Extracting Colour via Xpath\n",
    "    try:\n",
    "        colour=driver.find_element(By.XPATH,'//div[@class=\"_3k-BhJ\"][1]/table/tbody/tr[4]/td[2]/ul/li')\n",
    "        Colour.append(colour.text)\n",
    "    \n",
    "    except NoSuchElementException:\n",
    "        Colour.append('-')\n",
    "    \n",
    "    # Extracting Storage Rom via Xpath\n",
    "    try:\n",
    "        Rom=driver.find_element(By.XPATH,'//div[@class=\"_3k-BhJ\"][4]/table/tbody/tr[1]/td[2]/ul/li')\n",
    "        Storage_Rom.append(Rom.text)\n",
    "        \n",
    "    except NoSuchElementException:\n",
    "        Storage_Rom.append('Not Mention')\n",
    "        \n",
    "    # Extracting primary camera detail via Xpath\n",
    "    try:\n",
    "        primary_camera=driver.find_element(By.XPATH,'//div[@class=\"_3k-BhJ\"][5]/table/tbody/tr[2]/td[2]/ul/li')\n",
    "        Primary_camera.append(primary_camera.text)\n",
    "    \n",
    "    except NoSuchElementException:\n",
    "        Primary_camera.append('Not Mention')\n",
    "        \n",
    "    # Extracting Secondary Camera detail via Xpath\n",
    "    try:\n",
    "        secondary_cam=driver.find_element(By.XPATH,'//div[@class=\"_3k-BhJ\"][5]/table/tbody/tr[5]/td[2]/ul/li')\n",
    "        Secondary_camera.append(secondary_cam.text)\n",
    "    \n",
    "    except NoSuchElementException:\n",
    "        Secondary_camera.append('Not Mention')\n",
    "    \n",
    "    # Extracting Display size via Xpath\n",
    "    try:\n",
    "        display=driver.find_element(By.XPATH,'//div[@class=\"_3k-BhJ\"][2]/table/tbody/tr[1]/td[2]/ul/li')\n",
    "        Display_size.append(display.text)\n",
    "    except NoSuchElementException:\n",
    "        Display_size.append('-')\n",
    "    \n",
    "    # Extracting Display Resolution via Xpath\n",
    "    try:\n",
    "        resolution=driver.find_element(By.XPATH,'//div[@class=\"_3k-BhJ\"][2]/table/tbody/tr[2]/td[2]/ul/li')\n",
    "        Display_resolution.append(resolution.text)\n",
    "    except NoSuchElementException:\n",
    "        Display_resolution.append('-')\n",
    "    \n",
    "    # Extracting processor detail via xpath\n",
    "    try:\n",
    "        processor=driver.find_element(By.XPATH,'//div[@class=\"_3k-BhJ\"][3]/table/tbody/tr[2]/td[2]/ul/li')\n",
    "        Processor.append(processor.text)\n",
    "    \n",
    "    except NoSuchElementException:\n",
    "        Processor.append('-')\n",
    "        \n",
    "    # Extracting Processor core via xpath\n",
    "    try:\n",
    "        core=driver.find_element(By.XPATH,'//div[@class=\"_3k-BhJ\"][3]/table/tbody/tr[3]/td[2]/ul/li')\n",
    "        Processor_cores.append(core.text)\n",
    "    except NoSuchElementException:\n",
    "        Processor_cores.append('Not Mention')\n",
    "    \n",
    "    #Extracting Price via X path\n",
    "    try:\n",
    "        price=driver.find_element(By.XPATH,'//div[@class=\"_30jeq3 _16Jk6d\"]')\n",
    "        Price.append(price.text)\n",
    "    except NoSuchElementException:\n",
    "        Price.append('Not Mention')"
   ]
  },
  {
   "cell_type": "code",
   "execution_count": 66,
   "id": "2daa0a16",
   "metadata": {},
   "outputs": [
    {
     "data": {
      "text/html": [
       "<div>\n",
       "<style scoped>\n",
       "    .dataframe tbody tr th:only-of-type {\n",
       "        vertical-align: middle;\n",
       "    }\n",
       "\n",
       "    .dataframe tbody tr th {\n",
       "        vertical-align: top;\n",
       "    }\n",
       "\n",
       "    .dataframe thead th {\n",
       "        text-align: right;\n",
       "    }\n",
       "</style>\n",
       "<table border=\"1\" class=\"dataframe\">\n",
       "  <thead>\n",
       "    <tr style=\"text-align: right;\">\n",
       "      <th></th>\n",
       "      <th>Brand</th>\n",
       "      <th>Smartphone</th>\n",
       "      <th>Colour</th>\n",
       "      <th>Price</th>\n",
       "      <th>Storage Rom</th>\n",
       "      <th>Primary Camera</th>\n",
       "      <th>Display Size</th>\n",
       "      <th>Display Resolution</th>\n",
       "      <th>Processor</th>\n",
       "      <th>Processor Cores</th>\n",
       "    </tr>\n",
       "  </thead>\n",
       "  <tbody>\n",
       "    <tr>\n",
       "      <th>0</th>\n",
       "      <td>APPLE</td>\n",
       "      <td>iPhone 14</td>\n",
       "      <td>Midnight</td>\n",
       "      <td>₹66,999</td>\n",
       "      <td>128 GB</td>\n",
       "      <td>12MP + 12MP</td>\n",
       "      <td>15.49 cm (6.1 inch)</td>\n",
       "      <td>2532 x 1170 Pixels</td>\n",
       "      <td>A15 Bionic Chip, 6 Core Processor</td>\n",
       "      <td>Hexa Core</td>\n",
       "    </tr>\n",
       "    <tr>\n",
       "      <th>1</th>\n",
       "      <td>APPLE</td>\n",
       "      <td>iPhone 14</td>\n",
       "      <td>Purple</td>\n",
       "      <td>₹66,999</td>\n",
       "      <td>128 GB</td>\n",
       "      <td>12MP + 12MP</td>\n",
       "      <td>15.49 cm (6.1 inch)</td>\n",
       "      <td>2532 x 1170 Pixels</td>\n",
       "      <td>A15 Bionic Chip, 6 Core Processor</td>\n",
       "      <td>Hexa Core</td>\n",
       "    </tr>\n",
       "    <tr>\n",
       "      <th>2</th>\n",
       "      <td>APPLE</td>\n",
       "      <td>iPhone 14</td>\n",
       "      <td>Starlight</td>\n",
       "      <td>₹66,999</td>\n",
       "      <td>128 GB</td>\n",
       "      <td>12MP + 12MP</td>\n",
       "      <td>15.49 cm (6.1 inch)</td>\n",
       "      <td>2532 x 1170 Pixels</td>\n",
       "      <td>A15 Bionic Chip, 6 Core Processor</td>\n",
       "      <td>Hexa Core</td>\n",
       "    </tr>\n",
       "    <tr>\n",
       "      <th>3</th>\n",
       "      <td>APPLE</td>\n",
       "      <td>iPhone 14</td>\n",
       "      <td>Blue</td>\n",
       "      <td>₹66,999</td>\n",
       "      <td>128 GB</td>\n",
       "      <td>12MP + 12MP</td>\n",
       "      <td>15.49 cm (6.1 inch)</td>\n",
       "      <td>2532 x 1170 Pixels</td>\n",
       "      <td>A15 Bionic Chip, 6 Core Processor</td>\n",
       "      <td>Hexa Core</td>\n",
       "    </tr>\n",
       "    <tr>\n",
       "      <th>4</th>\n",
       "      <td>APPLE</td>\n",
       "      <td>iPhone 14</td>\n",
       "      <td>Midnight</td>\n",
       "      <td>₹76,999</td>\n",
       "      <td>256 GB</td>\n",
       "      <td>12MP + 12MP</td>\n",
       "      <td>15.49 cm (6.1 inch)</td>\n",
       "      <td>2532 x 1170 Pixels</td>\n",
       "      <td>A15 Bionic Chip, 6 Core Processor</td>\n",
       "      <td>Hexa Core</td>\n",
       "    </tr>\n",
       "    <tr>\n",
       "      <th>5</th>\n",
       "      <td>APPLE</td>\n",
       "      <td>-</td>\n",
       "      <td>-</td>\n",
       "      <td>₹42,999</td>\n",
       "      <td>iOS 14.2</td>\n",
       "      <td>Not Mention</td>\n",
       "      <td>iPhone, USB-C to Lightning Cable, Documentation</td>\n",
       "      <td>MHDJ3HN/A</td>\n",
       "      <td>1792 x 828 Pixels</td>\n",
       "      <td>Liquid Retina HD Display</td>\n",
       "    </tr>\n",
       "    <tr>\n",
       "      <th>6</th>\n",
       "      <td>APPLE</td>\n",
       "      <td>iPhone 13</td>\n",
       "      <td>Blue</td>\n",
       "      <td>₹58,999</td>\n",
       "      <td>128 GB</td>\n",
       "      <td>12MP + 12MP</td>\n",
       "      <td>15.49 cm (6.1 inch)</td>\n",
       "      <td>2532 x 1170 Pixels</td>\n",
       "      <td>A15 Bionic Chip</td>\n",
       "      <td>Hexa Core</td>\n",
       "    </tr>\n",
       "    <tr>\n",
       "      <th>7</th>\n",
       "      <td>APPLE</td>\n",
       "      <td>iPhone 14</td>\n",
       "      <td>Purple</td>\n",
       "      <td>₹76,999</td>\n",
       "      <td>256 GB</td>\n",
       "      <td>12MP + 12MP</td>\n",
       "      <td>15.49 cm (6.1 inch)</td>\n",
       "      <td>2532 x 1170 Pixels</td>\n",
       "      <td>A15 Bionic Chip, 6 Core Processor</td>\n",
       "      <td>Hexa Core</td>\n",
       "    </tr>\n",
       "    <tr>\n",
       "      <th>8</th>\n",
       "      <td>APPLE</td>\n",
       "      <td>iPhone 13</td>\n",
       "      <td>Green</td>\n",
       "      <td>₹58,999</td>\n",
       "      <td>128 GB</td>\n",
       "      <td>12MP + 12MP</td>\n",
       "      <td>15.49 cm (6.1 inch)</td>\n",
       "      <td>2532 x 1170 Pixels</td>\n",
       "      <td>A15 Bionic Chip</td>\n",
       "      <td>Hexa Core</td>\n",
       "    </tr>\n",
       "    <tr>\n",
       "      <th>9</th>\n",
       "      <td>APPLE</td>\n",
       "      <td>-</td>\n",
       "      <td>-</td>\n",
       "      <td>₹39,999</td>\n",
       "      <td>iOS 14.2</td>\n",
       "      <td>Not Mention</td>\n",
       "      <td>iPhone, USB-C to Lightning Cable, Documentation</td>\n",
       "      <td>MHDC3HN/A</td>\n",
       "      <td>1792 x 828 Pixels</td>\n",
       "      <td>Liquid Retina HD Display</td>\n",
       "    </tr>\n",
       "    <tr>\n",
       "      <th>10</th>\n",
       "      <td>APPLE</td>\n",
       "      <td>iPhone 14 Plus</td>\n",
       "      <td>Purple</td>\n",
       "      <td>₹76,999</td>\n",
       "      <td>128 GB</td>\n",
       "      <td>12MP + 12MP</td>\n",
       "      <td>17.02 cm (6.7 inch)</td>\n",
       "      <td>2778 x 1284 Pixels</td>\n",
       "      <td>A15 Bionic Chip, 6 Core Processor</td>\n",
       "      <td>Hexa Core</td>\n",
       "    </tr>\n",
       "    <tr>\n",
       "      <th>11</th>\n",
       "      <td>APPLE</td>\n",
       "      <td>iPhone 13</td>\n",
       "      <td>Midnight</td>\n",
       "      <td>₹58,999</td>\n",
       "      <td>128 GB</td>\n",
       "      <td>12MP + 12MP</td>\n",
       "      <td>15.49 cm (6.1 inch)</td>\n",
       "      <td>2532 x 1170 Pixels</td>\n",
       "      <td>A15 Bionic Chip</td>\n",
       "      <td>Hexa Core</td>\n",
       "    </tr>\n",
       "    <tr>\n",
       "      <th>12</th>\n",
       "      <td>APPLE</td>\n",
       "      <td>iPhone 14 Plus</td>\n",
       "      <td>Midnight</td>\n",
       "      <td>₹76,999</td>\n",
       "      <td>128 GB</td>\n",
       "      <td>12MP + 12MP</td>\n",
       "      <td>17.02 cm (6.7 inch)</td>\n",
       "      <td>2778 x 1284 Pixels</td>\n",
       "      <td>A15 Bionic Chip, 6 Core Processor</td>\n",
       "      <td>Hexa Core</td>\n",
       "    </tr>\n",
       "    <tr>\n",
       "      <th>13</th>\n",
       "      <td>APPLE</td>\n",
       "      <td>iPhone 14 Plus</td>\n",
       "      <td>Starlight</td>\n",
       "      <td>₹76,999</td>\n",
       "      <td>128 GB</td>\n",
       "      <td>12MP + 12MP</td>\n",
       "      <td>17.02 cm (6.7 inch)</td>\n",
       "      <td>2778 x 1284 Pixels</td>\n",
       "      <td>A15 Bionic Chip, 6 Core Processor</td>\n",
       "      <td>Hexa Core</td>\n",
       "    </tr>\n",
       "    <tr>\n",
       "      <th>14</th>\n",
       "      <td>APPLE</td>\n",
       "      <td>iPhone 13</td>\n",
       "      <td>Starlight</td>\n",
       "      <td>₹58,999</td>\n",
       "      <td>128 GB</td>\n",
       "      <td>12MP + 12MP</td>\n",
       "      <td>15.49 cm (6.1 inch)</td>\n",
       "      <td>2532 x 1170 Pixels</td>\n",
       "      <td>A15 Bionic Chip</td>\n",
       "      <td>Hexa Core</td>\n",
       "    </tr>\n",
       "    <tr>\n",
       "      <th>15</th>\n",
       "      <td>APPLE</td>\n",
       "      <td>iPhone 14</td>\n",
       "      <td>Starlight</td>\n",
       "      <td>₹76,999</td>\n",
       "      <td>256 GB</td>\n",
       "      <td>12MP + 12MP</td>\n",
       "      <td>15.49 cm (6.1 inch)</td>\n",
       "      <td>2532 x 1170 Pixels</td>\n",
       "      <td>A15 Bionic Chip, 6 Core Processor</td>\n",
       "      <td>Hexa Core</td>\n",
       "    </tr>\n",
       "    <tr>\n",
       "      <th>16</th>\n",
       "      <td>APPLE</td>\n",
       "      <td>iPhone 13</td>\n",
       "      <td>Pink</td>\n",
       "      <td>₹58,999</td>\n",
       "      <td>128 GB</td>\n",
       "      <td>12MP + 12MP</td>\n",
       "      <td>15.49 cm (6.1 inch)</td>\n",
       "      <td>2532 x 1170 Pixels</td>\n",
       "      <td>A15 Bionic Chip</td>\n",
       "      <td>Hexa Core</td>\n",
       "    </tr>\n",
       "    <tr>\n",
       "      <th>17</th>\n",
       "      <td>APPLE</td>\n",
       "      <td>-</td>\n",
       "      <td>-</td>\n",
       "      <td>₹42,999</td>\n",
       "      <td>iOS 14.2</td>\n",
       "      <td>Not Mention</td>\n",
       "      <td>iPhone, USB-C to Lightning Cable, Documentation</td>\n",
       "      <td>MHDH3HN/A</td>\n",
       "      <td>1792 x 828 Pixels</td>\n",
       "      <td>Liquid Retina HD Display</td>\n",
       "    </tr>\n",
       "    <tr>\n",
       "      <th>18</th>\n",
       "      <td>APPLE</td>\n",
       "      <td>iPhone 14 Plus</td>\n",
       "      <td>Blue</td>\n",
       "      <td>₹76,999</td>\n",
       "      <td>128 GB</td>\n",
       "      <td>12MP + 12MP</td>\n",
       "      <td>17.02 cm (6.7 inch)</td>\n",
       "      <td>2778 x 1284 Pixels</td>\n",
       "      <td>A15 Bionic Chip, 6 Core Processor</td>\n",
       "      <td>Hexa Core</td>\n",
       "    </tr>\n",
       "    <tr>\n",
       "      <th>19</th>\n",
       "      <td>APPLE</td>\n",
       "      <td>-</td>\n",
       "      <td>-</td>\n",
       "      <td>₹39,999</td>\n",
       "      <td>iOS 14.2</td>\n",
       "      <td>Not Mention</td>\n",
       "      <td>iPhone, USB-C to Lightning Cable, Documentation</td>\n",
       "      <td>MHDA3HN/A</td>\n",
       "      <td>1792 x 828 Pixels</td>\n",
       "      <td>Liquid Retina HD Display</td>\n",
       "    </tr>\n",
       "    <tr>\n",
       "      <th>20</th>\n",
       "      <td>APPLE</td>\n",
       "      <td>iPhone 13</td>\n",
       "      <td>(PRODUCT)RED</td>\n",
       "      <td>₹58,999</td>\n",
       "      <td>128 GB</td>\n",
       "      <td>12MP + 12MP</td>\n",
       "      <td>15.49 cm (6.1 inch)</td>\n",
       "      <td>2532 x 1170 Pixels</td>\n",
       "      <td>A15 Bionic Chip</td>\n",
       "      <td>Hexa Core</td>\n",
       "    </tr>\n",
       "    <tr>\n",
       "      <th>21</th>\n",
       "      <td>APPLE</td>\n",
       "      <td>iPhone 14</td>\n",
       "      <td>(PRODUCT)RED</td>\n",
       "      <td>₹65,999</td>\n",
       "      <td>128 GB</td>\n",
       "      <td>12MP + 12MP</td>\n",
       "      <td>15.49 cm (6.1 inch)</td>\n",
       "      <td>2532 x 1170 Pixels</td>\n",
       "      <td>A15 Bionic Chip, 6 Core Processor</td>\n",
       "      <td>Hexa Core</td>\n",
       "    </tr>\n",
       "    <tr>\n",
       "      <th>22</th>\n",
       "      <td>APPLE</td>\n",
       "      <td>iPhone 12</td>\n",
       "      <td>Blue</td>\n",
       "      <td>₹50,999</td>\n",
       "      <td>64 GB</td>\n",
       "      <td>12MP + 12MP</td>\n",
       "      <td>15.49 cm (6.1 inch)</td>\n",
       "      <td>2532 x 1170 Pixels</td>\n",
       "      <td>A14 Bionic Chip with Next Generation Neural En...</td>\n",
       "      <td>Not Mention</td>\n",
       "    </tr>\n",
       "    <tr>\n",
       "      <th>23</th>\n",
       "      <td>APPLE</td>\n",
       "      <td>iPhone 14</td>\n",
       "      <td>Blue</td>\n",
       "      <td>₹76,999</td>\n",
       "      <td>256 GB</td>\n",
       "      <td>12MP + 12MP</td>\n",
       "      <td>15.49 cm (6.1 inch)</td>\n",
       "      <td>2532 x 1170 Pixels</td>\n",
       "      <td>A15 Bionic Chip, 6 Core Processor</td>\n",
       "      <td>Hexa Core</td>\n",
       "    </tr>\n",
       "  </tbody>\n",
       "</table>\n",
       "</div>"
      ],
      "text/plain": [
       "    Brand      Smartphone        Colour    Price Storage Rom Primary Camera  \\\n",
       "0   APPLE       iPhone 14      Midnight  ₹66,999      128 GB    12MP + 12MP   \n",
       "1   APPLE       iPhone 14        Purple  ₹66,999      128 GB    12MP + 12MP   \n",
       "2   APPLE       iPhone 14     Starlight  ₹66,999      128 GB    12MP + 12MP   \n",
       "3   APPLE       iPhone 14          Blue  ₹66,999      128 GB    12MP + 12MP   \n",
       "4   APPLE       iPhone 14      Midnight  ₹76,999      256 GB    12MP + 12MP   \n",
       "5   APPLE               -             -  ₹42,999    iOS 14.2    Not Mention   \n",
       "6   APPLE       iPhone 13          Blue  ₹58,999      128 GB    12MP + 12MP   \n",
       "7   APPLE       iPhone 14        Purple  ₹76,999      256 GB    12MP + 12MP   \n",
       "8   APPLE       iPhone 13         Green  ₹58,999      128 GB    12MP + 12MP   \n",
       "9   APPLE               -             -  ₹39,999    iOS 14.2    Not Mention   \n",
       "10  APPLE  iPhone 14 Plus        Purple  ₹76,999      128 GB    12MP + 12MP   \n",
       "11  APPLE       iPhone 13      Midnight  ₹58,999      128 GB    12MP + 12MP   \n",
       "12  APPLE  iPhone 14 Plus      Midnight  ₹76,999      128 GB    12MP + 12MP   \n",
       "13  APPLE  iPhone 14 Plus     Starlight  ₹76,999      128 GB    12MP + 12MP   \n",
       "14  APPLE       iPhone 13     Starlight  ₹58,999      128 GB    12MP + 12MP   \n",
       "15  APPLE       iPhone 14     Starlight  ₹76,999      256 GB    12MP + 12MP   \n",
       "16  APPLE       iPhone 13          Pink  ₹58,999      128 GB    12MP + 12MP   \n",
       "17  APPLE               -             -  ₹42,999    iOS 14.2    Not Mention   \n",
       "18  APPLE  iPhone 14 Plus          Blue  ₹76,999      128 GB    12MP + 12MP   \n",
       "19  APPLE               -             -  ₹39,999    iOS 14.2    Not Mention   \n",
       "20  APPLE       iPhone 13  (PRODUCT)RED  ₹58,999      128 GB    12MP + 12MP   \n",
       "21  APPLE       iPhone 14  (PRODUCT)RED  ₹65,999      128 GB    12MP + 12MP   \n",
       "22  APPLE       iPhone 12          Blue  ₹50,999       64 GB    12MP + 12MP   \n",
       "23  APPLE       iPhone 14          Blue  ₹76,999      256 GB    12MP + 12MP   \n",
       "\n",
       "                                       Display Size  Display Resolution  \\\n",
       "0                               15.49 cm (6.1 inch)  2532 x 1170 Pixels   \n",
       "1                               15.49 cm (6.1 inch)  2532 x 1170 Pixels   \n",
       "2                               15.49 cm (6.1 inch)  2532 x 1170 Pixels   \n",
       "3                               15.49 cm (6.1 inch)  2532 x 1170 Pixels   \n",
       "4                               15.49 cm (6.1 inch)  2532 x 1170 Pixels   \n",
       "5   iPhone, USB-C to Lightning Cable, Documentation           MHDJ3HN/A   \n",
       "6                               15.49 cm (6.1 inch)  2532 x 1170 Pixels   \n",
       "7                               15.49 cm (6.1 inch)  2532 x 1170 Pixels   \n",
       "8                               15.49 cm (6.1 inch)  2532 x 1170 Pixels   \n",
       "9   iPhone, USB-C to Lightning Cable, Documentation           MHDC3HN/A   \n",
       "10                              17.02 cm (6.7 inch)  2778 x 1284 Pixels   \n",
       "11                              15.49 cm (6.1 inch)  2532 x 1170 Pixels   \n",
       "12                              17.02 cm (6.7 inch)  2778 x 1284 Pixels   \n",
       "13                              17.02 cm (6.7 inch)  2778 x 1284 Pixels   \n",
       "14                              15.49 cm (6.1 inch)  2532 x 1170 Pixels   \n",
       "15                              15.49 cm (6.1 inch)  2532 x 1170 Pixels   \n",
       "16                              15.49 cm (6.1 inch)  2532 x 1170 Pixels   \n",
       "17  iPhone, USB-C to Lightning Cable, Documentation           MHDH3HN/A   \n",
       "18                              17.02 cm (6.7 inch)  2778 x 1284 Pixels   \n",
       "19  iPhone, USB-C to Lightning Cable, Documentation           MHDA3HN/A   \n",
       "20                              15.49 cm (6.1 inch)  2532 x 1170 Pixels   \n",
       "21                              15.49 cm (6.1 inch)  2532 x 1170 Pixels   \n",
       "22                              15.49 cm (6.1 inch)  2532 x 1170 Pixels   \n",
       "23                              15.49 cm (6.1 inch)  2532 x 1170 Pixels   \n",
       "\n",
       "                                            Processor  \\\n",
       "0                   A15 Bionic Chip, 6 Core Processor   \n",
       "1                   A15 Bionic Chip, 6 Core Processor   \n",
       "2                   A15 Bionic Chip, 6 Core Processor   \n",
       "3                   A15 Bionic Chip, 6 Core Processor   \n",
       "4                   A15 Bionic Chip, 6 Core Processor   \n",
       "5                                   1792 x 828 Pixels   \n",
       "6                                     A15 Bionic Chip   \n",
       "7                   A15 Bionic Chip, 6 Core Processor   \n",
       "8                                     A15 Bionic Chip   \n",
       "9                                   1792 x 828 Pixels   \n",
       "10                  A15 Bionic Chip, 6 Core Processor   \n",
       "11                                    A15 Bionic Chip   \n",
       "12                  A15 Bionic Chip, 6 Core Processor   \n",
       "13                  A15 Bionic Chip, 6 Core Processor   \n",
       "14                                    A15 Bionic Chip   \n",
       "15                  A15 Bionic Chip, 6 Core Processor   \n",
       "16                                    A15 Bionic Chip   \n",
       "17                                  1792 x 828 Pixels   \n",
       "18                  A15 Bionic Chip, 6 Core Processor   \n",
       "19                                  1792 x 828 Pixels   \n",
       "20                                    A15 Bionic Chip   \n",
       "21                  A15 Bionic Chip, 6 Core Processor   \n",
       "22  A14 Bionic Chip with Next Generation Neural En...   \n",
       "23                  A15 Bionic Chip, 6 Core Processor   \n",
       "\n",
       "             Processor Cores  \n",
       "0                  Hexa Core  \n",
       "1                  Hexa Core  \n",
       "2                  Hexa Core  \n",
       "3                  Hexa Core  \n",
       "4                  Hexa Core  \n",
       "5   Liquid Retina HD Display  \n",
       "6                  Hexa Core  \n",
       "7                  Hexa Core  \n",
       "8                  Hexa Core  \n",
       "9   Liquid Retina HD Display  \n",
       "10                 Hexa Core  \n",
       "11                 Hexa Core  \n",
       "12                 Hexa Core  \n",
       "13                 Hexa Core  \n",
       "14                 Hexa Core  \n",
       "15                 Hexa Core  \n",
       "16                 Hexa Core  \n",
       "17  Liquid Retina HD Display  \n",
       "18                 Hexa Core  \n",
       "19  Liquid Retina HD Display  \n",
       "20                 Hexa Core  \n",
       "21                 Hexa Core  \n",
       "22               Not Mention  \n",
       "23                 Hexa Core  "
      ]
     },
     "execution_count": 66,
     "metadata": {},
     "output_type": "execute_result"
    }
   ],
   "source": [
    "Iphone=pd.DataFrame({'Brand':Brand,'Smartphone':Smartphone,'Colour':Colour,'Price':Price,\n",
    "                        'Storage Rom':Storage_Rom,'Primary Camera':Primary_camera,'Display Size':Display_size,\n",
    "                        'Display Resolution':Display_resolution,'Processor':Processor,'Processor Cores':Processor_cores})\n",
    "\n",
    "Iphone\n"
   ]
  },
  {
   "cell_type": "markdown",
   "id": "54e9452b",
   "metadata": {},
   "source": [
    "# 5. Write a program to scrap geospatial coordinates (latitude, longitude) of a city searched on google maps."
   ]
  },
  {
   "cell_type": "code",
   "execution_count": 67,
   "id": "5b2a5f99",
   "metadata": {},
   "outputs": [],
   "source": [
    "import selenium\n",
    "import pandas as pd\n",
    "from selenium import webdriver\n",
    "from selenium.common.exceptions import NoSuchElementException\n",
    "import time\n"
   ]
  },
  {
   "cell_type": "code",
   "execution_count": 78,
   "id": "d0058a8a",
   "metadata": {},
   "outputs": [],
   "source": [
    "driver=webdriver.Chrome()\n",
    "driver.get('https://www.google.co.in/maps')"
   ]
  },
  {
   "cell_type": "code",
   "execution_count": 79,
   "id": "0f62866e",
   "metadata": {},
   "outputs": [],
   "source": [
    "Search=driver.find_element(By.ID,\"searchboxinput\")\n",
    "# Clearing any previous input in search bar\n",
    "Search.clear()\n",
    "# Feeding input 'Fruits' in search bar\n",
    "Search.send_keys('Delhi')\n",
    "# Finding Search button for clicking through class name\n",
    "Search_button=driver.find_element(By.ID,'searchbox-searchbutton')\n",
    "# Clicking search button\n",
    "Search_button.click()"
   ]
  },
  {
   "cell_type": "code",
   "execution_count": 80,
   "id": "6244e9c2",
   "metadata": {},
   "outputs": [
    {
     "name": "stdout",
     "output_type": "stream",
     "text": [
      "Current url : https://www.google.co.in/maps/place/%D8%AF%D9%84%D9%87%D9%8A%D8%8C+%D8%A7%D9%84%D9%87%D9%86%D8%AF%E2%80%AD/@28.5692414,77.5375588,10z/data=!4m6!3m5!1s0x390cfd5b347eb62d:0x37205b715389640!8m2!3d28.7040592!4d77.1024902!16zL20vMDlmMDc?entry=ttu\n"
     ]
    }
   ],
   "source": [
    "current_url=driver.current_url\n",
    "print('Current url :',current_url)"
   ]
  },
  {
   "cell_type": "code",
   "execution_count": 81,
   "id": "161e9080",
   "metadata": {},
   "outputs": [
    {
     "name": "stdout",
     "output_type": "stream",
     "text": [
      "Latitude of given Location: 28.5692414\n",
      "Longitude of given Location: 77.5375588\n"
     ]
    }
   ],
   "source": [
    "try:\n",
    "    if \"@\" in current_url:\n",
    "        location=current_url.split('@')[1].split(',*/data')[0].split(',')\n",
    "        location\n",
    "        print('Latitude of given Location:',location[0])\n",
    "        print('Longitude of given Location:',location[1])\n",
    "except:\n",
    "    print('Location detail not found in url')"
   ]
  },
  {
   "cell_type": "markdown",
   "id": "e7fdef64",
   "metadata": {},
   "source": [
    "6. Write a program to scrap all the available details of best gaming laptops from digit.in."
   ]
  },
  {
   "cell_type": "code",
   "execution_count": 84,
   "id": "c66b9b8d",
   "metadata": {},
   "outputs": [],
   "source": [
    "import selenium\n",
    "import pandas as pd\n",
    "from selenium import webdriver\n",
    "from selenium.common.exceptions import NoSuchElementException\n",
    "import time\n"
   ]
  },
  {
   "cell_type": "code",
   "execution_count": null,
   "id": "1c2d0b6c",
   "metadata": {},
   "outputs": [],
   "source": []
  },
  {
   "cell_type": "code",
   "execution_count": 85,
   "id": "c747d146",
   "metadata": {},
   "outputs": [],
   "source": [
    "driver=webdriver.Chrome()\n",
    "driver.get('https://www.digit.in')"
   ]
  },
  {
   "cell_type": "code",
   "execution_count": 87,
   "id": "3b42273a",
   "metadata": {},
   "outputs": [],
   "source": [
    "# Clicking on top 10 option button in menu bar\n",
    "driver.find_element(By.XPATH,'/html/body/div[1]/div/div[4]/ul/li[4]/a').click()\n",
    "time.sleep(3)\n",
    "\n",
    "# Clicking on Laptop under table\n",
    "driver.find_element(By.XPATH,'//h3[@class=\"category_heading accordion\"]').click()\n",
    "\n",
    "# Opening Best gaming laptops link\n",
    "Gaming_lappy=driver.find_element(By.XPATH,'/html/body/div[5]/div/div/div[4]/div[2]/div/div[1]/ul/li[4]/a').get_attribute('href')\n",
    "driver.get(Gaming_lappy)\n",
    "time.sleep(3)"
   ]
  },
  {
   "cell_type": "code",
   "execution_count": 88,
   "id": "5e35861d",
   "metadata": {},
   "outputs": [],
   "source": [
    "Laptop_model =[]\n",
    "OS =[]\n",
    "Display = []\n",
    "Processor =[]\n",
    "Memory =[]\n",
    "Dimension =[]\n",
    "Graphics_processor =[]\n",
    "Price =[]"
   ]
  },
  {
   "cell_type": "code",
   "execution_count": 120,
   "id": "28101c39",
   "metadata": {},
   "outputs": [],
   "source": [
    "for i in range(0,1):\n",
    "    laptop_model=driver.find_elements(By.XPATH,'//span[@class=\"datahreflink\"]'.format(i))\n",
    "    os=driver.find_elements(By.XPATH,'//div[@class=\"Spcs-details\"]/table/tbody/tr[4]/td[3]')\n",
    "    display=driver.find_elements(By.XPATH,'//div[@class=\"Spcs-details\"]/table/tbody/tr[3]/td[3]')\n",
    "    processor=driver.find_elements(By.XPATH,'//div[@class=\"Spcs-details\"]/table/tbody/tr[2]/td[3]')\n",
    "    memory=driver.find_elements(By.XPATH,'//div[@class=\"Spcs-details\"]/table/tbody/tr[4]/td[3]')\n",
    "\n",
    "    dimension=driver.find_elements(By.XPATH,'//div[@class=\"Spcs-details\"]/table/tbody/tr[7]/td[3]')\n",
    "    graphics_processor=driver.find_elements(By.XPATH,'//div[@class=\"Spcs-details\"]/table/tbody/tr[6]/td[3]')\n",
    "    price=driver.find_elements(By.XPATH,'//div[@class=\"Spcs-details\"]/table/tbody/tr[8]/td[3]')\n",
    "\n",
    "    for j in laptop_model:\n",
    "        Laptop_model.append(j.text)\n",
    "    for j in os:\n",
    "        OS.append(j.text)\n",
    "    for j in processor:\n",
    "        Processor.append(j.text)  \n",
    "    for j in memory:\n",
    "        Memory.append(j.text)\n",
    "    for j in dimension:\n",
    "        Dimension.append(j.text) \n",
    "    for j in graphics_processor:\n",
    "        Graphics_processor.append(j.text)\n",
    "    for j in price:\n",
    "        Price.append(j.text)\n",
    "    "
   ]
  },
  {
   "cell_type": "code",
   "execution_count": 121,
   "id": "de0984d5",
   "metadata": {},
   "outputs": [
    {
     "data": {
      "text/plain": [
       "(825, 9, 9, 486, 9, 9, 9, 9)"
      ]
     },
     "execution_count": 121,
     "metadata": {},
     "output_type": "execute_result"
    }
   ],
   "source": [
    "len(Laptop_model),len(os),len(display),len(Processor),len(memory),len(dimension),len(graphics_processor),len(price)"
   ]
  },
  {
   "cell_type": "code",
   "execution_count": 118,
   "id": "7adb685d",
   "metadata": {},
   "outputs": [
    {
     "ename": "ValueError",
     "evalue": "All arrays must be of the same length",
     "output_type": "error",
     "traceback": [
      "\u001b[1;31m---------------------------------------------------------------------------\u001b[0m",
      "\u001b[1;31mValueError\u001b[0m                                Traceback (most recent call last)",
      "\u001b[1;32m~\\AppData\\Local\\Temp\\ipykernel_6200\\3887939703.py\u001b[0m in \u001b[0;36m<module>\u001b[1;34m\u001b[0m\n\u001b[1;32m----> 1\u001b[1;33m Gaming_Laptops=pd.DataFrame({\"Price\":Price, \"OS\":OS,\"Display\":Display,\"Memory\":Memory,\"Processor\":Processor,\n\u001b[0m\u001b[0;32m      2\u001b[0m                  \"Dimension\":Dimension,\"Graphical processor\":Graphics_processor})\n",
      "\u001b[1;32mC:\\New folder\\lib\\site-packages\\pandas\\core\\frame.py\u001b[0m in \u001b[0;36m__init__\u001b[1;34m(self, data, index, columns, dtype, copy)\u001b[0m\n\u001b[0;32m    634\u001b[0m         \u001b[1;32melif\u001b[0m \u001b[0misinstance\u001b[0m\u001b[1;33m(\u001b[0m\u001b[0mdata\u001b[0m\u001b[1;33m,\u001b[0m \u001b[0mdict\u001b[0m\u001b[1;33m)\u001b[0m\u001b[1;33m:\u001b[0m\u001b[1;33m\u001b[0m\u001b[1;33m\u001b[0m\u001b[0m\n\u001b[0;32m    635\u001b[0m             \u001b[1;31m# GH#38939 de facto copy defaults to False only in non-dict cases\u001b[0m\u001b[1;33m\u001b[0m\u001b[1;33m\u001b[0m\u001b[0m\n\u001b[1;32m--> 636\u001b[1;33m             \u001b[0mmgr\u001b[0m \u001b[1;33m=\u001b[0m \u001b[0mdict_to_mgr\u001b[0m\u001b[1;33m(\u001b[0m\u001b[0mdata\u001b[0m\u001b[1;33m,\u001b[0m \u001b[0mindex\u001b[0m\u001b[1;33m,\u001b[0m \u001b[0mcolumns\u001b[0m\u001b[1;33m,\u001b[0m \u001b[0mdtype\u001b[0m\u001b[1;33m=\u001b[0m\u001b[0mdtype\u001b[0m\u001b[1;33m,\u001b[0m \u001b[0mcopy\u001b[0m\u001b[1;33m=\u001b[0m\u001b[0mcopy\u001b[0m\u001b[1;33m,\u001b[0m \u001b[0mtyp\u001b[0m\u001b[1;33m=\u001b[0m\u001b[0mmanager\u001b[0m\u001b[1;33m)\u001b[0m\u001b[1;33m\u001b[0m\u001b[1;33m\u001b[0m\u001b[0m\n\u001b[0m\u001b[0;32m    637\u001b[0m         \u001b[1;32melif\u001b[0m \u001b[0misinstance\u001b[0m\u001b[1;33m(\u001b[0m\u001b[0mdata\u001b[0m\u001b[1;33m,\u001b[0m \u001b[0mma\u001b[0m\u001b[1;33m.\u001b[0m\u001b[0mMaskedArray\u001b[0m\u001b[1;33m)\u001b[0m\u001b[1;33m:\u001b[0m\u001b[1;33m\u001b[0m\u001b[1;33m\u001b[0m\u001b[0m\n\u001b[0;32m    638\u001b[0m             \u001b[1;32mimport\u001b[0m \u001b[0mnumpy\u001b[0m\u001b[1;33m.\u001b[0m\u001b[0mma\u001b[0m\u001b[1;33m.\u001b[0m\u001b[0mmrecords\u001b[0m \u001b[1;32mas\u001b[0m \u001b[0mmrecords\u001b[0m\u001b[1;33m\u001b[0m\u001b[1;33m\u001b[0m\u001b[0m\n",
      "\u001b[1;32mC:\\New folder\\lib\\site-packages\\pandas\\core\\internals\\construction.py\u001b[0m in \u001b[0;36mdict_to_mgr\u001b[1;34m(data, index, columns, dtype, typ, copy)\u001b[0m\n\u001b[0;32m    500\u001b[0m         \u001b[1;31m# TODO: can we get rid of the dt64tz special case above?\u001b[0m\u001b[1;33m\u001b[0m\u001b[1;33m\u001b[0m\u001b[0m\n\u001b[0;32m    501\u001b[0m \u001b[1;33m\u001b[0m\u001b[0m\n\u001b[1;32m--> 502\u001b[1;33m     \u001b[1;32mreturn\u001b[0m \u001b[0marrays_to_mgr\u001b[0m\u001b[1;33m(\u001b[0m\u001b[0marrays\u001b[0m\u001b[1;33m,\u001b[0m \u001b[0mcolumns\u001b[0m\u001b[1;33m,\u001b[0m \u001b[0mindex\u001b[0m\u001b[1;33m,\u001b[0m \u001b[0mdtype\u001b[0m\u001b[1;33m=\u001b[0m\u001b[0mdtype\u001b[0m\u001b[1;33m,\u001b[0m \u001b[0mtyp\u001b[0m\u001b[1;33m=\u001b[0m\u001b[0mtyp\u001b[0m\u001b[1;33m,\u001b[0m \u001b[0mconsolidate\u001b[0m\u001b[1;33m=\u001b[0m\u001b[0mcopy\u001b[0m\u001b[1;33m)\u001b[0m\u001b[1;33m\u001b[0m\u001b[1;33m\u001b[0m\u001b[0m\n\u001b[0m\u001b[0;32m    503\u001b[0m \u001b[1;33m\u001b[0m\u001b[0m\n\u001b[0;32m    504\u001b[0m \u001b[1;33m\u001b[0m\u001b[0m\n",
      "\u001b[1;32mC:\\New folder\\lib\\site-packages\\pandas\\core\\internals\\construction.py\u001b[0m in \u001b[0;36marrays_to_mgr\u001b[1;34m(arrays, columns, index, dtype, verify_integrity, typ, consolidate)\u001b[0m\n\u001b[0;32m    118\u001b[0m         \u001b[1;31m# figure out the index, if necessary\u001b[0m\u001b[1;33m\u001b[0m\u001b[1;33m\u001b[0m\u001b[0m\n\u001b[0;32m    119\u001b[0m         \u001b[1;32mif\u001b[0m \u001b[0mindex\u001b[0m \u001b[1;32mis\u001b[0m \u001b[1;32mNone\u001b[0m\u001b[1;33m:\u001b[0m\u001b[1;33m\u001b[0m\u001b[1;33m\u001b[0m\u001b[0m\n\u001b[1;32m--> 120\u001b[1;33m             \u001b[0mindex\u001b[0m \u001b[1;33m=\u001b[0m \u001b[0m_extract_index\u001b[0m\u001b[1;33m(\u001b[0m\u001b[0marrays\u001b[0m\u001b[1;33m)\u001b[0m\u001b[1;33m\u001b[0m\u001b[1;33m\u001b[0m\u001b[0m\n\u001b[0m\u001b[0;32m    121\u001b[0m         \u001b[1;32melse\u001b[0m\u001b[1;33m:\u001b[0m\u001b[1;33m\u001b[0m\u001b[1;33m\u001b[0m\u001b[0m\n\u001b[0;32m    122\u001b[0m             \u001b[0mindex\u001b[0m \u001b[1;33m=\u001b[0m \u001b[0mensure_index\u001b[0m\u001b[1;33m(\u001b[0m\u001b[0mindex\u001b[0m\u001b[1;33m)\u001b[0m\u001b[1;33m\u001b[0m\u001b[1;33m\u001b[0m\u001b[0m\n",
      "\u001b[1;32mC:\\New folder\\lib\\site-packages\\pandas\\core\\internals\\construction.py\u001b[0m in \u001b[0;36m_extract_index\u001b[1;34m(data)\u001b[0m\n\u001b[0;32m    672\u001b[0m             \u001b[0mlengths\u001b[0m \u001b[1;33m=\u001b[0m \u001b[0mlist\u001b[0m\u001b[1;33m(\u001b[0m\u001b[0mset\u001b[0m\u001b[1;33m(\u001b[0m\u001b[0mraw_lengths\u001b[0m\u001b[1;33m)\u001b[0m\u001b[1;33m)\u001b[0m\u001b[1;33m\u001b[0m\u001b[1;33m\u001b[0m\u001b[0m\n\u001b[0;32m    673\u001b[0m             \u001b[1;32mif\u001b[0m \u001b[0mlen\u001b[0m\u001b[1;33m(\u001b[0m\u001b[0mlengths\u001b[0m\u001b[1;33m)\u001b[0m \u001b[1;33m>\u001b[0m \u001b[1;36m1\u001b[0m\u001b[1;33m:\u001b[0m\u001b[1;33m\u001b[0m\u001b[1;33m\u001b[0m\u001b[0m\n\u001b[1;32m--> 674\u001b[1;33m                 \u001b[1;32mraise\u001b[0m \u001b[0mValueError\u001b[0m\u001b[1;33m(\u001b[0m\u001b[1;34m\"All arrays must be of the same length\"\u001b[0m\u001b[1;33m)\u001b[0m\u001b[1;33m\u001b[0m\u001b[1;33m\u001b[0m\u001b[0m\n\u001b[0m\u001b[0;32m    675\u001b[0m \u001b[1;33m\u001b[0m\u001b[0m\n\u001b[0;32m    676\u001b[0m             \u001b[1;32mif\u001b[0m \u001b[0mhave_dicts\u001b[0m\u001b[1;33m:\u001b[0m\u001b[1;33m\u001b[0m\u001b[1;33m\u001b[0m\u001b[0m\n",
      "\u001b[1;31mValueError\u001b[0m: All arrays must be of the same length"
     ]
    }
   ],
   "source": [
    "Gaming_Laptops=pd.DataFrame({\"Price\":Price, \"OS\":OS,\"Display\":Display,\"Memory\":Memory,\"Processor\":Processor,\n",
    "                 \"Dimension\":Dimension,\"Graphical processor\":Graphics_processor})"
   ]
  },
  {
   "cell_type": "markdown",
   "id": "cdba5d1c",
   "metadata": {},
   "source": [
    "# 8. Write a python program to scrape the details for all billionaires from www.forbes.com. Details to be scrapped: “Rank”, “Name”, “Net worth”, “Age”, “Citizenship”, “Source”, “Industry”\n"
   ]
  },
  {
   "cell_type": "code",
   "execution_count": 122,
   "id": "88dce0e7",
   "metadata": {},
   "outputs": [],
   "source": [
    "import selenium\n",
    "import pandas as pd\n",
    "from selenium import webdriver\n",
    "from selenium.common.exceptions import NoSuchElementException\n",
    "import time\n"
   ]
  },
  {
   "cell_type": "code",
   "execution_count": 124,
   "id": "7f9103ab",
   "metadata": {},
   "outputs": [],
   "source": [
    "driver=webdriver.Chrome()\n",
    "time.sleep(1)\n",
    "\n",
    "# Opening url in chrome browser\n",
    "url=\"https://www.forbes.com\"\n",
    "driver.get(url)\n",
    "time.sleep(1)\n"
   ]
  },
  {
   "cell_type": "code",
   "execution_count": 130,
   "id": "8ac66c4f",
   "metadata": {},
   "outputs": [
    {
     "ename": "StaleElementReferenceException",
     "evalue": "Message: stale element reference: stale element not found\n  (Session info: chrome=116.0.5845.111); For documentation on this error, please visit: https://www.selenium.dev/documentation/webdriver/troubleshooting/errors#stale-element-reference-exception\nStacktrace:\n\tGetHandleVerifier [0x00007FF6CC4752A2+57122]\n\t(No symbol) [0x00007FF6CC3EEA92]\n\t(No symbol) [0x00007FF6CC2BE3AB]\n\t(No symbol) [0x00007FF6CC2C2382]\n\t(No symbol) [0x00007FF6CC2C3D2F]\n\t(No symbol) [0x00007FF6CC2C3E20]\n\t(No symbol) [0x00007FF6CC2F94CC]\n\t(No symbol) [0x00007FF6CC2F8AD5]\n\t(No symbol) [0x00007FF6CC2EF25F]\n\t(No symbol) [0x00007FF6CC316FDA]\n\t(No symbol) [0x00007FF6CC2EEB76]\n\t(No symbol) [0x00007FF6CC3171F0]\n\t(No symbol) [0x00007FF6CC32EB82]\n\t(No symbol) [0x00007FF6CC316DB3]\n\t(No symbol) [0x00007FF6CC2ED2B1]\n\t(No symbol) [0x00007FF6CC2EE494]\n\tGetHandleVerifier [0x00007FF6CC71EF82+2849794]\n\tGetHandleVerifier [0x00007FF6CC771D24+3189156]\n\tGetHandleVerifier [0x00007FF6CC76ACAF+3160367]\n\tGetHandleVerifier [0x00007FF6CC506D06+653702]\n\t(No symbol) [0x00007FF6CC3FA208]\n\t(No symbol) [0x00007FF6CC3F62C4]\n\t(No symbol) [0x00007FF6CC3F63F6]\n\t(No symbol) [0x00007FF6CC3E67A3]\n\tBaseThreadInitThunk [0x00007FF9B5C37614+20]\n\tRtlUserThreadStart [0x00007FF9B7A626B1+33]\n",
     "output_type": "error",
     "traceback": [
      "\u001b[1;31m---------------------------------------------------------------------------\u001b[0m",
      "\u001b[1;31mStaleElementReferenceException\u001b[0m            Traceback (most recent call last)",
      "\u001b[1;32m~\\AppData\\Local\\Temp\\ipykernel_6200\\2161081984.py\u001b[0m in \u001b[0;36m<module>\u001b[1;34m\u001b[0m\n\u001b[0;32m      3\u001b[0m \u001b[1;33m\u001b[0m\u001b[0m\n\u001b[0;32m      4\u001b[0m \u001b[1;31m# Clicking on Billionaire category\u001b[0m\u001b[1;33m\u001b[0m\u001b[1;33m\u001b[0m\u001b[0m\n\u001b[1;32m----> 5\u001b[1;33m \u001b[0mdriver\u001b[0m\u001b[1;33m.\u001b[0m\u001b[0mfind_element\u001b[0m\u001b[1;33m(\u001b[0m\u001b[0mBy\u001b[0m\u001b[1;33m.\u001b[0m\u001b[0mXPATH\u001b[0m\u001b[1;33m,\u001b[0m\u001b[1;34m'//ul[@class=\"E-S7Afho\"]/li[1]'\u001b[0m\u001b[1;33m)\u001b[0m\u001b[1;33m.\u001b[0m\u001b[0mclick\u001b[0m\u001b[1;33m(\u001b[0m\u001b[1;33m)\u001b[0m\u001b[1;33m\u001b[0m\u001b[1;33m\u001b[0m\u001b[0m\n\u001b[0m\u001b[0;32m      6\u001b[0m \u001b[1;33m\u001b[0m\u001b[0m\n\u001b[0;32m      7\u001b[0m \u001b[1;31m# Clicking on world billionaire tab\u001b[0m\u001b[1;33m\u001b[0m\u001b[1;33m\u001b[0m\u001b[0m\n",
      "\u001b[1;32m~\\AppData\\Roaming\\Python\\Python39\\site-packages\\selenium\\webdriver\\remote\\webelement.py\u001b[0m in \u001b[0;36mclick\u001b[1;34m(self)\u001b[0m\n\u001b[0;32m     92\u001b[0m     \u001b[1;32mdef\u001b[0m \u001b[0mclick\u001b[0m\u001b[1;33m(\u001b[0m\u001b[0mself\u001b[0m\u001b[1;33m)\u001b[0m \u001b[1;33m->\u001b[0m \u001b[1;32mNone\u001b[0m\u001b[1;33m:\u001b[0m\u001b[1;33m\u001b[0m\u001b[1;33m\u001b[0m\u001b[0m\n\u001b[0;32m     93\u001b[0m         \u001b[1;34m\"\"\"Clicks the element.\"\"\"\u001b[0m\u001b[1;33m\u001b[0m\u001b[1;33m\u001b[0m\u001b[0m\n\u001b[1;32m---> 94\u001b[1;33m         \u001b[0mself\u001b[0m\u001b[1;33m.\u001b[0m\u001b[0m_execute\u001b[0m\u001b[1;33m(\u001b[0m\u001b[0mCommand\u001b[0m\u001b[1;33m.\u001b[0m\u001b[0mCLICK_ELEMENT\u001b[0m\u001b[1;33m)\u001b[0m\u001b[1;33m\u001b[0m\u001b[1;33m\u001b[0m\u001b[0m\n\u001b[0m\u001b[0;32m     95\u001b[0m \u001b[1;33m\u001b[0m\u001b[0m\n\u001b[0;32m     96\u001b[0m     \u001b[1;32mdef\u001b[0m \u001b[0msubmit\u001b[0m\u001b[1;33m(\u001b[0m\u001b[0mself\u001b[0m\u001b[1;33m)\u001b[0m\u001b[1;33m:\u001b[0m\u001b[1;33m\u001b[0m\u001b[1;33m\u001b[0m\u001b[0m\n",
      "\u001b[1;32m~\\AppData\\Roaming\\Python\\Python39\\site-packages\\selenium\\webdriver\\remote\\webelement.py\u001b[0m in \u001b[0;36m_execute\u001b[1;34m(self, command, params)\u001b[0m\n\u001b[0;32m    393\u001b[0m             \u001b[0mparams\u001b[0m \u001b[1;33m=\u001b[0m \u001b[1;33m{\u001b[0m\u001b[1;33m}\u001b[0m\u001b[1;33m\u001b[0m\u001b[1;33m\u001b[0m\u001b[0m\n\u001b[0;32m    394\u001b[0m         \u001b[0mparams\u001b[0m\u001b[1;33m[\u001b[0m\u001b[1;34m\"id\"\u001b[0m\u001b[1;33m]\u001b[0m \u001b[1;33m=\u001b[0m \u001b[0mself\u001b[0m\u001b[1;33m.\u001b[0m\u001b[0m_id\u001b[0m\u001b[1;33m\u001b[0m\u001b[1;33m\u001b[0m\u001b[0m\n\u001b[1;32m--> 395\u001b[1;33m         \u001b[1;32mreturn\u001b[0m \u001b[0mself\u001b[0m\u001b[1;33m.\u001b[0m\u001b[0m_parent\u001b[0m\u001b[1;33m.\u001b[0m\u001b[0mexecute\u001b[0m\u001b[1;33m(\u001b[0m\u001b[0mcommand\u001b[0m\u001b[1;33m,\u001b[0m \u001b[0mparams\u001b[0m\u001b[1;33m)\u001b[0m\u001b[1;33m\u001b[0m\u001b[1;33m\u001b[0m\u001b[0m\n\u001b[0m\u001b[0;32m    396\u001b[0m \u001b[1;33m\u001b[0m\u001b[0m\n\u001b[0;32m    397\u001b[0m     \u001b[1;32mdef\u001b[0m \u001b[0mfind_element\u001b[0m\u001b[1;33m(\u001b[0m\u001b[0mself\u001b[0m\u001b[1;33m,\u001b[0m \u001b[0mby\u001b[0m\u001b[1;33m=\u001b[0m\u001b[0mBy\u001b[0m\u001b[1;33m.\u001b[0m\u001b[0mID\u001b[0m\u001b[1;33m,\u001b[0m \u001b[0mvalue\u001b[0m\u001b[1;33m=\u001b[0m\u001b[1;32mNone\u001b[0m\u001b[1;33m)\u001b[0m \u001b[1;33m->\u001b[0m \u001b[0mWebElement\u001b[0m\u001b[1;33m:\u001b[0m\u001b[1;33m\u001b[0m\u001b[1;33m\u001b[0m\u001b[0m\n",
      "\u001b[1;32m~\\AppData\\Roaming\\Python\\Python39\\site-packages\\selenium\\webdriver\\remote\\webdriver.py\u001b[0m in \u001b[0;36mexecute\u001b[1;34m(self, driver_command, params)\u001b[0m\n\u001b[0;32m    343\u001b[0m         \u001b[0mresponse\u001b[0m \u001b[1;33m=\u001b[0m \u001b[0mself\u001b[0m\u001b[1;33m.\u001b[0m\u001b[0mcommand_executor\u001b[0m\u001b[1;33m.\u001b[0m\u001b[0mexecute\u001b[0m\u001b[1;33m(\u001b[0m\u001b[0mdriver_command\u001b[0m\u001b[1;33m,\u001b[0m \u001b[0mparams\u001b[0m\u001b[1;33m)\u001b[0m\u001b[1;33m\u001b[0m\u001b[1;33m\u001b[0m\u001b[0m\n\u001b[0;32m    344\u001b[0m         \u001b[1;32mif\u001b[0m \u001b[0mresponse\u001b[0m\u001b[1;33m:\u001b[0m\u001b[1;33m\u001b[0m\u001b[1;33m\u001b[0m\u001b[0m\n\u001b[1;32m--> 345\u001b[1;33m             \u001b[0mself\u001b[0m\u001b[1;33m.\u001b[0m\u001b[0merror_handler\u001b[0m\u001b[1;33m.\u001b[0m\u001b[0mcheck_response\u001b[0m\u001b[1;33m(\u001b[0m\u001b[0mresponse\u001b[0m\u001b[1;33m)\u001b[0m\u001b[1;33m\u001b[0m\u001b[1;33m\u001b[0m\u001b[0m\n\u001b[0m\u001b[0;32m    346\u001b[0m             \u001b[0mresponse\u001b[0m\u001b[1;33m[\u001b[0m\u001b[1;34m\"value\"\u001b[0m\u001b[1;33m]\u001b[0m \u001b[1;33m=\u001b[0m \u001b[0mself\u001b[0m\u001b[1;33m.\u001b[0m\u001b[0m_unwrap_value\u001b[0m\u001b[1;33m(\u001b[0m\u001b[0mresponse\u001b[0m\u001b[1;33m.\u001b[0m\u001b[0mget\u001b[0m\u001b[1;33m(\u001b[0m\u001b[1;34m\"value\"\u001b[0m\u001b[1;33m,\u001b[0m \u001b[1;32mNone\u001b[0m\u001b[1;33m)\u001b[0m\u001b[1;33m)\u001b[0m\u001b[1;33m\u001b[0m\u001b[1;33m\u001b[0m\u001b[0m\n\u001b[0;32m    347\u001b[0m             \u001b[1;32mreturn\u001b[0m \u001b[0mresponse\u001b[0m\u001b[1;33m\u001b[0m\u001b[1;33m\u001b[0m\u001b[0m\n",
      "\u001b[1;32m~\\AppData\\Roaming\\Python\\Python39\\site-packages\\selenium\\webdriver\\remote\\errorhandler.py\u001b[0m in \u001b[0;36mcheck_response\u001b[1;34m(self, response)\u001b[0m\n\u001b[0;32m    227\u001b[0m                 \u001b[0malert_text\u001b[0m \u001b[1;33m=\u001b[0m \u001b[0mvalue\u001b[0m\u001b[1;33m[\u001b[0m\u001b[1;34m\"alert\"\u001b[0m\u001b[1;33m]\u001b[0m\u001b[1;33m.\u001b[0m\u001b[0mget\u001b[0m\u001b[1;33m(\u001b[0m\u001b[1;34m\"text\"\u001b[0m\u001b[1;33m)\u001b[0m\u001b[1;33m\u001b[0m\u001b[1;33m\u001b[0m\u001b[0m\n\u001b[0;32m    228\u001b[0m             \u001b[1;32mraise\u001b[0m \u001b[0mexception_class\u001b[0m\u001b[1;33m(\u001b[0m\u001b[0mmessage\u001b[0m\u001b[1;33m,\u001b[0m \u001b[0mscreen\u001b[0m\u001b[1;33m,\u001b[0m \u001b[0mstacktrace\u001b[0m\u001b[1;33m,\u001b[0m \u001b[0malert_text\u001b[0m\u001b[1;33m)\u001b[0m  \u001b[1;31m# type: ignore[call-arg]  # mypy is not smart enough here\u001b[0m\u001b[1;33m\u001b[0m\u001b[1;33m\u001b[0m\u001b[0m\n\u001b[1;32m--> 229\u001b[1;33m         \u001b[1;32mraise\u001b[0m \u001b[0mexception_class\u001b[0m\u001b[1;33m(\u001b[0m\u001b[0mmessage\u001b[0m\u001b[1;33m,\u001b[0m \u001b[0mscreen\u001b[0m\u001b[1;33m,\u001b[0m \u001b[0mstacktrace\u001b[0m\u001b[1;33m)\u001b[0m\u001b[1;33m\u001b[0m\u001b[1;33m\u001b[0m\u001b[0m\n\u001b[0m",
      "\u001b[1;31mStaleElementReferenceException\u001b[0m: Message: stale element reference: stale element not found\n  (Session info: chrome=116.0.5845.111); For documentation on this error, please visit: https://www.selenium.dev/documentation/webdriver/troubleshooting/errors#stale-element-reference-exception\nStacktrace:\n\tGetHandleVerifier [0x00007FF6CC4752A2+57122]\n\t(No symbol) [0x00007FF6CC3EEA92]\n\t(No symbol) [0x00007FF6CC2BE3AB]\n\t(No symbol) [0x00007FF6CC2C2382]\n\t(No symbol) [0x00007FF6CC2C3D2F]\n\t(No symbol) [0x00007FF6CC2C3E20]\n\t(No symbol) [0x00007FF6CC2F94CC]\n\t(No symbol) [0x00007FF6CC2F8AD5]\n\t(No symbol) [0x00007FF6CC2EF25F]\n\t(No symbol) [0x00007FF6CC316FDA]\n\t(No symbol) [0x00007FF6CC2EEB76]\n\t(No symbol) [0x00007FF6CC3171F0]\n\t(No symbol) [0x00007FF6CC32EB82]\n\t(No symbol) [0x00007FF6CC316DB3]\n\t(No symbol) [0x00007FF6CC2ED2B1]\n\t(No symbol) [0x00007FF6CC2EE494]\n\tGetHandleVerifier [0x00007FF6CC71EF82+2849794]\n\tGetHandleVerifier [0x00007FF6CC771D24+3189156]\n\tGetHandleVerifier [0x00007FF6CC76ACAF+3160367]\n\tGetHandleVerifier [0x00007FF6CC506D06+653702]\n\t(No symbol) [0x00007FF6CC3FA208]\n\t(No symbol) [0x00007FF6CC3F62C4]\n\t(No symbol) [0x00007FF6CC3F63F6]\n\t(No symbol) [0x00007FF6CC3E67A3]\n\tBaseThreadInitThunk [0x00007FF9B5C37614+20]\n\tRtlUserThreadStart [0x00007FF9B7A626B1+33]\n"
     ]
    }
   ],
   "source": [
    "# Clicking on explore button to expand menu\n",
    "driver.find_element(By.XPATH,'//div[@class=\"_69hVhdY4\"]').click()\n",
    "\n",
    "# Clicking on Billionaire category\n",
    "driver.find_element(By.XPATH,'//ul[@class=\"E-S7Afho\"]/li[1]').click()\n",
    "\n",
    "# Clicking on world billionaire tab\n",
    "driver.find_element(By.XPATH,'//ul[@class=\"E-S7Afho\"]/li[1]/div[2]').click()"
   ]
  },
  {
   "cell_type": "code",
   "execution_count": null,
   "id": "674c5026",
   "metadata": {},
   "outputs": [],
   "source": [
    "Rank =[]\n",
    "Name=[]\n",
    "Net_worth=[]\n",
    "Age=[]\n",
    "Citizenship=[]\n",
    "Source=[]\n",
    "Industry=[]"
   ]
  },
  {
   "cell_type": "code",
   "execution_count": null,
   "id": "b19e9b9c",
   "metadata": {},
   "outputs": [],
   "source": [
    "rank=driver.find_elements_by_xpath('//div[@class=\"rank\"]')\n",
    "for i in rank:\n",
    "    Rank.append(i.text)\n"
   ]
  },
  {
   "cell_type": "code",
   "execution_count": null,
   "id": "164e1b77",
   "metadata": {},
   "outputs": [],
   "source": [
    "name=driver.find_elements_by_xpath('//div[@class=\"personName\"]/div')\n",
    "for i in name:\n",
    "    Name.append(i.text)"
   ]
  },
  {
   "cell_type": "code",
   "execution_count": null,
   "id": "f5919076",
   "metadata": {},
   "outputs": [],
   "source": [
    "net=driver.find_elements_by_xpath('//div[@class=\"netWorth\"]/div')\n",
    "for i in net:\n",
    "    Net_worth.append(i.text)\n"
   ]
  },
  {
   "cell_type": "code",
   "execution_count": null,
   "id": "b9308609",
   "metadata": {},
   "outputs": [],
   "source": [
    "age=driver.find_elements_by_xpath('//div[@class=\"age\"]/div')\n",
    "for i in age:\n",
    "    Age.append(i.text)"
   ]
  },
  {
   "cell_type": "code",
   "execution_count": null,
   "id": "2c3315d1",
   "metadata": {},
   "outputs": [],
   "source": [
    "citizen=driver.find_elements_by_xpath('//div[@class=\"countryOfCitizenship\"]')\n",
    "for i in citizen:\n",
    "    Citizenship.append(i.text)\n"
   ]
  },
  {
   "cell_type": "code",
   "execution_count": null,
   "id": "89099f85",
   "metadata": {},
   "outputs": [],
   "source": [
    "try:\n",
    "    source=driver.find_elements_by_xpath('//div[@class=\"source-column\"]')\n",
    "    for i in source:\n",
    "        Source.append(i.text)\n",
    "except:\n",
    "    source=driver.find_elements_by_xpath('//*[@id=\"jeff-bezos\"]/div[6]/div/div[1]')\n",
    "    Source.append(i.text)"
   ]
  },
  {
   "cell_type": "code",
   "execution_count": null,
   "id": "26f0876d",
   "metadata": {},
   "outputs": [],
   "source": [
    "industry=driver.find_elements_by_xpath(\"//div[@class='category']//div\")\n",
    "for i in industry:\n",
    "    Industry.append(i.text)"
   ]
  },
  {
   "cell_type": "code",
   "execution_count": null,
   "id": "a880a83d",
   "metadata": {},
   "outputs": [],
   "source": [
    "Forbes_list=pd.DataFrame({'Rank':Rank,'Name':Name,'Net Worth':Net_worth,'Age':Age,'Citizenship':Citizenship,\n",
    "                'Source':Source,'Industry':Industry})\n",
    "print('\\033[1m'+' Forbes World Billionaires List Oct 2021 :'+'\\033[0m')\n",
    "Forbes_list\n"
   ]
  },
  {
   "cell_type": "code",
   "execution_count": null,
   "id": "8a257165",
   "metadata": {},
   "outputs": [],
   "source": []
  },
  {
   "cell_type": "code",
   "execution_count": null,
   "id": "287411e9",
   "metadata": {},
   "outputs": [],
   "source": []
  },
  {
   "cell_type": "code",
   "execution_count": null,
   "id": "404cb171",
   "metadata": {},
   "outputs": [],
   "source": []
  },
  {
   "cell_type": "code",
   "execution_count": null,
   "id": "dfe07521",
   "metadata": {},
   "outputs": [],
   "source": []
  },
  {
   "cell_type": "code",
   "execution_count": null,
   "id": "beae0fb9",
   "metadata": {},
   "outputs": [],
   "source": []
  },
  {
   "cell_type": "code",
   "execution_count": null,
   "id": "23bb0da9",
   "metadata": {},
   "outputs": [],
   "source": []
  },
  {
   "cell_type": "code",
   "execution_count": null,
   "id": "e93958e5",
   "metadata": {},
   "outputs": [],
   "source": []
  },
  {
   "cell_type": "code",
   "execution_count": null,
   "id": "77bd34fa",
   "metadata": {},
   "outputs": [],
   "source": []
  },
  {
   "cell_type": "code",
   "execution_count": null,
   "id": "cf7f9489",
   "metadata": {},
   "outputs": [],
   "source": []
  },
  {
   "cell_type": "code",
   "execution_count": null,
   "id": "f91d277b",
   "metadata": {},
   "outputs": [],
   "source": []
  }
 ],
 "metadata": {
  "kernelspec": {
   "display_name": "Python 3 (ipykernel)",
   "language": "python",
   "name": "python3"
  },
  "language_info": {
   "codemirror_mode": {
    "name": "ipython",
    "version": 3
   },
   "file_extension": ".py",
   "mimetype": "text/x-python",
   "name": "python",
   "nbconvert_exporter": "python",
   "pygments_lexer": "ipython3",
   "version": "3.9.13"
  }
 },
 "nbformat": 4,
 "nbformat_minor": 5
}
